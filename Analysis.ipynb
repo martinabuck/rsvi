{
 "cells": [
  {
   "cell_type": "code",
   "execution_count": 1,
   "id": "ad94b32c-cc37-4f3e-8a22-c146eaad86b2",
   "metadata": {},
   "outputs": [],
   "source": [
    "# enables the use of R code in a cell after writing \"%%R making it an cell for R code \n",
    "%load_ext rpy2.ipython   "
   ]
  },
  {
   "cell_type": "code",
   "execution_count": 2,
   "id": "e6062f94-8dde-4460-b6cd-e4e289dd2ddb",
   "metadata": {},
   "outputs": [],
   "source": [
    "%%R \n",
    "# path_rbeni = \"/home/martina/SynologyDrive/MasterThesis/rsvi/data/rbeni-master/\"\n",
    "# path_ingestr = \"/home/martina/SynologyDrive/MasterThesis/rsvi/data/ingestr-master/\"\n",
    "path_rbeni = \"/home/zhud/wsl/MasterThesis/rsvi/data/rbeni-master/\"\n",
    "path_ingestr = \"/home/zhud/wsl/MasterThesis/rsvi/data/ingestr-master/\""
   ]
  },
  {
   "cell_type": "code",
   "execution_count": 3,
   "id": "15a5b4d2-ed47-475d-84f3-d13a79fb0f5a",
   "metadata": {
    "scrolled": true
   },
   "outputs": [
    {
     "name": "stderr",
     "output_type": "stream",
     "text": [
      "Failed to create bus connection: No such file or directory\n"
     ]
    }
   ],
   "source": [
    "%%capture\n",
    "%%R \n",
    "# %R [-i INPUT] [-o OUTPUT] [-n] [-w WIDTH] [-h HEIGHT] [-p POINTSIZE]\n",
    "#    [-b BG] [–noisolation] [-u {px,in,cm,mm}] [-r RES] [–type {cairo,cairo-png,Xlib,quartz}] [-c CONVERTER] [-d DISPLAY] [code [code …]]\n",
    "# https://rpy2.github.io/doc/latest/html/interactive.html\n",
    "# nothing is returned to python by default in cell mode %%R\n",
    "# %Rpull\n",
    "#    %Rpull [outputs [outputs …]]\n",
    "#%Rget\n",
    "#    %Rget output\n",
    "# %%capture is here because rbeni plots something\n",
    "\n",
    "source(\"remove_outliers.R\")      # code from predecessors\n",
    "source(\"gather_data.R\")\n",
    "source(\"gather_data_bands.R\")\n",
    "source(\"align_events.R\")\n",
    "# source(\"plot_rsvi.R\")          # not used anymore? should they be deleted?\n",
    "# source(\"plot_compare.R\")\n",
    "# source(\"rsvi_sites.R\")\n",
    "# source(\"add_scaled_rsvi.R\")\n",
    "# source(\"add_normalised_rsvi.R\")\n",
    "source(\"MOD09_MODOC_filter.R\")\n",
    "source(\"wrap_ml.R\")\n",
    "\n",
    "library(dplyr)                  # not available packages can be installed over R / R studio\n",
    "library(lubridate)              # https://rpy2.github.io/doc/v2.9.x/html/robjects_rpackages.html\n",
    "library(readr)\n",
    "library(ggplot2)\n",
    "library(tidyr)                  # for the not so simple vignette\n",
    "library(caret)\n",
    "library(tidyverse)              \n",
    "library(yardstick)     \n",
    "library(recipes)\n",
    "library(caret)\n",
    "library(binaryLogic)\n",
    "library(patchwork)\n",
    "library(LSD)\n",
    "library(ggthemes)\n",
    "library(RColorBrewer)\n",
    "library(devtools)\n",
    "devtools::load_all(path_rbeni)\n",
    "library(rbeni)                                       \n",
    "devtools::load_all(path_ingestr)\n",
    "library(ingestr)\n",
    "library(stringr)\n",
    "\n",
    "# Shortcut N2:\n",
    "# load(\"./data/ddf_v5.Rdata\")\n",
    "# load(\"./data/metainfo_Tier1_sites_kgclimate_fluxnet2015.Rdata\")\n",
    "\n",
    "# Preprocessed data (subset for homogeneous sites, filtered by quality, merged with flue data and towres data)\n",
    "load(\"./data/obs_eval_NT.Rdata\")    # for site and date contains information about: fapar <dbl>, ccov_cru_int <dbl>, temp_fluxnet2015 <dbl>, prec_fluxnet2015 <dbl>,\n",
    "                                    #                                              vpd_fluxnet2015 <dbl>, ppfd_fluxnet2015 <dbl>, gpp_obs <dbl>,\n",
    "                                    #                                              transp_obs <dbl>, soilm_obs_mean <dbl>, temp <dbl>, GPP_NT_VUT_REF <dbl>,\n",
    "                                    #                                              GPP_DT_VUT_REF <dbl>, year <dbl>"
   ]
  },
  {
   "cell_type": "markdown",
   "id": "4e36a78a-b030-4d7e-ae9a-21f05a284abd",
   "metadata": {},
   "source": [
    "# Analysis"
   ]
  },
  {
   "cell_type": "markdown",
   "id": "45fab5a0-39f2-456e-8f8b-1591b7358445",
   "metadata": {},
   "source": [
    "### Site selection and complement data with flue data\n",
    "Subset homogenous sites. Selection of sites is based on whether sites could be allocated to clusters in Stocker et al. (2018) and based on the selection by Manuela Balzarolo (see `site_selection_rsvi.Rmd`).\n",
    "Get fLUE Stocker et al., 2018 publicly available data here: https://zenodo.org/record/1158524#.W_bNMZNKjOQ"
   ]
  },
  {
   "cell_type": "code",
   "execution_count": 4,
   "id": "4126b1ee-b451-49b1-8cc2-132705e022ed",
   "metadata": {
    "scrolled": true,
    "tags": []
   },
   "outputs": [
    {
     "name": "stdout",
     "output_type": "stream",
     "text": [
      "Rows: 241826 Columns: 26\n",
      "── Column specification ────────────────────────────────────────────────────────\n",
      "Delimiter: \",\"\n",
      "chr  (1): sites\n",
      "dbl (25): YY, MM, DD, lst_aqua, b01, b02, b03, b04, b05, b06, b07, b08, b09,...\n",
      "\n",
      "ℹ Use `spec()` to retrieve the full column specification for this data.\n",
      "ℹ Specify the column types or set `show_col_types = FALSE` to quiet this message.\n",
      "Rows: 31 Columns: 15\n",
      "── Column specification ────────────────────────────────────────────────────────\n",
      "Delimiter: \",\"\n",
      "chr (5): sitename, cluster, classid, koeppen_code, koeppen_code_extr\n",
      "dbl (8): lon, lat, elv, year_start, year_end, years_data, whc, kgnumber\n",
      "lgl (2): c4, homogenous_mbalzarolo\n",
      "\n",
      "ℹ Use `spec()` to retrieve the full column specification for this data.\n",
      "ℹ Specify the column types or set `show_col_types = FALSE` to quiet this message.\n",
      "Rows: 233369 Columns: 7\n",
      "── Column specification ────────────────────────────────────────────────────────\n",
      "Delimiter: \",\"\n",
      "chr  (2): site, cluster\n",
      "dbl  (3): year, doy, flue\n",
      "lgl  (1): is_flue_drought\n",
      "date (1): date\n",
      "\n",
      "ℹ Use `spec()` to retrieve the full column specification for this data.\n",
      "ℹ Specify the column types or set `show_col_types = FALSE` to quiet this message.\n",
      "     site                date                 flue       is_flue_drought\n",
      " Length:105990      Min.   :2000-02-24   Min.   :-0.25   Mode :logical  \n",
      " Class :character   1st Qu.:2005-04-25   1st Qu.: 0.84   FALSE:71850    \n",
      " Mode  :character   Median :2008-10-02   Median : 0.98   TRUE :29386    \n",
      "                    Mean   :2008-05-16   Mean   : 0.91   NA's :4754     \n",
      "                    3rd Qu.:2011-08-26   3rd Qu.: 1.01                  \n",
      "                    Max.   :2014-12-30   Max.   : 2.10                  \n",
      "                                         NA's   :41766                  \n",
      "       YY             MM              DD           lst_aqua    \n",
      " Min.   :2000   Min.   : 1.00   Min.   : 1.00   Min.   :243.8  \n",
      " 1st Qu.:2005   1st Qu.: 4.00   1st Qu.: 8.00   1st Qu.:289.2  \n",
      " Median :2008   Median : 7.00   Median :16.00   Median :298.2  \n",
      " Mean   :2008   Mean   : 6.55   Mean   :15.71   Mean   :298.5  \n",
      " 3rd Qu.:2011   3rd Qu.:10.00   3rd Qu.:23.00   3rd Qu.:308.5  \n",
      " Max.   :2014   Max.   :12.00   Max.   :31.00   Max.   :337.1  \n",
      "                                                NA's   :66743  \n",
      "      b01               b02                b03               b04         \n",
      " Min.   :  -47.5   Min.   :  -55.75   Min.   :  -51.0   Min.   :  -38.5  \n",
      " 1st Qu.:  664.0   1st Qu.: 2454.81   1st Qu.:  357.2   1st Qu.:  653.8  \n",
      " Median : 1800.9   Median : 3462.75   Median : 1428.8   Median : 1634.1  \n",
      " Mean   : 3018.8   Mean   : 4146.92   Mean   : 2847.9   Mean   : 3015.9  \n",
      " 3rd Qu.: 5230.5   3rd Qu.: 5607.00   3rd Qu.: 5296.0   3rd Qu.: 5299.8  \n",
      " Max.   :15700.8   Max.   :16000.00   Max.   :14256.2   Max.   :15445.8  \n",
      " NA's   :5572      NA's   :4696       NA's   :6141      NA's   :5654     \n",
      "      b05               b06                b07              b08        \n",
      " Min.   :   -9.5   Min.   :   45.25   Min.   :  12.0   Min.   :-0.010  \n",
      " 1st Qu.: 2660.5   1st Qu.: 1720.00   1st Qu.: 812.2   1st Qu.: 0.023  \n",
      " Median : 3539.2   Median : 2563.75   Median :1507.8   Median : 0.082  \n",
      " Mean   : 3975.4   Mean   : 2854.46   Mean   :1767.7   Mean   : 0.240  \n",
      " 3rd Qu.: 5230.6   3rd Qu.: 3768.50   3rd Qu.:2490.2   3rd Qu.: 0.444  \n",
      " Max.   :14784.0   Max.   :14967.00   Max.   :9997.0   Max.   : 1.334  \n",
      " NA's   :7755      NA's   :4650       NA's   :4645     NA's   :6297    \n",
      "      b09              b10              b11              b12        \n",
      " Min.   :-0.010   Min.   :-0.010   Min.   :-0.010   Min.   :-0.010  \n",
      " 1st Qu.: 0.015   1st Qu.:-0.010   1st Qu.:-0.010   1st Qu.:-0.010  \n",
      " Median : 0.041   Median : 0.031   Median : 0.035   Median : 0.032  \n",
      " Mean   : 0.152   Mean   : 0.087   Mean   : 0.067   Mean   : 0.058  \n",
      " 3rd Qu.: 0.202   3rd Qu.: 0.085   3rd Qu.: 0.081   3rd Qu.: 0.075  \n",
      " Max.   : 1.267   Max.   : 1.282   Max.   : 1.256   Max.   : 1.254  \n",
      " NA's   :7519     NA's   :7410     NA's   :6018     NA's   :5877    \n",
      "      b13              b14              b15             b16       \n",
      " Min.   :-0.010   Min.   :-0.010   Min.   :0.00    Min.   :   5   \n",
      " 1st Qu.:-0.010   1st Qu.:-0.010   1st Qu.:0.09    1st Qu.:1187   \n",
      " Median :-0.010   Median :-0.010   Median :0.13    Median :1645   \n",
      " Mean   : 0.009   Mean   : 0.014   Mean   :0.16    Mean   :1912   \n",
      " 3rd Qu.: 0.017   3rd Qu.: 0.026   3rd Qu.:0.17    3rd Qu.:2254   \n",
      " Max.   : 1.048   Max.   : 1.041   Max.   :0.83    Max.   :9913   \n",
      " NA's   :7685     NA's   :7477     NA's   :99771   NA's   :98255  \n",
      "      ndvi             evi               cci              pri        \n",
      " Min.   :-0.301   Min.   :-21.974   Min.   :-1.001   Min.   :-0.483  \n",
      " 1st Qu.: 0.033   1st Qu.: -0.058   1st Qu.:-1.000   1st Qu.:-0.058  \n",
      " Median : 0.230   Median :  0.638   Median :-1.000   Median :-0.006  \n",
      " Mean   : 0.307   Mean   :  0.734   Mean   :-1.000   Mean   :-0.015  \n",
      " 3rd Qu.: 0.558   3rd Qu.:  1.645   3rd Qu.:-1.000   3rd Qu.: 0.000  \n",
      " Max.   : 1.268   Max.   : 39.891   Max.   :-0.999   Max.   : 1.546  \n",
      " NA's   :5313     NA's   :13078     NA's   :6512     NA's   :11726   \n",
      "      NIRv       \n",
      " Min.   :-0.083  \n",
      " 1st Qu.: 0.019  \n",
      " Median : 0.066  \n",
      " Mean   : 0.086  \n",
      " 3rd Qu.: 0.130  \n",
      " Max.   : 0.616  \n",
      " NA's   :3775    \n"
     ]
    }
   ],
   "source": [
    "%%R\n",
    "# read in satellite Data\n",
    "# todo: adapt satellite data\n",
    "ddf <- read_csv(\"./data/FLUXNET_MODOCGA_MOD09GA_MYD11A1.csv\") \n",
    "# read in homogeneous sites and use them as a filter for the satellite data\n",
    "df_homo <- read_csv(\"./data/sites2.csv\")\n",
    "ddf <- ddf %>% \n",
    "    dplyr::filter( sites %in% df_homo$sitename) %>%\n",
    "    rename(site = sites) %>%\n",
    "    mutate(date = ymd(paste(as.character(YY), as.character(MM), as.character(DD), sep=\"-\")))\n",
    "# include information about flue and if it is indicating a drought\n",
    "ddf <- read_csv(\"data/flue_stocker18nphyt.csv\") %>% \n",
    "  dplyr::select(site, date, flue, is_flue_drought) %>%\n",
    "  right_join(ddf, by=c(\"site\", \"date\"))\n",
    "summary(ddf)"
   ]
  },
  {
   "cell_type": "code",
   "execution_count": 5,
   "id": "d7209f44-5cee-4740-a566-e42eaaf8d77d",
   "metadata": {},
   "outputs": [],
   "source": [
    "%%R\n",
    "# analyse lst from aqua \n",
    "# at the moment the length of ddf is 12748 \n",
    "# one important factor of summary(ddf) is the number of NA's\n",
    "# ddf_lst_aqua has nearly no datapoints left if b16 and b15 are to be included in the analysis and the NA's are to be removed.\n",
    "# lst also contains quite a bit of NA's is however necessary for the analysis of its use as one of the predicors of flue.\n",
    "ddf_paula <- ddf %>% \n",
    "    select(date, site, flue, is_flue_drought, ndvi, evi, NIRv, cci, pri)\n",
    "ddf_lst_aqua <- ddf %>% \n",
    "    select(date, site, flue, is_flue_drought, lst_aqua, b01, b02, b03, b04, b05, b06, b07, b08, b09, b10, b11, b12, b13, b14, b15, b16) \n",
    "ddf_lst_aqua_b01_to_b14 <- ddf %>% \n",
    "    select(date, site, flue, is_flue_drought, lst_aqua, b01, b02, b03, b04, b05, b06, b07, b08, b09, b10, b11, b12, b13, b14) \n",
    "ddf_lst_aqua_indices <- ddf %>% \n",
    "    select(date, site, flue, is_flue_drought, lst_aqua, ndvi, evi, NIRv, cci, pri)\n",
    "ddf_lst_aqua_bands_for_indices <- ddf %>% \n",
    "    select(date, site, flue, is_flue_drought, lst_aqua, b02, b01, b03, b11, b12) # bands used to calculate indices\n",
    "    \n",
    "# todo: implement results for terra\n",
    "# todo: test how many nan are in each column of ddf_lst_aqua (and the same for terra)\n"
   ]
  },
  {
   "cell_type": "markdown",
   "id": "09cd73c7-1775-4f19-8910-7ee3c6d85407",
   "metadata": {},
   "source": [
    "#### Tidy data\n",
    "\n",
    "Complement info using the meta info of FLUXNET sites provided through rsofun.\n",
    "Includes temperature, APAR, and select only 5 vegetation classes. Clean database, no NA"
   ]
  },
  {
   "cell_type": "code",
   "execution_count": 6,
   "id": "cd767391-0e83-441d-a4be-90c33720d9c3",
   "metadata": {},
   "outputs": [],
   "source": [
    "%%R\n",
    "add_meta_info_and_clean <- function(ddf){\n",
    "\n",
    "    # Vegetation classes\n",
    "    cv <- c(\"ENF\",\"DBF\",\"GRA\",\"EBF\",\"SAV\")\n",
    "\n",
    "    ddf_nn <- ddf %>%\n",
    "        left_join(siteinfo_fluxnet2015 %>% dplyr::select(site=sitename, classid), by = \"site\") %>%\n",
    "        left_join(dplyr::rename(obs_eval_NT$ddf, site=sitename), by=c(\"site\", \"date\")) %>%\n",
    "        mutate (APAR = ppfd_fluxnet2015 * fapar) %>%\n",
    "        dplyr::filter(!is.na(flue)) %>%\n",
    "        # dplyr::select(date, site, is_flue_drought, flue, all_of(dovars), APAR, temp, classid) %>%\n",
    "        mutate(classid=factor(classid), is_flue_drought = factor(is_flue_drought)) %>%\n",
    "        drop_na()\n",
    "\n",
    "    # Subset ONLY 5 classes (cv)\n",
    "    ddf_nn$classid[ddf_nn$classid==\"WSA\"] <- \"SAV\"\n",
    "    ddf_sub <- ddf_nn %>%\n",
    "        dplyr::filter(classid %in% cv) %>% \n",
    "        droplevels()\n",
    "    # deparse(substitute(variableName)) becomes part of the Rdata name\n",
    "    filename <- str_glue('./data/{deparse(substitute(ddf))}_sub.Rdata')\n",
    "    save(ddf_sub, file = filename)\n",
    "}"
   ]
  },
  {
   "cell_type": "code",
   "execution_count": 7,
   "id": "32bc884c-6491-4293-b2e9-792984be3350",
   "metadata": {},
   "outputs": [],
   "source": [
    "%%R\n",
    "# add_meta_info_and_clean(ddf_paula)\n",
    "# add_meta_info_and_clean(ddf_lst_aqua)\n",
    "add_meta_info_and_clean(ddf_lst_aqua_b01_to_b14)\n",
    "# add_meta_info_and_clean(ddf_lst_aqua_indices)\n",
    "# add_meta_info_and_clean(ddf_lst_aqua_bands_for_indices)"
   ]
  },
  {
   "cell_type": "markdown",
   "id": "b1aee850-80f0-4d54-9c84-ae22565d63cd",
   "metadata": {},
   "source": [
    "Predictors and data ready to train (ddf_sub)\n"
   ]
  },
  {
   "cell_type": "code",
   "execution_count": 12,
   "id": "aaf55c75-62ed-461c-b5f4-47113b8e91ea",
   "metadata": {},
   "outputs": [],
   "source": [
    "%%R\n",
    "# load(\"./data/ddf_paula_sub.Rdata\")                      # 2000-10-11 to 2014-12-30, 2923 entries\n",
    "                                                          # Startdatum Aqua: 4. Mai 2002\n",
    "                                                          #                  LST has many missing values\n",
    "# load(\"./data/ddf_lst_aqua_sub.Rdata\")                   \n",
    "load(\"./data/ddf_lst_aqua_b01_to_b14_sub.Rdata\")          # 105,990 entries, 41766 NA flue\n",
    "# load(\"./data/ddf_lst_aqua_indices_sub.Rdata\")           \n",
    "# load(\"./data/ddf_lst_aqua_bands_for_indices_sub.Rdata\") "
   ]
  },
  {
   "cell_type": "code",
   "execution_count": 13,
   "id": "5fdd6641-df92-42ed-9922-5134cf808319",
   "metadata": {},
   "outputs": [],
   "source": [
    "%%R\n",
    "paula                      <- c(\"ndvi\", \"evi\", \"cci\", \"pri\", \"NIRv\", \"APAR\",  \"temp\", \"classid\")\n",
    "lst_aqua_indices           <- c(\"ndvi\", \"evi\", \"cci\", \"pri\", \"NIRv\", \"APAR\", \"lst_aqua\",  \"classid\")\n",
    "lst_aqua_bands_for_indices <- c(\"b01\", \"b02\", \"b03\", \"b11\", \"b12\", \"classid\")\n",
    "lst_aqua                   <- c(\"b01\", \"b02\", \"b03\", \"b04\", \"b05\", \"b06\", \"b07\", \n",
    "                                \"b08\", \"b09\", \"b10\", \"b11\", \"b12\", \"b13\", \"b14\", \"b15\", \"b16\", \n",
    "                                \"lst_aqua\", \"classid\")\n",
    "lst_aqua_b01_to_b14        <- c(\"b01\", \"b02\", \"b03\", \"b04\", \"b05\", \"b06\", \"b07\", \n",
    "                                \"b08\", \"b09\", \"b10\", \"b11\", \"b12\", \"b13\", \"b14\", \n",
    "                                \"lst_aqua\", \"classid\")\n",
    "pred_var <- lst_aqua_b01_to_b14\n",
    "sites <- ddf_sub$site %>% unique()"
   ]
  },
  {
   "cell_type": "markdown",
   "id": "9145b3fc-29cc-4dc6-b575-14d76f81f50e",
   "metadata": {
    "tags": []
   },
   "source": [
    "### Drought classification\n",
    "\n",
    "Predictions of drought or non-drought days.\n",
    "\n",
    "#### Single split (global model)\n",
    "\n",
    "Must be split by site."
   ]
  },
  {
   "cell_type": "code",
   "execution_count": 14,
   "id": "bea796b9-8975-4ac9-a42b-9c25fca747d6",
   "metadata": {
    "scrolled": true
   },
   "outputs": [
    {
     "name": "stdout",
     "output_type": "stream",
     "text": [
      "There are  22 sites and thus nsites_train is 20"
     ]
    }
   ],
   "source": [
    "%%R\n",
    "set.seed(1982)\n",
    "cat(\"There are \",length(sites),\"sites and thus nsites_train is\",length(sites)-2)\n",
    "nsites_train <- floor(0.8*length(sites))\n",
    "sites_train <- sample(sites, nsites_train)\n",
    "df_train <- ddf_sub %>% \n",
    "  dplyr::filter(site %in% sites_train)\n",
    "df_test <- ddf_sub %>% \n",
    "  dplyr::filter(!(site %in% sites_train))"
   ]
  },
  {
   "cell_type": "code",
   "execution_count": 15,
   "id": "7d386286-fdb8-441a-8369-488a7655141b",
   "metadata": {},
   "outputs": [
    {
     "name": "stdout",
     "output_type": "stream",
     "text": [
      " [1] \"AU-Ade\" \"AU-ASM\" \"AU-DaP\" \"AU-DaS\" \"AU-Dry\" \"AU-Stp\" \"AU-Wom\" \"DE-Obe\"\n",
      " [9] \"DE-Tha\" \"FI-Hyy\" \"FR-LBr\" \"IT-Cpz\" \"IT-Ro1\" \"IT-SRo\" \"NL-Loo\" \"RU-Fyo\"\n",
      "[17] \"SD-Dem\" \"US-MMS\" \"US-SRG\" \"US-SRM\" \"US-UMB\" \"US-UMd\"\n"
     ]
    }
   ],
   "source": [
    "%%R\n",
    "sites"
   ]
  },
  {
   "cell_type": "code",
   "execution_count": 16,
   "id": "93df75e6-7dec-41c4-9bbe-89e04bf6d592",
   "metadata": {},
   "outputs": [
    {
     "name": "stdout",
     "output_type": "stream",
     "text": [
      " [1] \"AR-Vir\" \"AU-Ade\" \"AU-ASM\" \"AU-DaP\" \"AU-DaS\" \"AU-Dry\" \"AU-How\" \"AU-Stp\"\n",
      " [9] \"AU-Wom\" \"CH-Lae\" \"DE-Kli\" \"DE-Obe\" \"DE-Spw\" \"DE-Tha\" \"FI-Hyy\" \"FR-Fon\"\n",
      "[17] \"FR-LBr\" \"FR-Pue\" \"IT-Cpz\" \"IT-Ro1\" \"IT-SRo\" \"JP-SMF\" \"NL-Loo\" \"RU-Fyo\"\n",
      "[25] \"SD-Dem\" \"US-Ha1\" \"US-MMS\" \"US-SRG\" \"US-SRM\" \"US-UMB\" \"US-UMd\"\n"
     ]
    }
   ],
   "source": [
    "%%R\n",
    "df_homo$sitename\n",
    "# why are there so little sites left..."
   ]
  },
  {
   "cell_type": "markdown",
   "id": "88829004-ef61-48a0-b0a6-14606d02c204",
   "metadata": {},
   "source": [
    "Train model on a single training set and evaluate on the single testing set from the initial split\n"
   ]
  },
  {
   "cell_type": "code",
   "execution_count": null,
   "id": "20ca1edc-fd5c-4c71-ba1d-fa30e70c3310",
   "metadata": {},
   "outputs": [],
   "source": []
  },
  {
   "cell_type": "code",
   "execution_count": 17,
   "id": "05996394-fc00-4e0d-95d8-23560afb964e",
   "metadata": {},
   "outputs": [],
   "source": [
    "import os\n",
    "if not os.path.exists(\"results\"):\n",
    "    os.makedirs(\"results\")"
   ]
  },
  {
   "cell_type": "code",
   "execution_count": 18,
   "id": "28d9c793-3118-4415-848b-00e4d9f4d2ac",
   "metadata": {},
   "outputs": [
    {
     "name": "stdout",
     "output_type": "stream",
     "text": [
      "./results/modl_is_flue_drought_nnet_GLOBAL_pred.Rdata\n",
      "FALSE\n"
     ]
    }
   ],
   "source": [
    "%%R\n",
    "# Train model on a single training set and evaluate on the single testing set from the initial split\n",
    "filepath  <- str_glue('./results/modl_is_flue_drought_nnet_GLOBAL_{deparse(substitute(pred))}.Rdata')\n",
    "filepath"
   ]
  },
  {
   "cell_type": "markdown",
   "id": "d733a9ab-d786-47c3-a3f3-6b9f0259a1ef",
   "metadata": {},
   "source": [
    "<span style=\"color:red\">**Analysis Task:**</span> \n",
    "- write a more structured To do list.\n",
    "- Use different ML algorithms of wrap_ml, start simpe then use logicaly potential alternatives (gaussian processing - maybe the point sources are too far appart?, ...? ) compare them ? roc curve?\n",
    "- the hydraulic computation presentation was combining point sources and satellite data through machine learning.Can the point source data be reused for the modelling? Even though it aso trained the satellite data. Still it more precise.\n",
    "- roc improvement of including variables?\n",
    "- Consider the time as well\n",
    "- Write something to save the plots"
   ]
  },
  {
   "cell_type": "code",
   "execution_count": 19,
   "id": "bfa38983-9674-4eda-9112-47eb0a772f2d",
   "metadata": {
    "scrolled": true
   },
   "outputs": [
    {
     "name": "stdout",
     "output_type": "stream",
     "text": [
      " Accuracy     Kappa \n",
      "0.7487702 0.5068954 \n"
     ]
    }
   ],
   "source": [
    "%%R\n",
    "# Train model on a single training set and evaluate on the single testing set from the initial split\n",
    "filn <- \"./results/modl_is_flue_drought_nnet_GLOBAL_lst_aqua_b01_to_b14_1.Rdata\"\n",
    "if (!file.exists(filn)){\n",
    "  modl <- wrap_ml( df = df_train,\n",
    "                   nam_target = \"is_flue_drought\",\n",
    "                   nam_group = \"site\",\n",
    "                   method =  \"nnet\",\n",
    "                   train_method = \"myLGOCV\",\n",
    "                   predictors = pred_var,\n",
    "                   tune = FALSE,\n",
    "                   inner = FALSE,\n",
    "                   classification = TRUE\n",
    "                  )\n",
    "  ## save model object\n",
    "  save(modl, file = filn)\n",
    "\n",
    "} else {\n",
    "  load(filn)\n",
    "}\n",
    "\n",
    "df_test$pred <- predict(modl, newdata = df_test)\n",
    "\n",
    "confusionMatrix(data = df_test$pred, reference = df_test$is_flue_drought)\n",
    "postResample(pred = df_test$pred, obs = df_test$is_flue_drought)\n",
    "\n",
    "# is an accuracy of about 70% good? what would be useful. \n",
    "# Should there be a distintion between false positive and false negative?"
   ]
  },
  {
   "cell_type": "code",
   "execution_count": 16,
   "id": "4f7f8735-90c6-4ecb-9c5e-4660b0e07b55",
   "metadata": {},
   "outputs": [
    {
     "name": "stdout",
     "output_type": "stream",
     "text": [
      " Accuracy     Kappa \n",
      "0.7487702 0.5068954 \n"
     ]
    }
   ],
   "source": [
    "%%R\n",
    "df_test$pred <- predict(modl, newdata = df_test)\n",
    "\n",
    "confusionMatrix(data = df_test$pred, reference = df_test$is_flue_drought)\n",
    "postResample(pred = df_test$pred, obs = df_test$is_flue_drought)\n",
    "\n",
    "# is an accuracy of about 70% good? what would be useful. \n",
    "# Should there be a distintion between false positive and false negative?"
   ]
  },
  {
   "cell_type": "markdown",
   "id": "b15c9404-f716-4bdb-a838-f6dce49bf4a3",
   "metadata": {},
   "source": [
    "#### Leave-group-out split \n",
    "\n",
    "This is to assess the variance of evaluation metrics derived from test sets."
   ]
  },
  {
   "cell_type": "code",
   "execution_count": 20,
   "id": "3b49dcdb-f1d2-4d22-bf56-65d824949f54",
   "metadata": {},
   "outputs": [
    {
     "name": "stdout",
     "output_type": "stream",
     "text": [
      "[1] \"training model with leave-site-out: AU-Ade ...\"\n",
      "[1] \"training model with leave-site-out: AU-ASM ...\"\n",
      "[1] \"training model with leave-site-out: AU-DaP ...\"\n",
      "[1] \"training model with leave-site-out: AU-DaS ...\"\n",
      "[1] \"training model with leave-site-out: AU-Dry ...\"\n",
      "[1] \"training model with leave-site-out: AU-Stp ...\"\n",
      "[1] \"training model with leave-site-out: AU-Wom ...\"\n",
      "[1] \"training model with leave-site-out: DE-Obe ...\"\n",
      "[1] \"training model with leave-site-out: DE-Tha ...\"\n",
      "[1] \"training model with leave-site-out: FI-Hyy ...\"\n",
      "[1] \"training model with leave-site-out: FR-LBr ...\"\n",
      "[1] \"training model with leave-site-out: IT-Cpz ...\"\n",
      "[1] \"training model with leave-site-out: IT-Ro1 ...\"\n",
      "[1] \"training model with leave-site-out: IT-SRo ...\"\n",
      "[1] \"training model with leave-site-out: NL-Loo ...\"\n",
      "[1] \"training model with leave-site-out: RU-Fyo ...\"\n",
      "[1] \"training model with leave-site-out: SD-Dem ...\"\n",
      "[1] \"training model with leave-site-out: US-MMS ...\"\n",
      "[1] \"training model with leave-site-out: US-SRG ...\"\n",
      "[1] \"training model with leave-site-out: US-SRM ...\"\n",
      "[1] \"training model with leave-site-out: US-UMB ...\"\n",
      "[1] \"training model with leave-site-out: US-UMd ...\"\n"
     ]
    }
   ],
   "source": [
    "%%R\n",
    "filn <- \"./results/modl_is_flue_drought_nnet_INNER_lst_aqua_b01_to_b14_full.Rdata\"\n",
    "if (!file.exists(filn)){\n",
    "  modl <- wrap_ml( df = ddf_sub,\n",
    "                   nam_target = \"is_flue_drought\",\n",
    "                   nam_group = \"site\",\n",
    "                   method =  \"nnet\",\n",
    "                   train_method = \"myLGOCV\",\n",
    "                   predictors = pred_var,\n",
    "                   tune = FALSE,\n",
    "                   inner = TRUE,\n",
    "                   classification = TRUE\n",
    "                  )\n",
    "  \n",
    "  ## save model object (WARNING: IS A BIT BIG)\n",
    "  save(modl, file = filn)\n",
    "} else {\n",
    "  load(filn)\n",
    "}"
   ]
  },
  {
   "cell_type": "markdown",
   "id": "0f4c7376-17cd-47cc-b31b-eb5f47494767",
   "metadata": {},
   "source": [
    "Get evaluation results across left-out sites from inner loop."
   ]
  },
  {
   "cell_type": "code",
   "execution_count": 21,
   "id": "b57c9efd-575e-4bf1-8b84-a6a8ccb681b2",
   "metadata": {},
   "outputs": [
    {
     "data": {
      "image/png": "[encoded data removed]"
     },
     "metadata": {},
     "output_type": "display_data"
    }
   ],
   "source": [
    "%%R\n",
    "df_inner <- purrr::map(modl, \"results\") %>% \n",
    "  purrr::map_dbl(\"accuracy\") %>% \n",
    "  stack() %>% \n",
    "  dplyr::select(site = ind, accuracy = values) %>% \n",
    "  left_join(\n",
    "    purrr::map(modl, \"results\") %>% \n",
    "      purrr::map_dbl(\"kappa\") %>% \n",
    "      stack() %>% \n",
    "      dplyr::select(site = ind, kappa = values),\n",
    "    by = \"site\"\n",
    "  )\n",
    "\n",
    "df_inner %>% knitr::kable()\n",
    "\n",
    "df_inner %>% \n",
    "  summarise(kappa_mean = mean(kappa), accuracy_mean = mean(accuracy),\n",
    "            kappa_median = median(kappa), accuracy_median = median(accuracy),\n",
    "            kappa_sd = sd(kappa), accuracy_sd = sd(accuracy)) %>% \n",
    "  knitr::kable()\n",
    "# why so little bins? was 5\n",
    "gg1 <- df_inner %>% \n",
    "  ggplot(aes(x = kappa, y = ..count..)) +\n",
    "  geom_histogram(bins = 5) +                       \n",
    "  labs(title = \"Kappa\")\n",
    "\n",
    "gg2 <- df_inner %>% \n",
    "  ggplot(aes(x = accuracy, y = ..count..)) +\n",
    "  geom_histogram(bins = 5) +\n",
    "  labs(title = \"Accuracy\")\n",
    "\n",
    "library(patchwork)\n",
    "gg2 + gg1"
   ]
  },
  {
   "cell_type": "markdown",
   "id": "9bd1083d-bb34-4657-a112-8ffa791c37fe",
   "metadata": {},
   "source": [
    "Combine predictions on test sets from the inner loop (on the single held-out site). This is the most relevant metric here!"
   ]
  },
  {
   "cell_type": "code",
   "execution_count": 22,
   "id": "3206ac68-4b3d-4091-ac1c-7cfb1cc9cc2f",
   "metadata": {},
   "outputs": [
    {
     "name": "stdout",
     "output_type": "stream",
     "text": [
      "Confusion Matrix and Statistics\n",
      "\n",
      "          Reference\n",
      "Prediction FALSE TRUE\n",
      "     FALSE  5790 1707\n",
      "     TRUE   1024 4783\n",
      "                                          \n",
      "               Accuracy : 0.7947          \n",
      "                 95% CI : (0.7878, 0.8016)\n",
      "    No Information Rate : 0.5122          \n",
      "    P-Value [Acc > NIR] : < 2.2e-16       \n",
      "                                          \n",
      "                  Kappa : 0.5882          \n",
      "                                          \n",
      " Mcnemar's Test P-Value : < 2.2e-16       \n",
      "                                          \n",
      "            Sensitivity : 0.7370          \n",
      "            Specificity : 0.8497          \n",
      "         Pos Pred Value : 0.8237          \n",
      "         Neg Pred Value : 0.7723          \n",
      "             Prevalence : 0.4878          \n",
      "         Detection Rate : 0.3595          \n",
      "   Detection Prevalence : 0.4365          \n",
      "      Balanced Accuracy : 0.7934          \n",
      "                                          \n",
      "       'Positive' Class : TRUE            \n",
      "                                          \n"
     ]
    }
   ],
   "source": [
    "%%R\n",
    "df_test_inner <- purrr::map_dfr(modl, \"df_test\")\n",
    "confusionMatrix( data = df_test_inner$pred,\n",
    "                 reference = df_test_inner$is_flue_drought, \n",
    "                 positive = \"TRUE\"\n",
    "                 )"
   ]
  },
  {
   "cell_type": "markdown",
   "id": "5623c4c8-1fdf-4006-a6e4-18eefd2e238f",
   "metadata": {},
   "source": [
    "### Drought magnitude\n",
    "\n",
    "Predictions of drought magnitude.\n",
    "\n",
    "Single split (global model)\n",
    "\n",
    "Must be split by site."
   ]
  },
  {
   "cell_type": "code",
   "execution_count": 23,
   "id": "b35315cc-bc79-4300-b9b9-3fd9fd4f15f9",
   "metadata": {},
   "outputs": [],
   "source": [
    "%%R\n",
    "set.seed(1982)\n",
    "nsites_train <- floor(0.8*length(sites)) #18\n",
    "sites_train <- sample(sites, nsites_train)\n",
    "df_train <- ddf_sub %>% \n",
    "  dplyr::filter(site %in% sites_train)\n",
    "df_test <- ddf_sub %>% \n",
    "  dplyr::filter(!(site %in% sites_train))"
   ]
  },
  {
   "cell_type": "markdown",
   "id": "50b6f127-32c4-4276-8b82-cfc9f39f8d8b",
   "metadata": {},
   "source": [
    "Train model on a single training set and evaluate on the single testing set from the initial split\n"
   ]
  },
  {
   "cell_type": "code",
   "execution_count": 24,
   "id": "54a4f676-f039-405f-a2f5-da069b328be4",
   "metadata": {},
   "outputs": [
    {
     "name": "stdout",
     "output_type": "stream",
     "text": [
      "[1] \"training full model ...\"\n"
     ]
    }
   ],
   "source": [
    "%%R\n",
    "filn <- \"./results/modl_flue_nnet_GLOBAL_lst_aqua_b01_to_b14_full.Rdata\"\n",
    "if (!file.exists(filn)){\n",
    "  modl <- wrap_ml( df = df_train,\n",
    "                   nam_target = \"flue\",\n",
    "                   nam_group = \"site\",\n",
    "                   method =  \"nnet\",\n",
    "                   train_method = \"myLGOCV\",\n",
    "                   predictors = pred_var,\n",
    "                   tune = TRUE,\n",
    "                   inner = FALSE,\n",
    "                   classification = FALSE\n",
    "                  )\n",
    "  ## save model object\n",
    "  save(modl, file = filn)\n",
    "} else {\n",
    "  load(filn)\n",
    "}"
   ]
  },
  {
   "cell_type": "code",
   "execution_count": null,
   "id": "23078d09-9c48-4b06-821d-d28bdb0e2738",
   "metadata": {},
   "outputs": [],
   "source": []
  },
  {
   "cell_type": "code",
   "execution_count": null,
   "id": "df2fdd91-a3c4-4926-a4c4-874962692cd2",
   "metadata": {},
   "outputs": [],
   "source": []
  },
  {
   "cell_type": "code",
   "execution_count": null,
   "id": "11d45952-8cec-43c2-a425-acd3786e169a",
   "metadata": {},
   "outputs": [],
   "source": []
  },
  {
   "cell_type": "markdown",
   "id": "ff839683-cb32-4a68-a78c-df241c9d1088",
   "metadata": {},
   "source": [
    "## Leave-group-out split \n",
    "\n",
    "This is to assess the variance of evaluation metrics derived from test sets."
   ]
  },
  {
   "cell_type": "code",
   "execution_count": 25,
   "id": "8a6a4f09-531e-407d-a067-7cfeaa372087",
   "metadata": {},
   "outputs": [
    {
     "name": "stdout",
     "output_type": "stream",
     "text": [
      "[1] \"training model with leave-site-out: AU-Ade ...\"\n",
      "[1] \"training model with leave-site-out: AU-ASM ...\"\n",
      "[1] \"training model with leave-site-out: AU-DaP ...\"\n",
      "[1] \"training model with leave-site-out: AU-DaS ...\"\n",
      "[1] \"training model with leave-site-out: AU-Dry ...\"\n",
      "[1] \"training model with leave-site-out: AU-Stp ...\"\n",
      "[1] \"training model with leave-site-out: AU-Wom ...\"\n",
      "[1] \"training model with leave-site-out: DE-Obe ...\"\n",
      "[1] \"training model with leave-site-out: DE-Tha ...\"\n",
      "[1] \"training model with leave-site-out: FI-Hyy ...\"\n",
      "[1] \"training model with leave-site-out: FR-LBr ...\"\n",
      "[1] \"training model with leave-site-out: IT-Cpz ...\"\n",
      "[1] \"training model with leave-site-out: IT-Ro1 ...\"\n",
      "[1] \"training model with leave-site-out: IT-SRo ...\"\n",
      "[1] \"training model with leave-site-out: NL-Loo ...\"\n",
      "[1] \"training model with leave-site-out: RU-Fyo ...\"\n",
      "[1] \"training model with leave-site-out: SD-Dem ...\"\n",
      "[1] \"training model with leave-site-out: US-MMS ...\"\n",
      "[1] \"training model with leave-site-out: US-SRG ...\"\n",
      "[1] \"training model with leave-site-out: US-SRM ...\"\n",
      "[1] \"training model with leave-site-out: US-UMB ...\"\n",
      "[1] \"training model with leave-site-out: US-UMd ...\"\n"
     ]
    }
   ],
   "source": [
    "%%R\n",
    "filn <- \"./results/modl_flue_nnet_INNER_lst_aqua_b01_to_b14_full.Rdata\"\n",
    "if (!file.exists(filn)){\n",
    "  modl <- wrap_ml( df = ddf_sub,\n",
    "                   nam_target = \"flue\",\n",
    "                   nam_group = \"site\",\n",
    "                   method =  \"nnet\",\n",
    "                   train_method = \"myLGOCV\",\n",
    "                   predictors = pred_var,\n",
    "                   tune = FALSE,\n",
    "                   inner = TRUE,\n",
    "                   classification = FALSE\n",
    "                  )\n",
    "  \n",
    "  ## save model object (WARNING: IS A BIT BIG)\n",
    "  save(modl, file = filn)\n",
    "} else {\n",
    "  load(filn)\n",
    "}"
   ]
  },
  {
   "cell_type": "markdown",
   "id": "8caf0bf3-800e-4cd1-9e50-4c34817b0daa",
   "metadata": {},
   "source": [
    "Get evaluation results across left-out sites from inner loop.\n"
   ]
  },
  {
   "cell_type": "code",
   "execution_count": 26,
   "id": "de375765-2f14-4027-87bb-2b7682e63e9f",
   "metadata": {},
   "outputs": [
    {
     "data": {
      "image/png": "[encoded data removed]"
     },
     "metadata": {},
     "output_type": "display_data"
    }
   ],
   "source": [
    "%%R\n",
    "df_inner <- purrr::map_dfr(modl, \"results\") %>% \n",
    "  pivot_wider(names_from = .metric, values_from = .estimate) %>% \n",
    "  dplyr::select(-.estimator)\n",
    "\n",
    "df_inner %>% knitr::kable()\n",
    "\n",
    "df_inner %>% \n",
    "  summarise(rmse_mean = mean(rmse), rsq_mean = mean(rsq),\n",
    "            rmse_median = median(rmse), rsq_median = median(rsq),\n",
    "            rmse_sd = sd(rmse), rsq_sd = sd(rsq)) %>% \n",
    "  knitr::kable()\n",
    "\n",
    "gg1 <- df_inner %>% \n",
    "  ggplot(aes(x = rmse, y = ..count..)) +\n",
    "  geom_histogram(bins = 5) +\n",
    "  labs(title = \"RMSE\")\n",
    "\n",
    "gg2 <- df_inner %>% \n",
    "  ggplot(aes(x = rsq, y = ..count..)) +\n",
    "  geom_histogram(bins = 5) +\n",
    "  labs(title = expression(italic(R)^2))\n",
    "\n",
    "gg2 + gg1"
   ]
  },
  {
   "cell_type": "markdown",
   "id": "e7953479-be13-451f-82e5-c2e33cd9ecf8",
   "metadata": {},
   "source": [
    "Combine predictions on test sets from the inner loop (on the single held-out site). This is the most relevant metric here!\n"
   ]
  },
  {
   "cell_type": "code",
   "execution_count": 27,
   "id": "8a956b0c-75df-4b89-ab1b-5120a821f20e",
   "metadata": {},
   "outputs": [
    {
     "name": "stdout",
     "output_type": "stream",
     "text": [
      "$df_metrics\n",
      "# A tibble: 12 × 3\n",
      "   .metric  .estimator   .estimate\n",
      "   <chr>    <chr>            <dbl>\n",
      " 1 rmse     standard       0.159  \n",
      " 2 rsq      standard       0.636  \n",
      " 3 mae      standard       0.110  \n",
      " 4 n        standard   13304      \n",
      " 5 slope    standard       0.919  \n",
      " 6 mean_obs standard       0.815  \n",
      " 7 prmse    standard       0.195  \n",
      " 8 pmae     standard       0.135  \n",
      " 9 bias     standard       0.00628\n",
      "10 pbias    standard       0.0780 \n",
      "11 cor      standard       0.798  \n",
      "12 cor_test standard       0      \n",
      "\n",
      "$gg\n"
     ]
    },
    {
     "name": "stderr",
     "output_type": "stream",
     "text": [
      "R[write to console]: `geom_smooth()` using formula 'y ~ x'\n",
      "\n"
     ]
    },
    {
     "name": "stdout",
     "output_type": "stream",
     "text": [
      "\n",
      "$linmod\n",
      "\n",
      "Call:\n",
      "lm(formula = obs ~ mod, data = df)\n",
      "\n",
      "Coefficients:\n",
      "(Intercept)          mod  \n",
      "     0.0604       0.9188  \n",
      "\n",
      "\n",
      "$results\n",
      "# A tibble: 1 × 6\n",
      "    rsq  rmse   mae    bias slope     n\n",
      "  <dbl> <dbl> <dbl>   <dbl> <dbl> <dbl>\n",
      "1 0.636 0.159 0.110 0.00628 0.919 13304\n",
      "\n"
     ]
    },
    {
     "data": {
      "image/png": "[encoded data removed]"
     },
     "metadata": {},
     "output_type": "display_data"
    }
   ],
   "source": [
    "%%R\n",
    "df_test_inner <- purrr::map_dfr(modl, \"df_test\")\n",
    "\n",
    "df_test_inner %>% \n",
    "  rbeni::analyse_modobs2(\"pred\", \"flue\", type = \"heat\")"
   ]
  },
  {
   "cell_type": "code",
   "execution_count": 28,
   "id": "b87fb129-9e67-402b-a057-1631cc143d5d",
   "metadata": {},
   "outputs": [
    {
     "name": "stdout",
     "output_type": "stream",
     "text": [
      "# A tibble: 13,304 × 36\n",
      "   date       site   flue is_flue_drought lst_aqua   b01   b02   b03   b04   b05\n",
      "   <date>     <chr> <dbl> <fct>              <dbl> <dbl> <dbl> <dbl> <dbl> <dbl>\n",
      " 1 2007-11-10 AU-A… 0.840 TRUE                313.  592. 1814.  271.  540. 2447.\n",
      " 2 2007-12-01 AU-A… 0.897 TRUE                310. 1461. 2959. 1309. 1571. 3234.\n",
      " 3 2008-03-08 AU-A… 0.998 FALSE               307. 6216. 6538. 6092. 6251. 5543.\n",
      " 4 2008-04-09 AU-A… 0.904 TRUE                312.  547. 2283.  252.  561. 2813.\n",
      " 5 2008-04-10 AU-A… 0.879 TRUE                307.  775. 3050.  352.  775. 3873.\n",
      " 6 2008-04-11 AU-A… 0.850 TRUE                310.  589. 2142.  279.  561. 2951.\n",
      " 7 2008-04-12 AU-A… 0.833 TRUE                306.  742. 3431.  352.  812. 3883.\n",
      " 8 2008-04-15 AU-A… 0.796 TRUE                305.  820. 2672.  386.  756. 3541.\n",
      " 9 2008-04-16 AU-A… 0.780 TRUE                307.  555  2375   256   553  3076 \n",
      "10 2008-04-18 AU-A… 0.763 TRUE                312.  563. 2020.  275.  532. 2719.\n",
      "# … with 13,294 more rows, and 26 more variables: b06 <dbl>, b07 <dbl>,\n",
      "#   b08 <dbl>, b09 <dbl>, b10 <dbl>, b11 <dbl>, b12 <dbl>, b13 <dbl>,\n",
      "#   b14 <dbl>, classid <fct>, fapar <dbl>, year_dec <dbl>, ccov_cru_int <dbl>,\n",
      "#   temp_fluxnet2015 <dbl>, prec_fluxnet2015 <dbl>, vpd_fluxnet2015 <dbl>,\n",
      "#   ppfd_fluxnet2015 <dbl>, gpp_obs <dbl>, transp_obs <dbl>,\n",
      "#   soilm_obs_mean <dbl>, temp <dbl>, GPP_NT_VUT_REF <dbl>,\n",
      "#   GPP_DT_VUT_REF <dbl>, year <dbl>, APAR <dbl>, pred <dbl>\n"
     ]
    }
   ],
   "source": [
    "%%R\n",
    "df_test_inner"
   ]
  },
  {
   "cell_type": "code",
   "execution_count": null,
   "id": "5c14d6a9-7a8e-4b5d-9f9b-473ac1ca1d35",
   "metadata": {},
   "outputs": [],
   "source": []
  },
  {
   "cell_type": "code",
   "execution_count": null,
   "id": "dd5db3f9-6f84-48d6-9c01-cb99cb4243ea",
   "metadata": {},
   "outputs": [],
   "source": []
  },
  {
   "cell_type": "markdown",
   "id": "7e4f4452-ddb3-4bac-a341-c2bc519dcd33",
   "metadata": {},
   "source": [
    "# NDI"
   ]
  },
  {
   "cell_type": "code",
   "execution_count": 29,
   "id": "a6fcdaa0-285c-428f-8517-e77e39bcbc50",
   "metadata": {
    "tags": []
   },
   "outputs": [
    {
     "name": "stdout",
     "output_type": "stream",
     "text": [
      "      date                site                flue         is_flue_drought\n",
      " Min.   :2002-07-04   Length:13304       Min.   :-0.2460   FALSE:6814     \n",
      " 1st Qu.:2006-10-16   Class :character   1st Qu.: 0.6237   TRUE :6490     \n",
      " Median :2009-07-14   Mode  :character   Median : 0.8967                  \n",
      " Mean   :2009-05-20                      Mean   : 0.8146                  \n",
      " 3rd Qu.:2012-03-06                      3rd Qu.: 1.0011                  \n",
      " Max.   :2014-12-30                      Max.   : 1.9244                  \n",
      "    lst_aqua          b01               b02               b03         \n",
      " Min.   :272.7   Min.   :   11.5   Min.   :  420.5   Min.   :  -27.5  \n",
      " 1st Qu.:292.9   1st Qu.:  367.0   1st Qu.: 2126.5   1st Qu.:  219.8  \n",
      " Median :300.9   Median :  849.9   Median : 2569.8   Median :  414.0  \n",
      " Mean   :302.4   Mean   : 1156.2   Mean   : 2792.1   Mean   :  747.6  \n",
      " 3rd Qu.:311.6   3rd Qu.: 1464.8   3rd Qu.: 3196.3   3rd Qu.:  716.3  \n",
      " Max.   :336.4   Max.   :13280.2   Max.   :14036.2   Max.   :11213.0  \n",
      "      b04               b05               b06              b07         \n",
      " Min.   :   23.0   Min.   :  364.8   Min.   : 129.5   Min.   :  15.75  \n",
      " 1st Qu.:  473.2   1st Qu.: 2362.9   1st Qu.:1430.0   1st Qu.: 578.00  \n",
      " Median :  722.0   Median : 2908.5   Median :2327.0   Median :1263.88  \n",
      " Mean   : 1054.4   Mean   : 3009.8   Mean   :2363.5   Mean   :1416.63  \n",
      " 3rd Qu.: 1158.1   3rd Qu.: 3537.1   3rd Qu.:3079.1   3rd Qu.:2089.25  \n",
      " Max.   :12664.8   Max.   :10768.5   Max.   :7588.0   Max.   :5685.25  \n",
      "      b08                b09                b10                b11          \n",
      " Min.   :-0.01000   Min.   :-0.01000   Min.   :-0.01000   Min.   :-0.01000  \n",
      " 1st Qu.: 0.01800   1st Qu.: 0.02200   1st Qu.: 0.02430   1st Qu.: 0.03460  \n",
      " Median : 0.03000   Median : 0.03690   Median : 0.04330   Median : 0.05510  \n",
      " Mean   : 0.06328   Mean   : 0.05743   Mean   : 0.05434   Mean   : 0.06286  \n",
      " 3rd Qu.: 0.04960   3rd Qu.: 0.06200   3rd Qu.: 0.07410   3rd Qu.: 0.08830  \n",
      " Max.   : 1.07410   Max.   : 1.09170   Max.   : 0.72450   Max.   : 0.56180  \n",
      "      b12                b13                b14           classid   \n",
      " Min.   :-0.01000   Min.   :-0.01000   Min.   :-0.01000   DBF:2829  \n",
      " 1st Qu.: 0.03720   1st Qu.:-0.01000   1st Qu.:-0.01000   EBF:1136  \n",
      " Median : 0.05825   Median :-0.01000   Median : 0.01430   ENF:3823  \n",
      " Mean   : 0.06351   Mean   : 0.01314   Mean   : 0.01934   GRA:1991  \n",
      " 3rd Qu.: 0.09180   3rd Qu.: 0.03230   3rd Qu.: 0.04050   SAV:3525  \n",
      " Max.   : 0.55940   Max.   : 0.24010   Max.   : 0.33360             \n",
      "     fapar            year_dec     ccov_cru_int     temp_fluxnet2015\n",
      " Min.   :0.07018   Min.   :2003   Min.   :  5.092   Min.   : 0.533  \n",
      " 1st Qu.:0.27265   1st Qu.:2007   1st Qu.: 36.873   1st Qu.:13.672  \n",
      " Median :0.51856   Median :2010   Median : 50.088   Median :19.209  \n",
      " Mean   :0.51706   Mean   :2009   Mean   : 48.308   Mean   :18.943  \n",
      " 3rd Qu.:0.75513   3rd Qu.:2012   3rd Qu.: 60.847   3rd Qu.:24.337  \n",
      " Max.   :0.95960   Max.   :2015   Max.   :100.000   Max.   :36.136  \n",
      " prec_fluxnet2015  vpd_fluxnet2015  ppfd_fluxnet2015    gpp_obs         \n",
      " Min.   : 0.0000   Min.   :   0.2   Min.   : 2.739   Min.   : 0.000423  \n",
      " 1st Qu.: 0.0000   1st Qu.: 578.1   1st Qu.:35.872   1st Qu.: 0.860679  \n",
      " Median : 0.0000   Median :1078.0   Median :45.129   Median : 3.622620  \n",
      " Mean   : 0.5387   Mean   :1303.9   Mean   :43.701   Mean   : 4.502218  \n",
      " 3rd Qu.: 0.0000   3rd Qu.:1840.7   3rd Qu.:53.663   3rd Qu.: 7.302272  \n",
      " Max.   :62.0000   Max.   :5183.4   Max.   :71.841   Max.   :19.049000  \n",
      "   transp_obs       soilm_obs_mean         temp        GPP_NT_VUT_REF     \n",
      " Min.   : -802923   Min.   :0.00000   Min.   : 0.533   Min.   : 0.000423  \n",
      " 1st Qu.: 1476308   1st Qu.:0.08475   1st Qu.:13.672   1st Qu.: 0.860679  \n",
      " Median : 3310420   Median :0.20695   Median :19.209   Median : 3.622620  \n",
      " Mean   : 3924025   Mean   :0.27400   Mean   :18.943   Mean   : 4.502218  \n",
      " 3rd Qu.: 5654928   3rd Qu.:0.43965   3rd Qu.:24.337   3rd Qu.: 7.302272  \n",
      " Max.   :17497469   Max.   :0.99588   Max.   :36.136   Max.   :19.049000  \n",
      " GPP_DT_VUT_REF         year           APAR        \n",
      " Min.   : 0.0000   Min.   :2002   Min.   : 0.9855  \n",
      " 1st Qu.: 0.8912   1st Qu.:2006   1st Qu.:10.8506  \n",
      " Median : 3.5203   Median :2009   Median :18.8803  \n",
      " Mean   : 4.5149   Mean   :2009   Mean   :22.0175  \n",
      " 3rd Qu.: 7.4212   3rd Qu.:2012   3rd Qu.:31.8051  \n",
      " Max.   :20.9909   Max.   :2014   Max.   :62.7866  \n"
     ]
    }
   ],
   "source": [
    "%%R -o ddf_sub\n",
    "summary(df_test_inner) # flue: Median : 0.97142, 3rd Qu.: 1.00693, Max.   : 1.84895 \n",
    "summary(ddf_sub)"
   ]
  },
  {
   "cell_type": "code",
   "execution_count": 30,
   "id": "9dfb8fd6-8ee1-4942-bbf3-32cdd62758a4",
   "metadata": {},
   "outputs": [],
   "source": [
    "# rough estimate of wavelength of bands in [nm] \n",
    "# b01: 650 b02: 860 b03: 470 b04: 550 b05: 1240 b06: 1640 b07: 2125\n",
    "# b08: 410 b09: 445 b10: 488 b11: 530 b12: 550 b13: 667 b14: 678\n",
    "import seaborn as sns\n",
    "import pandas as pd"
   ]
  },
  {
   "cell_type": "code",
   "execution_count": 31,
   "id": "3c25b022-fbdc-451d-98e1-eff63b4b0363",
   "metadata": {},
   "outputs": [],
   "source": [
    "df_bands = ddf_sub[[\n",
    "    # sorted after their respective bandwidth\n",
    "       'flue',\n",
    "       'b01', 'b02', 'b03', 'b04', 'b05', 'b06', 'b07',\n",
    "       'b08', 'b09', 'b10', 'b11', 'b12', 'b13', 'b14'\n",
    "]]"
   ]
  },
  {
   "cell_type": "code",
   "execution_count": 32,
   "id": "8efc6589-8a0f-4b20-9437-51301e089060",
   "metadata": {},
   "outputs": [],
   "source": [
    "df_bands.to_pickle(\"./df_bands.pkl\")"
   ]
  },
  {
   "cell_type": "code",
   "execution_count": 33,
   "id": "d22f756c-def2-4c8a-af0f-aab6fd0c5c40",
   "metadata": {},
   "outputs": [],
   "source": [
    "df = pd.read_pickle(\"./df_bands.pkl\")\n"
   ]
  },
  {
   "cell_type": "code",
   "execution_count": 34,
   "id": "918167b8-9900-4a26-b3a5-a14d6242ab3d",
   "metadata": {},
   "outputs": [],
   "source": [
    "df_wavelength = df[[\n",
    "    # sorted after their respective bandwidth\n",
    "       'b08', 'b09', 'b03', 'b10', 'b11', 'b12', 'b04',\n",
    "       'b01', 'b13', 'b14', 'b02', 'b05', 'b06', 'b07'\n",
    "]]"
   ]
  },
  {
   "cell_type": "code",
   "execution_count": 35,
   "id": "d4c7ef74-4799-4322-a233-68b748af5e06",
   "metadata": {},
   "outputs": [],
   "source": [
    "# in nm\n",
    "bands_wavelength = [ '413', '445', '469', '488', '531','551',  '555',  \n",
    "                     '645', '667', '678', '859','l 1240', 'l 1640', 'l 2130'  ]\n",
    "df_wavelength = df_wavelength.set_axis([ '413', '445', '469', '488', '531','551', '555',  \n",
    "                                         '645', '667', '678', '859','l 1240', 'l 1640', 'l 2130'  ], axis=1, inplace=False)\n",
    "bands_range = [ '405-420', '438-448', '459-479', '483-493', '526-536', '546-556', '545-565',\n",
    "       '620-670', '662-672', '673-683', '841-876', 'l 1230-1250', 'l 1628-1652', 'l 2105-2155'  ]\n",
    "df_range = df_wavelength.set_axis( [ '405-420', '438-448', '459-479', '483-493', '526-536', '546-556', '545-565',\n",
    "       '620-670', '662-672', '673-683', '841-876', 'l 1230-1250', 'l 1628-1652', 'l 2105-2155'  ], axis=1, inplace=False)"
   ]
  },
  {
   "cell_type": "code",
   "execution_count": 36,
   "id": "b8ce7d04-135b-4d9a-b4ea-85a306a4ab47",
   "metadata": {},
   "outputs": [],
   "source": [
    "df_sorted = df[[  'b01', 'b02', 'b03', 'b04', 'b05', 'b06', 'b07',\n",
    "               'b08', 'b09', 'b10', 'b11', 'b12', 'b13', 'b14'  ]]"
   ]
  },
  {
   "cell_type": "code",
   "execution_count": 37,
   "id": "f4058fa1-2383-41db-ab36-ac2b1924269c",
   "metadata": {},
   "outputs": [],
   "source": [
    "bands_sorted = [ 'b01', 'b02','b03', 'b04', 'b05', 'b06', 'b07',\n",
    "                 'b08', 'b09', 'b10', 'b11', 'b12', 'b13', 'b14' ]"
   ]
  },
  {
   "cell_type": "code",
   "execution_count": 38,
   "id": "3b5bec54-6f9c-48f5-a974-355fc0d184b2",
   "metadata": {},
   "outputs": [],
   "source": [
    "# try to calculate a list with band1 band2 and\n",
    "# band-lable\n",
    "data = []\n",
    "for band_i in bands_sorted:     # band1 \n",
    "    for band_j in bands_sorted: # band2\n",
    "        band1 = f'{band_i}'\n",
    "        band2 = f'{band_j}'\n",
    "        ndi_uncorrelated = (df_sorted[band_i] - df_sorted[band_j]) / (df_sorted[band_i] + df_sorted[band_j]) \n",
    "        ndi = df['flue'].corr(ndi_uncorrelated)\n",
    "        data.append([band1, band2, ndi])\n",
    "df_ndi_sorted = pd.DataFrame(data, columns=['band1', 'band2', 'ndi'])\n",
    "# bandwidth\n",
    "data = []\n",
    "for band_i in bands_range:     # band1 \n",
    "    for band_j in bands_range: # band2\n",
    "        band1 = f'{band_i}'\n",
    "        band2 = f'{band_j}'\n",
    "        ndi_uncorrelated = (df_range[band_i] - df_range[band_j]) / (df_range[band_i] + df_range[band_j]) \n",
    "        ndi = df['flue'].corr(ndi_uncorrelated)\n",
    "        data.append([band1, band2, ndi])\n",
    "df_ndi_range = pd.DataFrame(data, columns=['band1', 'band2', 'ndi'])\n",
    "# wavelength\n",
    "data = []\n",
    "for band_i in bands_wavelength:     # band1 \n",
    "    for band_j in bands_wavelength: # band2\n",
    "        band1 = f'{band_i}'\n",
    "        band2 = f'{band_j}'\n",
    "        ndi_uncorrelated = (df_wavelength[band_i] - df_wavelength[band_j]) / (df_wavelength[band_i] + df_wavelength[band_j]) \n",
    "        ndi = df['flue'].corr(ndi_uncorrelated)\n",
    "        data.append([band1, band2, ndi])\n",
    "df_ndi_wavelength = pd.DataFrame(data, columns=['band1', 'band2', 'ndi'])\n"
   ]
  },
  {
   "cell_type": "code",
   "execution_count": 39,
   "id": "fdc7bfcc-1abd-4445-bcc0-fe4947b04c82",
   "metadata": {},
   "outputs": [],
   "source": [
    "def ndi_combinations(df, bands, criteria):\n",
    "    '''\n",
    "     df               dataframe        col_x - col_y\n",
    "     bands            list of names of the columns in the dataframe\n",
    "     criteria         a column with the same length as elements in the dataframe\n",
    "     returns a list   with combinations of columns of the dataframe and the result of correlating (col_x - col_y)/(col_x - col_y) with the criteria\n",
    "    '''\n",
    "    data = []\n",
    "    for band_i in bands:     # band1 \n",
    "        for band_j in bands: # band2\n",
    "            band1 = f'{band_i}'\n",
    "            band2 = f'{band_j}'\n",
    "            ndi_uncorrelated = (df[band_i] - df[band_j]) / (df[band_i] + df[band_j]) \n",
    "            ndi = criteria.corr(ndi_uncorrelated)\n",
    "            data.append([band1, band2, ndi])\n",
    "    df_ndi = pd.DataFrame(data, columns=['band1', 'band2', 'ndi'])\n",
    "    ndi = df_ndi.pivot(\"band1\", \"band2\", \"ndi\") # sorts the entries --> change to wavelength [nm]\n",
    "    return ndi"
   ]
  },
  {
   "cell_type": "code",
   "execution_count": 40,
   "id": "fc4ee8a1-23ec-4c84-9843-14afc7f37b05",
   "metadata": {},
   "outputs": [
    {
     "data": {
      "image/png": "[encoded data removed]",
      "text/html": [
       "<div style=\"vertical-align: middle;\"><strong>vlag</strong> </div><div class=\"cmap\"><img alt=\"vlag colormap\" title=\"vlag\" style=\"border: 1px solid #555;\" src=\"data:image/png;base64,iVBORw0KGgoAAAANSUhEUgAAAgAAAABACAYAAABsv8+/AAAAE3RFWHRUaXRsZQB2bGFnIGNvbG9ybWFwQ/+bDQAAABl0RVh0RGVzY3JpcHRpb24AdmxhZyBjb2xvcm1hcMhNC5UAAAAwdEVYdEF1dGhvcgBNYXRwbG90bGliIHYzLjUuMSwgaHR0cHM6Ly9tYXRwbG90bGliLm9yZ/e3zs8AAAAydEVYdFNvZnR3YXJlAE1hdHBsb3RsaWIgdjMuNS4xLCBodHRwczovL21hdHBsb3RsaWIub3Jn2RFR6AAAAhhJREFUeJzt1kFuqzAYhVGbLqWre3vs2qATnArDX0j1ZvecSYRjbEOj6uuf/7621lr76K1dfS6n6+14vVTz/tdn//X7Xt239Efz+u3619/X49O5l/fWOd1fzjuuP+bPz3net1+O96Wa9/v1eM+388b46bzFvqe/33Gd87mnfcr1qvc4n6f6+83PU41Xzz+f87h//d6v3/cY720e3z/b8Xr2Gt624xfjevrc5ut1nb5f9/Ex73g95o95bb2+72fdafx1Xd0/1t/3X6/vb9O8cr/5+ar15+d+un7xHqr3Ut9fnWva/+G6fz7n3f6v6/f2eX7Op/vP5336vt97vtvfefk7fXbu+vd2c659fP83BQAkEQAAEEgAAEAgAQAAgQQAAAQSAAAQSAAAQCABAACBBAAABBIAABBIAABAIAEAAIEEAAAEEgAAEEgAAEAgAQAAgQQAAAQSAAAQSAAAQCABAACBBAAABBIAABBIAABAIAEAAIEEAAAEEgAAEEgAAEAgAQAAgQQAAAQSAAAQSAAAQCABAACBBAAABBIAABBIAABAIAEAAIEEAAAEEgAAEEgAAEAgAQAAgQQAAAQSAAAQSAAAQCABAACBBAAABBIAABBIAABAIAEAAIEEAAAEEgAAEEgAAEAgAQAAgQQAAAQSAAAQSAAAQCABAACBBAAABBIAABBIAABAIAEAAIEEAAAEEgAAEEgAAECgb31CUaaV0kkSAAAAAElFTkSuQmCC\"></div><div style=\"vertical-align: middle; max-width: 514px; display: flex; justify-content: space-between;\"><div style=\"float: left;\"><div title=\"#2369bdff\" style=\"display: inline-block; width: 1em; height: 1em; margin: 0; vertical-align: middle; border: 1px solid #555; background-color: #2369bdff;\"></div> under</div><div style=\"margin: 0 auto; display: inline-block;\">bad <div title=\"#00000000\" style=\"display: inline-block; width: 1em; height: 1em; margin: 0; vertical-align: middle; border: 1px solid #555; background-color: #00000000;\"></div></div><div style=\"float: right;\">over <div title=\"#a9373bff\" style=\"display: inline-block; width: 1em; height: 1em; margin: 0; vertical-align: middle; border: 1px solid #555; background-color: #a9373bff;\"></div></div>"
      ],
      "text/plain": [
       "<matplotlib.colors.ListedColormap at 0x7fd8f05a3bb0>"
      ]
     },
     "execution_count": 40,
     "metadata": {},
     "output_type": "execute_result"
    }
   ],
   "source": [
    "sns.color_palette(\"vlag\", as_cmap=True)"
   ]
  },
  {
   "cell_type": "code",
   "execution_count": 41,
   "id": "a314c81c-77a2-43bc-a572-b4a4ae8914b5",
   "metadata": {},
   "outputs": [
    {
     "data": {
      "text/plain": [
       "<AxesSubplot:xlabel='band2', ylabel='band1'>"
      ]
     },
     "execution_count": 41,
     "metadata": {},
     "output_type": "execute_result"
    },
    {
     "data": {
      "image/png": "[encoded data removed]",
      "text/plain": [
       "<Figure size 432x288 with 2 Axes>"
      ]
     },
     "metadata": {
      "needs_background": "light"
     },
     "output_type": "display_data"
    }
   ],
   "source": [
    "sns.heatmap(ndi_combinations(df_range, bands_range, df['flue']), cmap=\"vlag\")"
   ]
  },
  {
   "cell_type": "code",
   "execution_count": 42,
   "id": "e0758a3f-5cd5-4a80-b7df-e29536fa31ab",
   "metadata": {
    "tags": []
   },
   "outputs": [
    {
     "data": {
      "text/plain": [
       "<AxesSubplot:xlabel='band2', ylabel='band1'>"
      ]
     },
     "execution_count": 42,
     "metadata": {},
     "output_type": "execute_result"
    },
    {
     "data": {
      "image/png": "[encoded data removed]",
      "text/plain": [
       "<Figure size 432x288 with 2 Axes>"
      ]
     },
     "metadata": {
      "needs_background": "light"
     },
     "output_type": "display_data"
    }
   ],
   "source": [
    "sns.heatmap(ndi_combinations(df_wavelength, bands_wavelength, df['flue']))\n",
    "# changes only position of 551 to 555 in compare to df_range"
   ]
  },
  {
   "cell_type": "code",
   "execution_count": 43,
   "id": "af7b4b7c-49db-4976-8fbf-c7c81584330f",
   "metadata": {},
   "outputs": [
    {
     "data": {
      "text/plain": [
       "<AxesSubplot:xlabel='band2', ylabel='band1'>"
      ]
     },
     "execution_count": 43,
     "metadata": {},
     "output_type": "execute_result"
    },
    {
     "data": {
      "image/png": "[encoded data removed]",
      "text/plain": [
       "<Figure size 432x288 with 2 Axes>"
      ]
     },
     "metadata": {
      "needs_background": "light"
     },
     "output_type": "display_data"
    }
   ],
   "source": [
    "sns.heatmap(ndi_combinations(df_sorted, bands_sorted, df['flue']), cmap=\"vlag\")"
   ]
  },
  {
   "cell_type": "code",
   "execution_count": null,
   "id": "2118dcdf-7859-45ec-b424-591039d1e52e",
   "metadata": {},
   "outputs": [],
   "source": []
  },
  {
   "cell_type": "code",
   "execution_count": null,
   "id": "8b1c354b-84a3-4d3b-acb0-3ad52e96f464",
   "metadata": {},
   "outputs": [],
   "source": []
  },
  {
   "cell_type": "code",
   "execution_count": null,
   "id": "85ce63e8-a512-48f0-a76e-3b8cb6a9bf1b",
   "metadata": {},
   "outputs": [],
   "source": []
  },
  {
   "cell_type": "code",
   "execution_count": null,
   "id": "b83ea4ee-8c1d-42cb-8049-0f6902bc0df9",
   "metadata": {},
   "outputs": [],
   "source": []
  },
  {
   "cell_type": "markdown",
   "id": "1f61b503-6071-42bc-b4f2-459bd31a52ad",
   "metadata": {},
   "source": [
    "# Trying things out:"
   ]
  },
  {
   "cell_type": "code",
   "execution_count": 25,
   "id": "b9a60de4-6a35-476e-96b1-e891eae02e4d",
   "metadata": {},
   "outputs": [],
   "source": [
    "%%R\n",
    "# read in criteria and return a map of which bands are to use (TRUE) and if corrections were performed (TRUE)\\\n",
    "# based on looping through QC_Data\n",
    "# QC_Data should contain an the quality control from the satellite product as well as conversion for each bit named Bit<number> in decreasing order\n",
    "# criteria should contain 3 columns QualityTarget(containing a string of the target name), \n",
    "#                                   QC_Flags(containing the flag needed for the flag to be TRUE starting with the LSB if LSB=TRUE), \n",
    "#                                   Position(containing the location of QC_Flags in the form of: <startingBit>_<endingBit> with <startingBit> < <endingBit> in increasing order\n",
    "# satellite contains a string of the satellite name\n",
    "quality_control <- function(QC_Data, criteria, satellite, length = 32, LSB = TRUE){\n",
    "    #create the df quality_mapping\n",
    "    names <- paste(satellite, criteria$QualityTarget, sep = \"_qc_\")\n",
    "    quality_mapping  <- data.frame(t(names), stringsAsFactors=FALSE)\n",
    "    #fill the df quality_mapping\n",
    "    if(LSB && length == 32){\n",
    "        for (i in 2:nrow(QC_Data)){\n",
    "            for (i in 1:nrow(criteria)){\n",
    "                interval <- strsplit(criteria$Position, split = \"_\")\n",
    "                a <- interval[[1]][1]\n",
    "                z <- interval[[1]][2]\n",
    "                flag <- \"\"\n",
    "                #for (j n 1:ncol(QC_Data)){\n",
    "                    #QC_Data[i][length-j+1]\n",
    "                #}\n",
    "                       \n",
    "            }\n",
    "        }\n",
    "    }\n",
    "    else{\n",
    "        print(\"Until now all MODIS products have a quality control where Bit0 is the least significant bit with an unsigned 32 Bit integer. If you are sure you found an exception please implement this in the quality_control function.\")\n",
    "    }\n",
    "    # use the QualityTargets as names of the variables for the df and return it\n",
    "    var_names(quality_mapping) <- as.character(unlist(quality_mapping[1,]))\n",
    "    quality_mapping[-1]\n",
    "    return(quality_mapping)\n",
    "}"
   ]
  },
  {
   "cell_type": "code",
   "execution_count": 38,
   "id": "9f5ff56b-0029-4fdf-b068-a11855e367a4",
   "metadata": {},
   "outputs": [
    {
     "ename": "SyntaxError",
     "evalue": "invalid syntax (1380011949.py, line 2)",
     "output_type": "error",
     "traceback": [
      "\u001b[0;36m  File \u001b[0;32m\"/tmp/ipykernel_679/1380011949.py\"\u001b[0;36m, line \u001b[0;32m2\u001b[0m\n\u001b[0;31m    mod09$b01_qc_mapped <- map_if(mod09$sur_refl_b01, mod09$qc_flag_b01, mod09$sur_refl_b01, else = NA)\u001b[0m\n\u001b[0m         ^\u001b[0m\n\u001b[0;31mSyntaxError\u001b[0m\u001b[0;31m:\u001b[0m invalid syntax\n"
     ]
    }
   ],
   "source": [
    "# # adds a column of passed values with NA if quality control failed            \n",
    "# # !!!!!!!!!!!!!! DOES NOT WORK !!!!!!!!!!!!!!!!!!!\n",
    "# mod09$b01_qc_mapped <- map_if(mod09$sur_refl_b01, mod09$qc_flag_b01, mod09$sur_refl_b01, else = NA)\n",
    "# mod09$b02_qc_mapped <- map_if(mod09$sur_refl_b02, mod09$qc_flag_b02, mod09$sur_refl_b02, else = NA)\n",
    "# mod09$b03_qc_mapped <- map_if(mod09$sur_refl_b03, mod09$qc_flag_b03, mod09$sur_refl_b03, else = NA)\n",
    "# mod09$b04_qc_mapped <- map_if(mod09$sur_refl_b04, mod09$qc_flag_b04, mod09$sur_refl_b04, else = NA)\n",
    "# mod09$b05_qc_mapped <- map_if(mod09$sur_refl_b05, mod09$qc_flag_b05, mod09$sur_refl_b05, else = NA)\n",
    "# mod09$b06_qc_mapped <- map_if(mod09$sur_refl_b06, mod09$qc_flag_b06, mod09$sur_refl_b06, else = NA)\n",
    "# mod09$b0_qc_mapped7 <- map_if(mod09$sur_refl_b07, mod09$qc_flag_b07, mod09$sur_refl_b07, else = NA)\n"
   ]
  },
  {
   "cell_type": "code",
   "execution_count": 42,
   "id": "34374359-7114-48f8-9372-79706c6ac513",
   "metadata": {},
   "outputs": [
    {
     "name": "stdout",
     "output_type": "stream",
     "text": [
      "[1] 4777.00  798.75 6264.75  658.75  522.00  781.75\n"
     ]
    }
   ],
   "source": [
    "%%R\n",
    "mod09$b01f <- NA\n",
    "mod09$b01f[mod09$qc_flag_b01==TRUE] <-mod09$sur_refl_b01\n",
    "mod09$b02f <- NA\n",
    "mod09$b02f[mod09$qc_flag_b02==TRUE] <-mod09$sur_refl_b02\n",
    "mod09$b03f <- NA\n",
    "mod09$b03f[mod09$qc_flag_b03==TRUE] <-mod09$sur_refl_b03\n",
    "mod09$b04f <- NA\n",
    "mod09$b04f[mod09$qc_flag_b04==TRUE] <-mod09$sur_refl_b04\n",
    "head(mod09$b01f)"
   ]
  },
  {
   "cell_type": "code",
   "execution_count": null,
   "id": "2a61481b-865f-42bc-8203-002b8571192c",
   "metadata": {
    "tags": []
   },
   "outputs": [],
   "source": [
    "%%R\n",
    "#mod09$sur_refl_b01[mod09$sur_refl_b01==NA]"
   ]
  },
  {
   "cell_type": "code",
   "execution_count": 45,
   "id": "963d0b68-3e82-4722-a0ea-470bbc8ddd26",
   "metadata": {
    "tags": []
   },
   "outputs": [
    {
     "name": "stdout",
     "output_type": "stream",
     "text": [
      "NULL\n"
     ]
    }
   ],
   "source": [
    "%%R\n",
    "# is not the same\n",
    "# mod09$b01 == mod09$b01f"
   ]
  },
  {
   "cell_type": "markdown",
   "id": "07e97b58-1daa-417b-b1ab-84e4d0c70ee7",
   "metadata": {},
   "source": [
    "   [1]  TRUE  TRUE  TRUE  TRUE  TRUE  TRUE  TRUE  TRUE  TRUE  TRUE  TRUE  TRUE \n",
    "   \n",
    "   [13]  TRUE  TRUE  TRUE  TRUE  TRUE    NA FALSE FALSE    NA    NA    NA FALSE\n",
    "   \n",
    "   [25] FALSE FALSE FALSE    NA FALSE FALSE FALSE FALSE FALSE FALSE FALSE FALSE\n",
    "   \n",
    "   [37] FALSE FALSE FALSE FALSE FALSE FALSE FALSE FALSE FALSE FALSE FALSE FALSE\n",
    "   \n",
    "   [49] FALSE    NA    NA FALSE    NA FALSE FALSE FALSE FALSE FALSE FALSE    NA\n",
    "   \n",
    "   [61] FALSE    NA    NA    NA    NA FALSE FALSE FALSE FALSE    NA    NA    NA\n",
    "   \n",
    "   [73]    NA FALSE FALSE FALSE FALSE FALSE FALSE FALSE FALSE FALSE FALSE FALSE\n",
    "   \n",
    "   [85] FALSE FALSE FALSE FALSE FALSE FALSE FALSE FALSE FALSE FALSE FALSE FALSE\n",
    "   \n",
    "   [97] FALSE FALSE FALSE FALSE FALSE FALSE FALSE FALSE    NA FALSE FALSE FALSE\n",
    "   \n",
    "  [109] FALSE    NA FALSE FALSE FALSE FALSE FALSE FALSE FALSE FALSE    NA FALSE\n",
    "  \n",
    "  [121] FALSE FALSE FALSE FALSE    NA FALSE FALSE FALSE FALSE FALSE FALSE FALSE\n",
    "  \n",
    "  [133] FALSE    NA FALSE FALSE FALSE FALSE FALSE FALSE FALSE FALSE FALSE FALSE"
   ]
  },
  {
   "cell_type": "code",
   "execution_count": 15,
   "id": "8d6ae550-db9a-4778-b87a-8d0537301186",
   "metadata": {},
   "outputs": [
    {
     "name": "stdout",
     "output_type": "stream",
     "text": [
      "            QualityTarget QC_Flags Position\n",
      "1               all_bands       00      0_1\n",
      "2                      b1     0000      2_5\n",
      "3                      b2     0000      6_9\n",
      "4                      b3     0000    10_13\n",
      "5                      b4     0000    14_17\n",
      "6                      b5     0000    18_21\n",
      "7                      b6     0000    22_25\n",
      "8                      b7     0000    26_29\n",
      "9  atmospheric_correction        1    30_30\n",
      "10   adjacency_correction        1    31_31\n"
     ]
    }
   ],
   "source": [
    "%%R\n",
    "# create flags for quality control\n",
    "# Quality control according to https://lpdaac.usgs.gov/documents/306/MOD09_User_Guide_V6.pdf\n",
    "# Table 10\n",
    "# Bit no. 0 (least significant bit) and 1: 00          all bands imediately accepted \n",
    "#                                          01, 10, 11  after further checks of each band\n",
    "# Bit no. 2-5 + 4(n-1):                    0000        band n is accepted \n",
    "# Bit no. 30                               0           no atmospheric correction performed\n",
    "# Bit no. 31                               0           no adjacency correction performed\n",
    "qflags_500 <- sort(unique(mod09$QC_500m))    # 32 bits\n",
    "QualityTarget <- c(\"all_bands\", \"b1\", \"b2\", \"b3\", \"b4\", \"b5\", \"b6\", \"b7\", \"atmospheric_correction\", \"adjacency_correction\")   # what can be determined by QC_500\n",
    "QC_Flags <- c(\"00\", \"0000\", \"0000\", \"0000\", \"0000\", \"0000\", \"0000\", \"0000\", \"1\", \"1\")        # flag such that QualityTarget is TRUE\n",
    "Position  <- c(\"0_1\", \"2_5\", \"6_9\", \"10_13\", \"14_17\", \"18_21\", \"22_25\", \"26_29\", \"30_30\",\"31_31\")       # which Bits are relevant for QC_Flags for each QualityTarget\n",
    "criteria_mod09a1 <- data.frame(QualityTarget, QC_Flags, Position)\n",
    "criteria_mod09a1"
   ]
  },
  {
   "cell_type": "code",
   "execution_count": 71,
   "id": "bfe0ad98-e70f-4d92-9905-9d7896719a5a",
   "metadata": {},
   "outputs": [],
   "source": [
    "%%R\n",
    "dates_mod09  <- mod09 %>% \n",
    "    mutate(date = ymd(paste(as.character(YY), as.character(MM), as.character(DD), sep=\"-\")))\n",
    "dates_mod09  <- dates_mod09$date"
   ]
  },
  {
   "cell_type": "code",
   "execution_count": 81,
   "id": "fc200f2b-13e7-4ed2-b0dc-6ddcc03bcde7",
   "metadata": {},
   "outputs": [],
   "source": [
    "%%R\n",
    "data_lst_MOD11A2 <- df[df$band == \"LST_Day_1km\", ]"
   ]
  },
  {
   "cell_type": "code",
   "execution_count": 74,
   "id": "a23ef236-56fc-44b4-b259-d9d5cc182727",
   "metadata": {},
   "outputs": [],
   "source": [
    "# %%R\n",
    "# data_lst_MOD11A2 <- data_lst_MOD11A2 %>%   ########### empty after drop_na()\n",
    "#   drop_na()"
   ]
  },
  {
   "cell_type": "code",
   "execution_count": 85,
   "id": "fa8a36b6-c563-4b74-8abd-06bfd5b29f0a",
   "metadata": {},
   "outputs": [],
   "source": [
    "%%R\n",
    "dates_lst_MOD11A2 <- data_lst_MOD11A2$calendar_date"
   ]
  },
  {
   "cell_type": "code",
   "execution_count": 90,
   "id": "21fd560d-5983-4efc-83c3-5b7e0ba0a957",
   "metadata": {},
   "outputs": [
    {
     "name": "stdout",
     "output_type": "stream",
     "text": [
      "   xllcorner           yllcorner           cellsize         nrows      \n",
      " Min.   :-10666385   Min.   :-4165181   Min.   :926.6   Min.   :1.000  \n",
      " 1st Qu.: -6599426   1st Qu.: 3534149   1st Qu.:926.6   1st Qu.:9.000  \n",
      " Median :   729254   Median : 4710964   Median :926.6   Median :9.000  \n",
      " Mean   :   505756   Mean   : 3593696   Mean   :926.6   Mean   :8.996  \n",
      " 3rd Qu.:  2487989   3rd Qu.: 5427245   3rd Qu.:926.6   3rd Qu.:9.000  \n",
      " Max.   : 15471865   Max.   : 8775143   Max.   :926.6   Max.   :9.000  \n",
      "     ncols           band              units              scale          \n",
      " Min.   :1.000   Length:10480092    Length:10480092    Length:10480092   \n",
      " 1st Qu.:9.000   Class :character   Class :character   Class :character  \n",
      " Median :9.000   Mode  :character   Mode  :character   Mode  :character  \n",
      " Mean   :8.996                                                           \n",
      " 3rd Qu.:9.000                                                           \n",
      " Max.   :9.000                                                           \n",
      "    latitude        longitude            site             product         \n",
      " Min.   :-37.42   Min.   :-147.488   Length:10480092    Length:10480092   \n",
      " 1st Qu.: 31.82   1st Qu.: -84.714   Class :character   Class :character  \n",
      " Median : 42.40   Median :  10.284   Mode  :character   Mode  :character  \n",
      " Mean   : 32.36   Mean   :   3.785                                        \n",
      " 3rd Qu.: 48.84   3rd Qu.:  30.478                                        \n",
      " Max.   : 78.92   Max.   : 161.339                                        \n",
      " complete         modis_date        calendar_date            tile          \n",
      " Mode:logical    Length:10480092    Min.   :2000-02-18   Length:10480092   \n",
      " TRUE:10480092   Class :character   1st Qu.:2005-03-14   Class :character  \n",
      "                 Mode  :character   Median :2010-07-04   Mode  :character  \n",
      "                                    Mean   :2010-09-11                     \n",
      "                                    3rd Qu.:2016-01-25                     \n",
      "                                    Max.   :2021-12-03                     \n",
      "   proc_date         filename            pixel           value      \n",
      " Min.   :2.015e+12   Mode:logical    Min.   : 1.00   Min.   :    0  \n",
      " 1st Qu.:2.015e+12   NA's:10480092   1st Qu.:21.00   1st Qu.:13861  \n",
      " Median :2.016e+12                   Median :41.00   Median :14541  \n",
      " Mean   :2.016e+12                   Mean   :40.98   Mean   :13105  \n",
      " 3rd Qu.:2.016e+12                   3rd Qu.:61.00   3rd Qu.:15008  \n",
      " Max.   :2.021e+12                   Max.   :81.00   Max.   :16798  \n"
     ]
    }
   ],
   "source": [
    "%%R\n",
    "summary(data_lst_MOD11A2)"
   ]
  },
  {
   "cell_type": "code",
   "execution_count": null,
   "id": "11dfbc44-4b3c-4079-b417-061ab11ddab1",
   "metadata": {},
   "outputs": [],
   "source": [
    "%%R"
   ]
  },
  {
   "cell_type": "code",
   "execution_count": 89,
   "id": "e069820b-4cd5-469f-8bb8-f8d6d9ebe51a",
   "metadata": {},
   "outputs": [
    {
     "name": "stdout",
     "output_type": "stream",
     "text": [
      "[1] 182320\n"
     ]
    }
   ],
   "source": [
    "%%R\n",
    "sum(dates_mod09 %in% dates_lst_MOD11A2)"
   ]
  },
  {
   "cell_type": "code",
   "execution_count": null,
   "id": "66644f63-9ea6-4612-8046-583676cba8a3",
   "metadata": {},
   "outputs": [],
   "source": []
  }
 ],
 "metadata": {
  "kernelspec": {
   "display_name": "Python 3 (ipykernel)",
   "language": "python",
   "name": "python3"
  },
  "language_info": {
   "codemirror_mode": {
    "name": "ipython",
    "version": 3
   },
   "file_extension": ".py",
   "mimetype": "text/x-python",
   "name": "python",
   "nbconvert_exporter": "python",
   "pygments_lexer": "ipython3",
   "version": "3.10.1"
  }
 },
 "nbformat": 4,
 "nbformat_minor": 5
}
