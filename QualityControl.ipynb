{
 "cells": [
  {
   "cell_type": "markdown",
   "id": "16d0b079-ddc0-4415-aef5-9a9ad93b7e5f",
   "metadata": {},
   "source": [
    "# Quality Control"
   ]
  },
  {
   "cell_type": "code",
   "execution_count": 1,
   "id": "d70b2677-3832-4ab4-9a49-1eca3e94bff6",
   "metadata": {},
   "outputs": [],
   "source": [
    "# enables the use of R code in a cell after writing \"%%R making it an cell for R code \n",
    "%load_ext rpy2.ipython   "
   ]
  },
  {
   "cell_type": "code",
   "execution_count": 2,
   "id": "807dee68-47d5-48e2-9b00-b1cff50811b6",
   "metadata": {},
   "outputs": [],
   "source": [
    "%%R \n",
    "# path_rbeni = \"/home/martina/SynologyDrive/MasterThesis/rsvi/data/rbeni-master/\"\n",
    "# path_ingestr = \"/home/martina/SynologyDrive/MasterThesis/rsvi/data/ingestr-master/\"\n",
    "path_rbeni = \"/home/zhud/wsl/MasterThesis/rsvi/data/rbeni-master/\"\n",
    "path_ingestr = \"/home/zhud/wsl/MasterThesis/rsvi/data/ingestr-master/\""
   ]
  },
  {
   "cell_type": "code",
   "execution_count": 3,
   "id": "59b5d161-c73b-4e96-b661-9a4d63b24013",
   "metadata": {
    "scrolled": true
   },
   "outputs": [
    {
     "name": "stderr",
     "output_type": "stream",
     "text": [
      "Failed to create bus connection: No such file or directory\n"
     ]
    }
   ],
   "source": [
    "%%capture\n",
    "%%R \n",
    "# %R [-i INPUT] [-o OUTPUT] [-n] [-w WIDTH] [-h HEIGHT] [-p POINTSIZE]\n",
    "#    [-b BG] [–noisolation] [-u {px,in,cm,mm}] [-r RES] [–type {cairo,cairo-png,Xlib,quartz}] [-c CONVERTER] [-d DISPLAY] [code [code …]]\n",
    "# https://rpy2.github.io/doc/latest/html/interactive.html\n",
    "# nothing is returned to python by default in cell mode %%R\n",
    "# %Rpull\n",
    "#    %Rpull [outputs [outputs …]]\n",
    "#%Rget\n",
    "#    %Rget output\n",
    "# %%capture is here because rbeni plots something\n",
    "\n",
    "source(\"remove_outliers.R\")      # code from predecessors\n",
    "source(\"gather_data.R\")\n",
    "source(\"gather_data_bands.R\")\n",
    "source(\"align_events.R\")\n",
    "# source(\"plot_rsvi.R\")          # not used anymore? should they be deleted?\n",
    "# source(\"plot_compare.R\")\n",
    "# source(\"rsvi_sites.R\")\n",
    "# source(\"add_scaled_rsvi.R\")\n",
    "# source(\"add_normalised_rsvi.R\")\n",
    "source(\"MOD09_MODOC_filter.R\")\n",
    "source(\"wrap_ml.R\")\n",
    "\n",
    "library(dplyr)                  # not available packages can be installed over R / R studio\n",
    "library(lubridate)              # https://rpy2.github.io/doc/v2.9.x/html/robjects_rpackages.html\n",
    "library(readr)\n",
    "library(ggplot2)\n",
    "library(tidyr)                  # for the not so simple vignette\n",
    "library(caret)\n",
    "library(tidyverse)              \n",
    "library(yardstick)     \n",
    "library(recipes)\n",
    "library(caret)\n",
    "library(binaryLogic)\n",
    "library(patchwork)\n",
    "library(LSD)\n",
    "library(ggthemes)\n",
    "library(RColorBrewer)\n",
    "library(devtools)\n",
    "devtools::load_all(path_rbeni)\n",
    "library(rbeni)                                       \n",
    "devtools::load_all(path_ingestr)\n",
    "library(ingestr)"
   ]
  },
  {
   "cell_type": "code",
   "execution_count": 4,
   "id": "cbaebdc1-8737-4853-b645-8fa70b619a36",
   "metadata": {},
   "outputs": [],
   "source": [
    "%%R\n",
    "dataFile <- \"./data/FLUXNET_MODOCGA_MOD09GA1km_2000_2018_bands_processed.csv\"\n",
    "data_merged <- './data/df_lst_and_refl.csv'"
   ]
  },
  {
   "cell_type": "code",
   "execution_count": 5,
   "id": "2e56bee0-1eda-4fd7-a041-b359210a2d3f",
   "metadata": {},
   "outputs": [
    {
     "name": "stdout",
     "output_type": "stream",
     "text": [
      "[1] FALSE\n"
     ]
    }
   ],
   "source": [
    "%%R\n",
    "file.exists(dataFile)"
   ]
  },
  {
   "cell_type": "code",
   "execution_count": 6,
   "id": "9fab33f8-02b2-4aec-bace-05662de6bdf4",
   "metadata": {},
   "outputs": [],
   "source": [
    "# Extract MOD09A1 reflectance dates"
   ]
  },
  {
   "cell_type": "markdown",
   "id": "73db5816-4261-43c5-8741-f97e3a301ed4",
   "metadata": {},
   "source": [
    "### create a dataframe containing the relevant data with importData should there be no df_lst_and_refl.csv"
   ]
  },
  {
   "cell_type": "code",
   "execution_count": 7,
   "id": "e35c9876-5cb3-4f4d-98a5-26bfaed23d38",
   "metadata": {},
   "outputs": [
    {
     "name": "stdout",
     "output_type": "stream",
     "text": [
      "Rows: 241826 Columns: 34\n",
      "── Column specification ────────────────────────────────────────────────────────\n",
      "Delimiter: \",\"\n",
      "chr  (2): id, sites\n",
      "dbl (32): date, year_dec_x, LST_Day_1km_terra, QC_Day_terra, year_dec_y, LST...\n",
      "\n",
      "ℹ Use `spec()` to retrieve the full column specification for this data.\n",
      "ℹ Specify the column types or set `show_col_types = FALSE` to quiet this message.\n"
     ]
    }
   ],
   "source": [
    "%%R\n",
    "# create file with importData\n",
    "data = read_csv(data_merged)"
   ]
  },
  {
   "cell_type": "code",
   "execution_count": 8,
   "id": "18515227-6be8-456a-a3ca-e609e100695e",
   "metadata": {},
   "outputs": [
    {
     "name": "stdout",
     "output_type": "stream",
     "text": [
      "# A tibble: 241,826 × 34\n",
      "    date year_dec_x id         LST_Day_1km_terra QC_Day_terra sites  year_dec_y\n",
      "   <dbl>      <dbl> <chr>                  <dbl>        <dbl> <chr>       <dbl>\n",
      " 1 14245      2009  2009_01_01              307.           65 AR-Vir      2009 \n",
      " 2 14246      2009. 2009_01_02               NA             2 AR-Vir      2009.\n",
      " 3 14247      2009. 2009_01_03               NA             2 AR-Vir      2009.\n",
      " 4 14248      2009. 2009_01_04              303.           65 AR-Vir      2009.\n",
      " 5 14249      2009. 2009_01_05              307.            0 AR-Vir      2009.\n",
      " 6 14250      2009. 2009_01_06              311.            0 AR-Vir      2009.\n",
      " 7 14251      2009. 2009_01_07              310.           65 AR-Vir      2009.\n",
      " 8 14252      2009. 2009_01_08              304.           65 AR-Vir      2009.\n",
      " 9 14253      2009. 2009_01_09               NA             2 AR-Vir      2009.\n",
      "10 14254      2009. 2009_01_10               NA             2 AR-Vir      2009.\n",
      "# … with 241,816 more rows, and 27 more variables: LST_Day_1km_aqua <dbl>,\n",
      "#   QC_Day_aqua <dbl>, sur_refl_b08 <dbl>, sur_refl_b09 <dbl>,\n",
      "#   sur_refl_b10 <dbl>, sur_refl_b11 <dbl>, sur_refl_b12 <dbl>,\n",
      "#   sur_refl_b13 <dbl>, sur_refl_b14 <dbl>, sur_refl_b15 <dbl>,\n",
      "#   QC_b8_15_1km <dbl>, YY <dbl>, site_num <dbl>, state_1km <dbl>, MM <dbl>,\n",
      "#   DD <dbl>, QC_500m <dbl>, QC_b8_15_1km_paula <dbl>, QC_b16_1km <dbl>,\n",
      "#   sur_refl_b01 <dbl>, sur_refl_b02 <dbl>, sur_refl_b03 <dbl>, …\n"
     ]
    }
   ],
   "source": [
    "%%R\n",
    "data"
   ]
  },
  {
   "cell_type": "code",
   "execution_count": 9,
   "id": "b5076680-5a29-4849-811d-837e46573a3e",
   "metadata": {},
   "outputs": [],
   "source": [
    "%%R\n",
    "mod09 <- data %>% \n",
    "    dplyr::select(YY, MM, DD, sites, QC_500m, state_1km,                                                   ################ state_1km MODOCGA\n",
    "                  sur_refl_b01, sur_refl_b02, sur_refl_b03, sur_refl_b04, \n",
    "                  sur_refl_b05, sur_refl_b06, sur_refl_b07, \n",
    "                  ) %>% \n",
    "    mutate(date = ymd(paste(as.character(YY), as.character(MM), as.character(DD), sep=\"-\")))\n",
    "qflags_500 <- sort(unique(mod09$QC_500m)) "
   ]
  },
  {
   "cell_type": "code",
   "execution_count": 10,
   "id": "987b39e7-fb15-4897-8273-eeafe0d6b71c",
   "metadata": {},
   "outputs": [],
   "source": [
    "%%R\n",
    "dates_mod09  <- mod09 %>% \n",
    "    mutate(date = ymd(paste(as.character(YY), as.character(MM), as.character(DD), sep=\"-\")))"
   ]
  },
  {
   "cell_type": "code",
   "execution_count": 11,
   "id": "f4a4ba82-e63b-477a-a54e-38db93fcfe0d",
   "metadata": {},
   "outputs": [],
   "source": [
    "%%R\n",
    "QC_Data_500 <- data.frame(Integer_Value = qflags_500,  \n",
    "                        Bit31 = NA, \n",
    "                        Bit30 = NA, Bit29 = NA, Bit28 = NA, Bit27 = NA, Bit26 = NA, Bit25 = NA, Bit24 = NA, Bit23 = NA, Bit22 = NA, Bit21 = NA, \n",
    "                        Bit20 = NA, Bit19 = NA, Bit18 = NA, Bit17 = NA, Bit16 = NA, Bit15 = NA, Bit14 = NA, Bit13 = NA, Bit12 = NA, Bit11 = NA,\n",
    "                        Bit10 = NA, Bit9 = NA,  Bit8 = NA,  Bit7 = NA,  Bit6 = NA,  Bit5 = NA,  Bit4 = NA,  Bit3 = NA,  Bit2 = NA,  Bit1 = NA,\n",
    "                        Bit0 = NA)\n"
   ]
  },
  {
   "cell_type": "code",
   "execution_count": 12,
   "id": "9b629c87-1725-4e2a-a964-4a62cb630847",
   "metadata": {},
   "outputs": [],
   "source": [
    "%%R\n",
    "r <- 0\n",
    "for (i in QC_Data_500$Integer_Value){\n",
    "    AsInt <- as.integer(intToBits(i))\n",
    "    # AsInt <- as.integer(as.logical(as.binary(i, n=32, logic=F)))\n",
    "    QC_Data_500[r+1,2:33]<- AsInt[32:1] # changed from AsInt[32:1] - otherwise Bit0 would not be the LSB as described in the mod09 User Guide\n",
    "    r <- r+1\n",
    "}"
   ]
  },
  {
   "cell_type": "code",
   "execution_count": 13,
   "id": "1298d367-c43c-4273-b3f4-c038860fb908",
   "metadata": {},
   "outputs": [
    {
     "name": "stdout",
     "output_type": "stream",
     "text": [
      " [1] 1 0 1 1 0 0 0 0 0 0 0 0 0 0 0 0 0 0 0 0 0 0 0 0 0 0 0 0 0 0 0 0\n"
     ]
    }
   ],
   "source": [
    "%%R\n",
    "as.integer(intToBits(13))#[1:3]"
   ]
  },
  {
   "cell_type": "code",
   "execution_count": 14,
   "id": "f1d2e9df-97e9-4b8e-ac12-4f4c51a24d60",
   "metadata": {
    "scrolled": true,
    "tags": []
   },
   "outputs": [
    {
     "name": "stdout",
     "output_type": "stream",
     "text": [
      "Note: Using an external vector in selections is ambiguous.\n",
      "ℹ Use `all_of(all_bands)` instead of `all_bands` to silence this message.\n",
      "ℹ See <https://tidyselect.r-lib.org/reference/faq-external-vector.html>.\n",
      "This message is displayed once per session.\n",
      "Note: Using an external vector in selections is ambiguous.\n",
      "ℹ Use `all_of(b1)` instead of `b1` to silence this message.\n",
      "ℹ See <https://tidyselect.r-lib.org/reference/faq-external-vector.html>.\n",
      "This message is displayed once per session.\n",
      "Note: Using an external vector in selections is ambiguous.\n",
      "ℹ Use `all_of(b2)` instead of `b2` to silence this message.\n",
      "ℹ See <https://tidyselect.r-lib.org/reference/faq-external-vector.html>.\n",
      "This message is displayed once per session.\n",
      "Note: Using an external vector in selections is ambiguous.\n",
      "ℹ Use `all_of(b3)` instead of `b3` to silence this message.\n",
      "ℹ See <https://tidyselect.r-lib.org/reference/faq-external-vector.html>.\n",
      "This message is displayed once per session.\n",
      "Note: Using an external vector in selections is ambiguous.\n",
      "ℹ Use `all_of(b4)` instead of `b4` to silence this message.\n",
      "ℹ See <https://tidyselect.r-lib.org/reference/faq-external-vector.html>.\n",
      "This message is displayed once per session.\n",
      "Note: Using an external vector in selections is ambiguous.\n",
      "ℹ Use `all_of(b5)` instead of `b5` to silence this message.\n",
      "ℹ See <https://tidyselect.r-lib.org/reference/faq-external-vector.html>.\n",
      "This message is displayed once per session.\n",
      "Note: Using an external vector in selections is ambiguous.\n",
      "ℹ Use `all_of(b6)` instead of `b6` to silence this message.\n",
      "ℹ See <https://tidyselect.r-lib.org/reference/faq-external-vector.html>.\n",
      "This message is displayed once per session.\n",
      "Note: Using an external vector in selections is ambiguous.\n",
      "ℹ Use `all_of(b7)` instead of `b7` to silence this message.\n",
      "ℹ See <https://tidyselect.r-lib.org/reference/faq-external-vector.html>.\n",
      "This message is displayed once per session.\n",
      "Note: Using an external vector in selections is ambiguous.\n",
      "ℹ Use `all_of(atmospheric_correction)` instead of `atmospheric_correction` to silence this message.\n",
      "ℹ See <https://tidyselect.r-lib.org/reference/faq-external-vector.html>.\n",
      "This message is displayed once per session.\n",
      "Note: Using an external vector in selections is ambiguous.\n",
      "ℹ Use `all_of(adjacency_correction)` instead of `adjacency_correction` to silence this message.\n",
      "ℹ See <https://tidyselect.r-lib.org/reference/faq-external-vector.html>.\n",
      "This message is displayed once per session.\n"
     ]
    }
   ],
   "source": [
    "%%R\n",
    "my_data <- as_tibble(QC_Data_500)\n",
    "\n",
    "# columns with the bits of interest for QC_500 of MOD09A1\n",
    "all_bands <- c(33:32)                # Bit 0 and 1\n",
    "b1 <- c(31:28)                       # Bit 2 - 5\n",
    "b2 <- c(27:24)                       # Bit 6 - 9\n",
    "b3 <- c(23:20)                       # Bit 10 - 13\n",
    "b4 <- c(19:16)                       # Bit 14 - 17\n",
    "b5 <- c(15:12)                       # Bit 18 - 21 \n",
    "b6 <- c(11:8)                        # Bit 22 - 25 \n",
    "b7 <- c(7:4)                         # Bit 26 - 29 \n",
    "atmospheric_correction <- c(3:3)     # Bit 30\n",
    "adjacency_correction <- c(2:2)       # Bit 31\n",
    "\n",
    "# select valid QC_500 depending on the bands\n",
    "# selects the first column (select(1) if all Bits are 0 filter_at(vars(-Integer_Value), all_vars(.== 0), of the selected Bits b1 (select(1,b1) --> Bit 2 to 5) of the data (my_data)\n",
    "# select(my_data, all_bands)\n",
    "filter_qflags_qc_all_bands <- my_data %>% select(1,all_bands) %>% filter_at(vars(-Integer_Value), all_vars(.== 0)) %>% select(1)\n",
    "filter_qflags_qc_b1 <- my_data %>% select(1,b1) %>% filter_at(vars(-Integer_Value), all_vars(.== 0)) %>% select(1)\n",
    "filter_qflags_qc_b2 <- my_data %>% select(1,b2) %>% filter_at(vars(-Integer_Value), all_vars(.== 0)) %>% select(1)\n",
    "filter_qflags_qc_b3 <- my_data %>% select(1,b3) %>% filter_at(vars(-Integer_Value), all_vars(.== 0)) %>% select(1)\n",
    "filter_qflags_qc_b4 <- my_data %>% select(1,b4) %>% filter_at(vars(-Integer_Value), all_vars(.== 0)) %>% select(1)\n",
    "filter_qflags_qc_b5 <- my_data %>% select(1,b5) %>% filter_at(vars(-Integer_Value), all_vars(.== 0)) %>% select(1)\n",
    "filter_qflags_qc_b6 <- my_data %>% select(1,b6) %>% filter_at(vars(-Integer_Value), all_vars(.== 0)) %>% select(1)\n",
    "filter_qflags_qc_b7 <- my_data %>% select(1,b7) %>% filter_at(vars(-Integer_Value), all_vars(.== 0)) %>% select(1)\n",
    "filter_qflags_qc_atmospheric_correction <- my_data %>% select(1,atmospheric_correction) %>% filter_at(vars(-Integer_Value), all_vars(.== 1)) %>% select(1)\n",
    "filter_qflags_qc_adjacency_correction <- my_data %>% select(1,adjacency_correction) %>% filter_at(vars(-Integer_Value), all_vars(.== 1)) %>% select(1)\n",
    "# fills the data with NA if quality check failed\n",
    "\n"
   ]
  },
  {
   "cell_type": "code",
   "execution_count": 15,
   "id": "b75c1392-19a8-4a88-81fb-80bfc2bf749e",
   "metadata": {},
   "outputs": [],
   "source": [
    "%%R\n",
    "mod09$b01 <- mod09$sur_refl_b01 \n",
    "mod09$b01[!mod09$QC_500m %in% filter_qflags_qc_b1$Integer_Value] <- NA\n",
    "mod09$b02 <- mod09$sur_refl_b02\n",
    "mod09$b01[!mod09$QC_500m %in% filter_qflags_qc_b1$Integer_Value] <- NA\n",
    "mod09$b03 <- mod09$sur_refl_b03 \n",
    "mod09$b03[!mod09$QC_500m %in% filter_qflags_qc_b3$Integer_Value] <- NA\n",
    "mod09$b04 <- mod09$sur_refl_b04\n",
    "mod09$b04[!mod09$QC_500m %in% filter_qflags_qc_b4$Integer_Value] <- NA\n",
    "mod09$b05 <- mod09$sur_refl_b05\n",
    "mod09$b05[!mod09$QC_500m %in% filter_qflags_qc_b5$Integer_Value] <- NA\n",
    "mod09$b06 <- mod09$sur_refl_b06 \n",
    "mod09$b06[!mod09$QC_500m %in% filter_qflags_qc_b6$Integer_Value] <- NA\n",
    "mod09$b07 <- mod09$sur_refl_b07\n",
    "mod09$b07[!mod09$QC_500m %in% filter_qflags_qc_b7$Integer_Value] <- NA"
   ]
  },
  {
   "cell_type": "code",
   "execution_count": 16,
   "id": "48938783-c982-4c1c-8798-db252c483f94",
   "metadata": {
    "scrolled": true,
    "tags": []
   },
   "outputs": [
    {
     "name": "stdout",
     "output_type": "stream",
     "text": [
      "[1] TRUE TRUE TRUE TRUE TRUE TRUE\n"
     ]
    }
   ],
   "source": [
    "%%R\n",
    "# adds a flag column if quality check is passed/if corrected (atmospheric and adjacency correction)       !!!!!!!!!!!!  DOES NOT WORK  !!!!!!!!!!!!!!!!      \n",
    "mod09$qc_flag_all_bands<- isTRUE(mod09$QC_500m %in% filter_qflags_qc_all_bands$Integer_Value)\n",
    "mod09$qc_flag_b01 <- mod09$QC_500m %in% filter_qflags_qc_b1$Integer_Value\n",
    "mod09$qc_flag_b02 <- mod09$QC_500m %in% filter_qflags_qc_b2$Integer_Value\n",
    "mod09$qc_flag_b03 <- mod09$QC_500m %in% filter_qflags_qc_b3$Integer_Value\n",
    "mod09$qc_flag_b04 <- mod09$QC_500m %in% filter_qflags_qc_b4$Integer_Value\n",
    "mod09$qc_flag_b05 <- mod09$QC_500m %in% filter_qflags_qc_b5$Integer_Value\n",
    "mod09$qc_flag_b06 <- mod09$QC_500m %in% filter_qflags_qc_b6$Integer_Value\n",
    "mod09$qc_flag_b07 <- mod09$QC_500m %in% filter_qflags_qc_b7$Integer_Value\n",
    "mod09$qc_flag_atmospheric_correction<- mod09$QC_500m %in% filter_qflags_qc_atmospheric_correction$Integer_Value\n",
    "mod09$qc_flag_adjacency_correction<- mod09$QC_500m %in% filter_qflags_qc_adjacency_correction$Integer_Value\n",
    "head(mod09$qc_flag_b01)                 \n"
   ]
  },
  {
   "cell_type": "markdown",
   "id": "32fd06f9-1cbe-486a-a95d-9c7f8b413c8e",
   "metadata": {},
   "source": [
    "# MODOC"
   ]
  },
  {
   "cell_type": "code",
   "execution_count": 17,
   "id": "38622367-ba89-43f1-88b9-f28e1d9ba204",
   "metadata": {},
   "outputs": [],
   "source": [
    "%%R\n",
    "#### MODOC ####\n",
    "modocga <- data %>% \n",
    "    dplyr::select(YY, MM, DD, sites, QC_b8_15_1km, QC_b16_1km, \n",
    "                  sur_refl_b08, sur_refl_b09, sur_refl_b10, \n",
    "                  sur_refl_b11, sur_refl_b12, sur_refl_b13, \n",
    "                  sur_refl_b14, sur_refl_b15, sur_refl_b16) %>% \n",
    "    mutate(date = ymd(paste(as.character(YY), as.character(MM), as.character(DD), sep=\"-\")))"
   ]
  },
  {
   "cell_type": "code",
   "execution_count": 18,
   "id": "0f189309-d2d8-4ec2-a124-14f25dab9db3",
   "metadata": {},
   "outputs": [
    {
     "name": "stdout",
     "output_type": "stream",
     "text": [
      "# A tibble: 6 × 16\n",
      "     YY    MM    DD sites  QC_b8_15_1km QC_b16_1km sur_refl_b08 sur_refl_b09\n",
      "  <dbl> <dbl> <dbl> <chr>         <dbl>      <dbl>        <dbl>        <dbl>\n",
      "1  2009     1     1 AR-Vir   3721396224        208       0.0174       0.03  \n",
      "2  2009     1     2 AR-Vir   3722304976        208       0.474       -0.01  \n",
      "3  2009     1     3 AR-Vir   3722304976        208       0.367       -0.01  \n",
      "4  2009     1     4 AR-Vir   3722304768        208       0.229        0.240 \n",
      "5  2009     1     5 AR-Vir   3489660928        208       0.0098       0.015 \n",
      "6  2009     1     6 AR-Vir   3503292416        208       0.0228       0.0308\n",
      "# … with 8 more variables: sur_refl_b10 <dbl>, sur_refl_b11 <dbl>,\n",
      "#   sur_refl_b12 <dbl>, sur_refl_b13 <dbl>, sur_refl_b14 <dbl>,\n",
      "#   sur_refl_b15 <dbl>, sur_refl_b16 <dbl>, date <date>\n"
     ]
    }
   ],
   "source": [
    "%%R\n",
    "head(modocga)"
   ]
  },
  {
   "cell_type": "code",
   "execution_count": 19,
   "id": "3354aeec-7e7a-4385-98a9-bbc9d6be2870",
   "metadata": {
    "tags": []
   },
   "outputs": [],
   "source": [
    "%%R\n",
    "#https://ladsweb.modaps.eosdis.nasa.gov/filespec/MODIS/6/MODOCGA\n",
    "qflags_modocga_b8_to_b15 <- sort(unique(modocga$QC_b8_15_1km))# 32 bits\n",
    "qflags_modocga_b16 <- sort(unique(modocga$QC_b16_1km))# 8 bits\n",
    "\n"
   ]
  },
  {
   "cell_type": "code",
   "execution_count": 20,
   "id": "72b85427-12f8-403a-a5b7-c1e8d54f2e88",
   "metadata": {},
   "outputs": [
    {
     "name": "stdout",
     "output_type": "stream",
     "text": [
      "[1]    0   13  208  221 3328 3341\n"
     ]
    }
   ],
   "source": [
    "%%R\n",
    "head(qflags_modocga_b8_to_b15)"
   ]
  },
  {
   "cell_type": "code",
   "execution_count": 21,
   "id": "3fca186b-ad93-4680-aa64-914fdd145609",
   "metadata": {
    "tags": []
   },
   "outputs": [
    {
     "name": "stdout",
     "output_type": "stream",
     "text": [
      "  Integer_Value Bit7 Bit6 Bit5 Bit4 Bit3 Bit2 Bit1 Bit0\n",
      "1             0   NA   NA   NA   NA   NA   NA   NA   NA\n",
      "2           144   NA   NA   NA   NA   NA   NA   NA   NA\n",
      "3           160   NA   NA   NA   NA   NA   NA   NA   NA\n",
      "4           208   NA   NA   NA   NA   NA   NA   NA   NA\n"
     ]
    }
   ],
   "source": [
    "%%R\n",
    "QC_Data_MODOCGA_b8_b15<- data.frame(Integer_Value = qflags_modocga_b8_to_b15, \n",
    "                        Bit31 = NA, \n",
    "                        Bit30 = NA, Bit29 = NA, Bit28 = NA, Bit27 = NA, Bit26 = NA, Bit25 = NA, Bit24 = NA, Bit23 = NA, Bit22 = NA, Bit21 = NA, \n",
    "                        Bit20 = NA, Bit19 = NA, Bit18 = NA, Bit17 = NA, Bit16 = NA, Bit15 = NA, Bit14 = NA, Bit13 = NA, Bit12 = NA, Bit11 = NA,\n",
    "                        Bit10 = NA, Bit9 = NA,  Bit8 = NA,  Bit7 = NA,  Bit6 = NA,  Bit5 = NA,  Bit4 = NA,  Bit3 = NA,  Bit2 = NA,  Bit1 = NA,\n",
    "                        Bit0 = NA)\n",
    "QC_Data_MODOCGA_b16<- data.frame(Integer_Value = qflags_modocga_b16, \n",
    "                        Bit7 = NA,  Bit6 = NA,  Bit5 = NA,  Bit4 = NA,  Bit3 = NA,  Bit2 = NA,  Bit1 = NA,\n",
    "                        Bit0 = NA)\n",
    "QC_Data_MODOCGA_b16"
   ]
  },
  {
   "cell_type": "code",
   "execution_count": 22,
   "id": "a98a2037-f690-4d05-be5e-1de0915c2a06",
   "metadata": {},
   "outputs": [
    {
     "name": "stdout",
     "output_type": "stream",
     "text": [
      "  Integer_Value Bit31 Bit30 Bit29 Bit28 Bit27 Bit26 Bit25 Bit24 Bit23 Bit22\n",
      "1             0     0     0     0     0     0     0     0     0     0     0\n",
      "2            13     0     0     0     0     0     0     0     0     0     0\n",
      "3           208     0     0     0     0     0     0     0     0     0     0\n",
      "4           221     0     0     0     0     0     0     0     0     0     0\n",
      "5          3328     0     0     0     0     0     0     0     0     0     0\n",
      "6          3341     0     0     0     0     0     0     0     0     0     0\n",
      "  Bit21 Bit20 Bit19 Bit18 Bit17 Bit16 Bit15 Bit14 Bit13 Bit12 Bit11 Bit10 Bit9\n",
      "1     0     0     0     0     0     0     0     0     0     0     0     0    0\n",
      "2     0     0     0     0     0     0     0     0     0     0     0     0    0\n",
      "3     0     0     0     0     0     0     0     0     0     0     0     0    0\n",
      "4     0     0     0     0     0     0     0     0     0     0     0     0    0\n",
      "5     0     0     0     0     0     0     0     0     0     0     1     1    0\n",
      "6     0     0     0     0     0     0     0     0     0     0     1     1    0\n",
      "  Bit8 Bit7 Bit6 Bit5 Bit4 Bit3 Bit2 Bit1 Bit0\n",
      "1    0    0    0    0    0    0    0    0    0\n",
      "2    0    0    0    0    0    1    1    0    1\n",
      "3    0    1    1    0    1    0    0    0    0\n",
      "4    0    1    1    0    1    1    1    0    1\n",
      "5    1    0    0    0    0    0    0    0    0\n",
      "6    1    0    0    0    0    1    1    0    1\n"
     ]
    }
   ],
   "source": [
    "%%R\n",
    "r <- 0\n",
    "for (i in QC_Data_MODOCGA_b8_b15$Integer_Value){\n",
    "    AsInt <- as.integer(intToBits(i)) # reads in LSB first \n",
    "    # AsInt <- as.integer(as.logical(as.binary(i, n=32, logic=F)))\n",
    "    QC_Data_MODOCGA_b8_b15[r+1,2:33]<- AsInt[32:1] #  AsInt[32:1] - otherwise Bit0 would not be the LSB as described in the mod09 User Guide\n",
    "    r <- r+1\n",
    "}\n",
    "r <- 0\n",
    "for (i in QC_Data_MODOCGA_b16$Integer_Value){\n",
    "    AsInt <- as.integer(intToBits(i)) # reads in LSB first \n",
    "    # AsInt <- as.integer(as.logical(as.binary(i, n=32, logic=F)))\n",
    "    QC_Data_MODOCGA_b16[r+1,2:9]<- AsInt[8:1] #  AsInt[32:1] - otherwise Bit0 would not be the LSB as described in the mod09 User Guide\n",
    "    r <- r+1\n",
    "}\n",
    "head(QC_Data_MODOCGA_b8_b15)"
   ]
  },
  {
   "cell_type": "code",
   "execution_count": 23,
   "id": "f6ab9640-0016-4319-a1c4-c04d329de771",
   "metadata": {
    "scrolled": true,
    "tags": []
   },
   "outputs": [
    {
     "name": "stdout",
     "output_type": "stream",
     "text": [
      "Note: Using an external vector in selections is ambiguous.\n",
      "ℹ Use `all_of(b8)` instead of `b8` to silence this message.\n",
      "ℹ See <https://tidyselect.r-lib.org/reference/faq-external-vector.html>.\n",
      "This message is displayed once per session.\n",
      "Note: Using an external vector in selections is ambiguous.\n",
      "ℹ Use `all_of(b9)` instead of `b9` to silence this message.\n",
      "ℹ See <https://tidyselect.r-lib.org/reference/faq-external-vector.html>.\n",
      "This message is displayed once per session.\n",
      "Note: Using an external vector in selections is ambiguous.\n",
      "ℹ Use `all_of(b10)` instead of `b10` to silence this message.\n",
      "ℹ See <https://tidyselect.r-lib.org/reference/faq-external-vector.html>.\n",
      "This message is displayed once per session.\n",
      "Note: Using an external vector in selections is ambiguous.\n",
      "ℹ Use `all_of(b11)` instead of `b11` to silence this message.\n",
      "ℹ See <https://tidyselect.r-lib.org/reference/faq-external-vector.html>.\n",
      "This message is displayed once per session.\n",
      "Note: Using an external vector in selections is ambiguous.\n",
      "ℹ Use `all_of(b12)` instead of `b12` to silence this message.\n",
      "ℹ See <https://tidyselect.r-lib.org/reference/faq-external-vector.html>.\n",
      "This message is displayed once per session.\n",
      "Note: Using an external vector in selections is ambiguous.\n",
      "ℹ Use `all_of(b13)` instead of `b13` to silence this message.\n",
      "ℹ See <https://tidyselect.r-lib.org/reference/faq-external-vector.html>.\n",
      "This message is displayed once per session.\n",
      "Note: Using an external vector in selections is ambiguous.\n",
      "ℹ Use `all_of(b14)` instead of `b14` to silence this message.\n",
      "ℹ See <https://tidyselect.r-lib.org/reference/faq-external-vector.html>.\n",
      "This message is displayed once per session.\n",
      "Note: Using an external vector in selections is ambiguous.\n",
      "ℹ Use `all_of(b15)` instead of `b15` to silence this message.\n",
      "ℹ See <https://tidyselect.r-lib.org/reference/faq-external-vector.html>.\n",
      "This message is displayed once per session.\n",
      "Note: Using an external vector in selections is ambiguous.\n",
      "ℹ Use `all_of(b16)` instead of `b16` to silence this message.\n",
      "ℹ See <https://tidyselect.r-lib.org/reference/faq-external-vector.html>.\n",
      "This message is displayed once per session.\n"
     ]
    }
   ],
   "source": [
    "%%R\n",
    "my_data_b8_b15 <- as_tibble(QC_Data_MODOCGA_b8_b15)\n",
    "my_data_b16 <- as_tibble(QC_Data_MODOCGA_b16)\n",
    "# columns with the bits of interest for QC_1000 of MODOCGA\n",
    "# https://ladsweb.modaps.eosdis.nasa.gov/filespec/MODIS/6/MODOCGA\n",
    "b8 <- c(33:30)                       # Bit 0 - 3\n",
    "b9 <- c(29:26)                       # Bit 4 - 7\n",
    "b10 <- c(25:22)                      # Bit 8 - 11\n",
    "b11 <- c(21:18)                      # Bit 12 - 15\n",
    "b12 <- c(17:14)                      # Bit 16 - 19 \n",
    "b13 <- c(13:10)                      # Bit 20 - 23 \n",
    "b14 <- c(9:6)                        # Bit 24 - 27 \n",
    "b15 <- c(5:2)                        # Bit 28 - 31 \n",
    "b16 <- c(5:2)                        # Bit 4 - 7\n",
    "\n",
    "# select valid QC_500 depending on the bands\n",
    "# selects the first column (select(1) if all Bits are 0 filter_at(vars(-Integer_Value), all_vars(.== 0), of the selected Bits b1 (select(1,b1) --> Bit 2 to 5) of the data (my_data)\n",
    "# select(my_data, all_bands)\n",
    "filter_qflags_qc_b08 <- my_data_b8_b15 %>% select(1,b8) %>% filter_at(vars(-Integer_Value), all_vars(.== 0)) %>% select(1)\n",
    "filter_qflags_qc_b09 <- my_data_b8_b15 %>% select(1,b9) %>% filter_at(vars(-Integer_Value), all_vars(.== 0)) %>% select(1)\n",
    "filter_qflags_qc_b10 <- my_data_b8_b15 %>% select(1,b10) %>% filter_at(vars(-Integer_Value), all_vars(.== 0)) %>% select(1)\n",
    "filter_qflags_qc_b11 <- my_data_b8_b15 %>% select(1,b11) %>% filter_at(vars(-Integer_Value), all_vars(.== 0)) %>% select(1)\n",
    "filter_qflags_qc_b12 <- my_data_b8_b15 %>% select(1,b12) %>% filter_at(vars(-Integer_Value), all_vars(.== 0)) %>% select(1)\n",
    "filter_qflags_qc_b13 <- my_data_b8_b15 %>% select(1,b13) %>% filter_at(vars(-Integer_Value), all_vars(.== 0)) %>% select(1)\n",
    "filter_qflags_qc_b14 <- my_data_b8_b15 %>% select(1,b14) %>% filter_at(vars(-Integer_Value), all_vars(.== 0)) %>% select(1)\n",
    "filter_qflags_qc_b15 <- my_data_b8_b15 %>% select(1,b15) %>% filter_at(vars(-Integer_Value), all_vars(.== 0)) %>% select(1)\n",
    "filter_qflags_qc_b16 <- my_data_b16 %>% select(1,b16) %>% filter_at(vars(-Integer_Value), all_vars(.== 0)) %>% select(1)\n"
   ]
  },
  {
   "cell_type": "code",
   "execution_count": 24,
   "id": "deb9dd5a-d9d1-43a2-88ae-0ab1126ef8da",
   "metadata": {},
   "outputs": [],
   "source": [
    "%%R\n",
    "modocga$b08 <- modocga$sur_refl_b08\n",
    "modocga$b08[!modocga$QC_b8_15_1km %in% filter_qflags_qc_b08$Integer_Value] <- NA\n",
    "modocga$b09 <- modocga$sur_refl_b09\n",
    "modocga$b09[!modocga$QC_b8_15_1km %in% filter_qflags_qc_b09$Integer_Value] <- NA\n",
    "modocga$b10 <- modocga$sur_refl_b10\n",
    "modocga$b10[!modocga$QC_b8_15_1km %in% filter_qflags_qc_b10$Integer_Value] <- NA\n",
    "modocga$b11 <- modocga$sur_refl_b11\n",
    "modocga$b11[!modocga$QC_b8_15_1km %in% filter_qflags_qc_b11$Integer_Value] <- NA\n",
    "modocga$b12 <- modocga$sur_refl_b12\n",
    "modocga$b12[!modocga$QC_b8_15_1km %in% filter_qflags_qc_b12$Integer_Value] <- NA\n",
    "modocga$b13 <- modocga$sur_refl_b13\n",
    "modocga$b13[!modocga$QC_b8_15_1km %in% filter_qflags_qc_b13$Integer_Value] <- NA\n",
    "modocga$b14 <- modocga$sur_refl_b14\n",
    "modocga$b14[!modocga$QC_b8_15_1km %in% filter_qflags_qc_b14$Integer_Value] <- NA\n",
    "modocga$b15 <- modocga$sur_refl_b15\n",
    "modocga$b15[!modocga$QC_b8_15_1km %in% filter_qflags_qc_b15$Integer_Value] <- NA\n",
    "modocga$b16 <- modocga$sur_refl_b16\n",
    "modocga$b16[!modocga$QC_b16_1km %in% filter_qflags_qc_b16$Integer_Value] <- NA\n",
    "\n"
   ]
  },
  {
   "cell_type": "code",
   "execution_count": 25,
   "id": "dfe8a308-b082-4192-b937-45aed6e198bc",
   "metadata": {
    "scrolled": true,
    "tags": []
   },
   "outputs": [
    {
     "name": "stdout",
     "output_type": "stream",
     "text": [
      "[1] TRUE TRUE TRUE TRUE TRUE TRUE\n"
     ]
    }
   ],
   "source": [
    "%%R\n",
    "# adds a flag column if quality check is passed (TRUE)  !!!!!!!!!!!!  DOES NOT WORK  !!!!!!!!!!!!!!!!\n",
    "modocga$qc_flag_b08 <- modocga$QC_b8_15_1km %in% filter_qflags_qc_b08$Integer_Value\n",
    "modocga$qc_flag_b09 <- modocga$QC_b8_15_1km %in% filter_qflags_qc_b09$Integer_Value\n",
    "modocga$qc_flag_b10 <- modocga$QC_b8_15_1km %in% filter_qflags_qc_b10$Integer_Value\n",
    "modocga$qc_flag_b11 <- modocga$QC_b8_15_1km %in% filter_qflags_qc_b11$Integer_Value\n",
    "modocga$qc_flag_b12 <- modocga$QC_b8_15_1km %in% filter_qflags_qc_b12$Integer_Value\n",
    "modocga$qc_flag_b13 <- modocga$QC_b8_15_1km %in% filter_qflags_qc_b13$Integer_Value\n",
    "modocga$qc_flag_b14 <- modocga$QC_b8_15_1km %in% filter_qflags_qc_b14$Integer_Value\n",
    "modocga$qc_flag_b15 <- modocga$QC_b8_15_1km %in% filter_qflags_qc_b15$Integer_Value\n",
    "modocga$qc_flag_b16 <- modocga$QC_b16_1km %in% filter_qflags_qc_b16$Integer_Value\n",
    "head(modocga$qc_flag_b08)                 \n"
   ]
  },
  {
   "cell_type": "code",
   "execution_count": 26,
   "id": "2bdb9abc-a227-4b69-bc6a-2c9523caa629",
   "metadata": {},
   "outputs": [
    {
     "name": "stdout",
     "output_type": "stream",
     "text": [
      "# A tibble: 6 × 34\n",
      "     YY    MM    DD sites  QC_b8_15_1km QC_b16_1km sur_refl_b08 sur_refl_b09\n",
      "  <dbl> <dbl> <dbl> <chr>         <dbl>      <dbl>        <dbl>        <dbl>\n",
      "1  2009     1     1 AR-Vir   3721396224        208       0.0174       0.03  \n",
      "2  2009     1     2 AR-Vir   3722304976        208       0.474       -0.01  \n",
      "3  2009     1     3 AR-Vir   3722304976        208       0.367       -0.01  \n",
      "4  2009     1     4 AR-Vir   3722304768        208       0.229        0.240 \n",
      "5  2009     1     5 AR-Vir   3489660928        208       0.0098       0.015 \n",
      "6  2009     1     6 AR-Vir   3503292416        208       0.0228       0.0308\n",
      "# … with 26 more variables: sur_refl_b10 <dbl>, sur_refl_b11 <dbl>,\n",
      "#   sur_refl_b12 <dbl>, sur_refl_b13 <dbl>, sur_refl_b14 <dbl>,\n",
      "#   sur_refl_b15 <dbl>, sur_refl_b16 <dbl>, date <date>, b08 <dbl>, b09 <dbl>,\n",
      "#   b10 <dbl>, b11 <dbl>, b12 <dbl>, b13 <dbl>, b14 <dbl>, b15 <dbl>,\n",
      "#   b16 <dbl>, qc_flag_b08 <lgl>, qc_flag_b09 <lgl>, qc_flag_b10 <lgl>,\n",
      "#   qc_flag_b11 <lgl>, qc_flag_b12 <lgl>, qc_flag_b13 <lgl>, qc_flag_b14 <lgl>,\n",
      "#   qc_flag_b15 <lgl>, qc_flag_b16 <lgl>\n"
     ]
    }
   ],
   "source": [
    "%%R \n",
    "head(modocga)"
   ]
  },
  {
   "cell_type": "code",
   "execution_count": null,
   "id": "46a9a08d-db71-41f0-a60f-4f769a1814d7",
   "metadata": {},
   "outputs": [],
   "source": []
  },
  {
   "cell_type": "markdown",
   "id": "25b7fd56-d529-4a2d-aab4-3c97316b31c0",
   "metadata": {},
   "source": [
    "# Land Surface Temperature"
   ]
  },
  {
   "cell_type": "code",
   "execution_count": 27,
   "id": "298d9593-90e4-448c-9fc3-e375ebecc745",
   "metadata": {},
   "outputs": [],
   "source": [
    "%%R\n",
    "df_lst_terra <- data %>% \n",
    "    dplyr::select(YY, MM, DD, sites,LST_Day_1km_terra, QC_Day_terra) %>% \n",
    "    mutate(date = ymd(paste(as.character(YY), as.character(MM), as.character(DD), sep=\"-\")))\n",
    "df_lst_aqua <- data %>% \n",
    "    dplyr::select(YY, MM, DD, sites,LST_Day_1km_aqua, QC_Day_aqua) %>% \n",
    "    mutate(date = ymd(paste(as.character(YY), as.character(MM), as.character(DD), sep=\"-\")))\n"
   ]
  },
  {
   "cell_type": "code",
   "execution_count": 28,
   "id": "91a96ffc-5a12-411d-afe3-41e58bf4c871",
   "metadata": {},
   "outputs": [],
   "source": [
    "%%R\n",
    "# https://lpdaac.usgs.gov/documents/118/MOD11_User_Guide_V6.pdf\n",
    "qflags_lst_terra <- sort(unique(df_lst_terra$QC_Day_terra)) # 8 bits\n",
    "qflags_lst_aqua <- sort(unique(df_lst_aqua$QC_Day_aqua)) # 8 bits\n"
   ]
  },
  {
   "cell_type": "code",
   "execution_count": 29,
   "id": "8f471398-e6b1-4af2-9663-bd51d0575ddb",
   "metadata": {},
   "outputs": [],
   "source": [
    "%%R\n",
    "QC_lst_terra <- data.frame(Integer_Value = qflags_lst_terra, \n",
    "                        Bit7 = NA,  Bit6 = NA,  Bit5 = NA,  Bit4 = NA,  Bit3 = NA,  Bit2 = NA,  Bit1 = NA,\n",
    "                        Bit0 = NA)\n",
    "QC_lst_aqua <- data.frame(Integer_Value = qflags_lst_aqua, \n",
    "                        Bit7 = NA,  Bit6 = NA,  Bit5 = NA,  Bit4 = NA,  Bit3 = NA,  Bit2 = NA,  Bit1 = NA,\n",
    "                        Bit0 = NA)"
   ]
  },
  {
   "cell_type": "code",
   "execution_count": 30,
   "id": "465c650a-f8ef-4b95-8b40-93f1dd2145e2",
   "metadata": {},
   "outputs": [
    {
     "name": "stdout",
     "output_type": "stream",
     "text": [
      "  Integer_Value Bit7 Bit6 Bit5 Bit4 Bit3 Bit2 Bit1 Bit0\n",
      "1             0    0    0    0    0    0    0    0    0\n",
      "2             2    0    0    0    0    0    0    1    0\n",
      "3             8    0    0    0    0    1    0    0    0\n",
      "4            17    0    0    0    1    0    0    0    1\n",
      "5            65    0    1    0    0    0    0    0    1\n",
      "6            69    0    1    0    0    0    1    0    1\n"
     ]
    }
   ],
   "source": [
    "%%R\n",
    "r <- 0\n",
    "for (i in QC_lst_terra$Integer_Value){\n",
    "    AsInt <- as.integer(intToBits(i)) # reads in LSB first \n",
    "    QC_lst_terra[r+1,2:9]<- AsInt[8:1]\n",
    "    r <- r+1\n",
    "}\n",
    "r <- 0\n",
    "for (i in QC_lst_aqua$Integer_Value){\n",
    "    AsInt <- as.integer(intToBits(i)) # reads in LSB first \n",
    "    QC_lst_aqua[r+1,2:9]<- AsInt[8:1] \n",
    "    r <- r+1\n",
    "}\n",
    "head(QC_lst_aqua)"
   ]
  },
  {
   "cell_type": "code",
   "execution_count": 31,
   "id": "cc13be72-0db8-4edc-a648-7331b6ab6348",
   "metadata": {},
   "outputs": [
    {
     "name": "stdout",
     "output_type": "stream",
     "text": [
      "Note: Using an external vector in selections is ambiguous.\n",
      "ℹ Use `all_of(good_quality)` instead of `good_quality` to silence this message.\n",
      "ℹ See <https://tidyselect.r-lib.org/reference/faq-external-vector.html>.\n",
      "This message is displayed once per session.\n",
      "Note: Using an external vector in selections is ambiguous.\n",
      "ℹ Use `all_of(emissitivity_error)` instead of `emissitivity_error` to silence this message.\n",
      "ℹ See <https://tidyselect.r-lib.org/reference/faq-external-vector.html>.\n",
      "This message is displayed once per session.\n",
      "Note: Using an external vector in selections is ambiguous.\n",
      "ℹ Use `all_of(lst_error)` instead of `lst_error` to silence this message.\n",
      "ℹ See <https://tidyselect.r-lib.org/reference/faq-external-vector.html>.\n",
      "This message is displayed once per session.\n"
     ]
    }
   ],
   "source": [
    "%%R\n",
    "qc_lst_aqua <- as_tibble(QC_lst_aqua)\n",
    "# columns with the bits of interest for QC_Day of MYD11A1\n",
    "# starts with LSB\n",
    "# https://lpdaac.usgs.gov/documents/118/MOD11_User_Guide_V6.pdf\n",
    "overall <- c(9:8)                          # Bit 0, 1: 00=LST produced, good quality, not necessary to examine more detailed QA \n",
    "                                           #           01=LST produced, other quality, recommend examination of more detailed QA\n",
    "                                           #           10=LST not produced due to cloud effects \n",
    "                                           #           11=LST not produced primarily due to reasons other than cloud\n",
    "good_quality <- c(7:6)                     # Bit 3, 2: 00=good data quality \n",
    "                                           #           01=other quality data\n",
    "                                           #           10=TBD\n",
    "                                           #           11=TBD\n",
    "emissitivity_error <- c(5:4)               # Bit 5, 4: 00=average emissivity error <= 0.01 \n",
    "                                           #           01=average emissivity error <= 0.02\n",
    "                                           #           10=average emissivity error <= 0.04\n",
    "                                           #           11=average emissivity error > 0.04\n",
    "lst_error <- c(3:2)                        # Bit 7, 6: 00=average LST error <= 1K \n",
    "                                           #           01=average LST error <= 2K \n",
    "                                           #           10=average LST error <= 3K\n",
    "                                           #           11=average LST error > 3K\n",
    "\n",
    "# select valid QC_Day\n",
    "\n",
    "qc_overall            <- qc_lst_aqua %>% select(1,all_of(overall)) %>% filter_at(vars(-Integer_Value), all_vars(.== 0)) %>% select(1)\n",
    "qc_good_quality       <- qc_lst_aqua %>% select(1,good_quality) %>% filter_at(vars(-Integer_Value), all_vars(.== 0)) %>% select(1)\n",
    "qc_emissitivity_error <- qc_lst_aqua %>% select(1,emissitivity_error) %>% filter_at(vars(-Integer_Value), all_vars(.== 0)) %>% select(1)\n",
    "qc_lst_error          <- qc_lst_aqua %>% select(1,lst_error) %>% filter_at(vars(-Integer_Value), all_vars(.== 0)) %>% select(1)\n",
    "qc_accepted_aqua      <- rbind(qc_overall,qc_good_quality)\n",
    "# maybe later on look at errors and how they propagate - would have been good to combine lst and qc right from the beginning."
   ]
  },
  {
   "cell_type": "code",
   "execution_count": 32,
   "id": "5a263133-eced-4a18-b3dd-b9bf742bcb80",
   "metadata": {},
   "outputs": [],
   "source": [
    "%%R\n",
    "qc_lst_terra <- as_tibble(QC_lst_terra)\n",
    "# columns with the bits of interest for QC_Day of MOD11A1\n",
    "# starts with LSB\n",
    "# https://lpdaac.usgs.gov/documents/118/MOD11_User_Guide_V6.pdf\n",
    "overall <- c(9:8)                          # Bit 0, 1: 00=LST produced, good quality, not necessary to examine more detailed QA \n",
    "                                           #           01=LST produced, other quality, recommend examination of more detailed QA\n",
    "                                           #           10=LST not produced due to cloud effects \n",
    "                                           #           11=LST not produced primarily due to reasons other than cloud\n",
    "good_quality <- c(7:6)                     # Bit 3, 2: 00=good data quality \n",
    "                                           #           01=other quality data\n",
    "                                           #           10=TBD\n",
    "                                           #           11=TBD\n",
    "emissitivity_error <- c(5:4)               # Bit 5, 4: 00=average emissivity error <= 0.01 \n",
    "                                           #           01=average emissivity error <= 0.02\n",
    "                                           #           10=average emissivity error <= 0.04\n",
    "                                           #           11=average emissivity error > 0.04\n",
    "lst_error <- c(3:2)                        # Bit 7, 6: 00=average LST error <= 1K \n",
    "                                           #           01=average LST error <= 2K \n",
    "                                           #           10=average LST error <= 3K\n",
    "                                           #           11=average LST error > 3K\n",
    "\n",
    "# select valid QC_Day\n",
    "\n",
    "qc_overall            <- qc_lst_aqua %>% select(1,all_of(overall)) %>% filter_at(vars(-Integer_Value), all_vars(.== 0)) %>% select(1)\n",
    "qc_good_quality       <- qc_lst_aqua %>% select(1,good_quality) %>% filter_at(vars(-Integer_Value), all_vars(.== 0)) %>% select(1)\n",
    "qc_emissitivity_error <- qc_lst_aqua %>% select(1,emissitivity_error) %>% filter_at(vars(-Integer_Value), all_vars(.== 0)) %>% select(1)\n",
    "qc_lst_error          <- qc_lst_aqua %>% select(1,lst_error) %>% filter_at(vars(-Integer_Value), all_vars(.== 0)) %>% select(1)\n",
    "qc_accepted_terra     <- rbind(qc_overall,qc_good_quality)\n",
    "# maybe later on look at errors and how they propagate - would have been good to combine lst and qc right from the beginning."
   ]
  },
  {
   "cell_type": "code",
   "execution_count": 33,
   "id": "0da62948-f77c-452b-847f-4e16c6a0ffb2",
   "metadata": {
    "tags": []
   },
   "outputs": [],
   "source": [
    "%%R\n",
    "df_lst_terra$lst_terra <- df_lst_terra$LST_Day_1km_terra\n",
    "df_lst_terra$lst_terra[!df_lst_terra$QC_Day_terra %in% qc_accepted_terra$Integer_Value] <- NA\n",
    "df_lst_aqua$lst_aqua <- df_lst_aqua$LST_Day_1km_aqua\n",
    "df_lst_aqua$lst_aqua[!df_lst_aqua$QC_Day_aqua %in% qc_accepted_aqua$Integer_Value] <- NA\n"
   ]
  },
  {
   "cell_type": "code",
   "execution_count": 34,
   "id": "79d05d40-64f3-4725-89ed-7db28e70f6ae",
   "metadata": {},
   "outputs": [
    {
     "name": "stdout",
     "output_type": "stream",
     "text": [
      "# A tibble: 241,826 × 8\n",
      "      YY    MM    DD sites  LST_Day_1km_aqua QC_Day_aqua date       lst_aqua\n",
      "   <dbl> <dbl> <dbl> <chr>             <dbl>       <dbl> <date>        <dbl>\n",
      " 1  2009     1     1 AR-Vir              NA            2 2009-01-01      NA \n",
      " 2  2009     1     2 AR-Vir              NA            2 2009-01-02      NA \n",
      " 3  2009     1     3 AR-Vir              NA            2 2009-01-03      NA \n",
      " 4  2009     1     4 AR-Vir             306.           0 2009-01-04     306.\n",
      " 5  2009     1     5 AR-Vir             309.           0 2009-01-05     309.\n",
      " 6  2009     1     6 AR-Vir             308.          65 2009-01-06     308.\n",
      " 7  2009     1     7 AR-Vir              NA            2 2009-01-07      NA \n",
      " 8  2009     1     8 AR-Vir              NA            2 2009-01-08      NA \n",
      " 9  2009     1     9 AR-Vir              NA            2 2009-01-09      NA \n",
      "10  2009     1    10 AR-Vir              NA            2 2009-01-10      NA \n",
      "# … with 241,816 more rows\n"
     ]
    }
   ],
   "source": [
    "%%R\n",
    "df_lst_aqua"
   ]
  },
  {
   "cell_type": "markdown",
   "id": "a64a4f10-b14d-4e36-a39d-0125fbd42d2c",
   "metadata": {},
   "source": [
    "# Merge MOD09A1, MODOCGA, MOD11A1 and MYD11A1"
   ]
  },
  {
   "cell_type": "code",
   "execution_count": 35,
   "id": "cd732e58-61d4-4dc9-9464-7a00ef32ca9b",
   "metadata": {},
   "outputs": [],
   "source": [
    "%%R\n",
    "#### MERGE MOD09A1, MODOCGA, MOD11A2 ####\n",
    "filter_data <- merge(mod09, modocga, by=c(\"YY\",\"MM\",\"DD\",\"sites\"),all = T) "
   ]
  },
  {
   "cell_type": "code",
   "execution_count": 36,
   "id": "cb528731-b30f-4c69-9ada-9e4e12513e8e",
   "metadata": {
    "scrolled": true,
    "tags": []
   },
   "outputs": [
    {
     "name": "stdout",
     "output_type": "stream",
     "text": [
      "       YY             MM               DD           sites          \n",
      " Min.   :2000   Min.   : 1.000   Min.   : 1.00   Length:241826     \n",
      " 1st Qu.:2005   1st Qu.: 4.000   1st Qu.: 8.00   Class :character  \n",
      " Median :2008   Median : 7.000   Median :16.00   Mode  :character  \n",
      " Mean   :2008   Mean   : 6.545   Mean   :15.71                     \n",
      " 3rd Qu.:2011   3rd Qu.:10.000   3rd Qu.:23.00                     \n",
      " Max.   :2014   Max.   :12.000   Max.   :31.00                     \n",
      "                                                                   \n",
      "    QC_500m            state_1km      sur_refl_b01    sur_refl_b02  \n",
      " Min.   :5.995e+08   Min.   :    0   Min.   : -100   Min.   : -100  \n",
      " 1st Qu.:1.074e+09   1st Qu.:  200   1st Qu.:  705   1st Qu.: 2520  \n",
      " Median :1.074e+09   Median : 1033   Median : 2164   Median : 3696  \n",
      " Mean   :1.071e+09   Mean   : 2904   Mean   : 3240   Mean   : 4308  \n",
      " 3rd Qu.:1.074e+09   3rd Qu.: 1042   3rd Qu.: 5642   3rd Qu.: 5962  \n",
      " Max.   :2.076e+09   Max.   :45080   Max.   :16000   Max.   :16000  \n",
      " NA's   :4873        NA's   :4873    NA's   :4960    NA's   :5399   \n",
      "  sur_refl_b03    sur_refl_b04    sur_refl_b05       sur_refl_b06     \n",
      " Min.   : -100   Min.   : -100   Min.   :  -41.25   Min.   :  -69.25  \n",
      " 1st Qu.:  398   1st Qu.:  702   1st Qu.: 2642.94   1st Qu.: 1672.00  \n",
      " Median : 2002   Median : 2120   Median : 3581.00   Median : 2513.50  \n",
      " Mean   : 3083   Mean   : 3250   Mean   : 4015.78   Mean   : 2837.84  \n",
      " 3rd Qu.: 5641   3rd Qu.: 5686   3rd Qu.: 5390.00   3rd Qu.: 3790.56  \n",
      " Max.   :16000   Max.   :16000   Max.   :15178.50   Max.   :14967.00  \n",
      " NA's   :4966    NA's   :4964    NA's   :5102       NA's   :4982      \n",
      "  sur_refl_b07         date.x                b01               b02       \n",
      " Min.   :  -90.5   Min.   :2000-02-24   Min.   :  -47.5   Min.   : -100  \n",
      " 1st Qu.:  805.5   1st Qu.:2005-03-19   1st Qu.:  720.1   1st Qu.: 2520  \n",
      " Median : 1462.2   Median :2008-09-04   Median : 2198.5   Median : 3696  \n",
      " Mean   : 1761.1   Mean   :2008-05-22   Mean   : 3262.1   Mean   : 4308  \n",
      " 3rd Qu.: 2501.0   3rd Qu.:2011-10-07   3rd Qu.: 5671.5   3rd Qu.: 5962  \n",
      " Max.   :16000.0   Max.   :2014-12-30   Max.   :15863.0   Max.   :16000  \n",
      " NA's   :5032                           NA's   :6992      NA's   :5399   \n",
      "      b03               b04               b05               b06          \n",
      " Min.   :  -51.0   Min.   :  -38.5   Min.   :   -9.5   Min.   :   45.25  \n",
      " 1st Qu.:  410.5   1st Qu.:  713.2   1st Qu.: 2662.0   1st Qu.: 1690.50  \n",
      " Median : 2057.0   Median : 2158.2   Median : 3596.0   Median : 2527.50  \n",
      " Mean   : 3111.5   Mean   : 3271.5   Mean   : 4040.8   Mean   : 2857.74  \n",
      " 3rd Qu.: 5674.2   3rd Qu.: 5713.5   3rd Qu.: 5403.8   3rd Qu.: 3806.00  \n",
      " Max.   :14414.5   Max.   :15445.8   Max.   :15178.5   Max.   :14967.00  \n",
      " NA's   :7754      NA's   :6987      NA's   :14845     NA's   :7189      \n",
      "      b07           qc_flag_all_bands qc_flag_b01     qc_flag_b02    \n",
      " Min.   :  -16.25   Mode :logical     Mode :logical   Mode :logical  \n",
      " 1st Qu.:  817.00   FALSE:241826      FALSE:6992      FALSE:7400     \n",
      " Median : 1471.50                     TRUE :234834    TRUE :234426   \n",
      " Mean   : 1772.29                                                    \n",
      " 3rd Qu.: 2511.25                                                    \n",
      " Max.   :13456.00                                                    \n",
      " NA's   :7037                                                        \n",
      " qc_flag_b03     qc_flag_b04     qc_flag_b05     qc_flag_b06    \n",
      " Mode :logical   Mode :logical   Mode :logical   Mode :logical  \n",
      " FALSE:7754      FALSE:6987      FALSE:14845     FALSE:7189     \n",
      " TRUE :234072    TRUE :234839    TRUE :226981    TRUE :234637   \n",
      "                                                                \n",
      "                                                                \n",
      "                                                                \n",
      "                                                                \n",
      " qc_flag_b07     qc_flag_atmospheric_correction qc_flag_adjacency_correction\n",
      " Mode :logical   Mode :logical                  Mode :logical               \n",
      " FALSE:7037      FALSE:6766                     FALSE:241826                \n",
      " TRUE :234789    TRUE :235060                                               \n",
      "                                                                            \n",
      "                                                                            \n",
      "                                                                            \n",
      "                                                                            \n",
      "  QC_b8_15_1km         QC_b16_1km     sur_refl_b08     sur_refl_b09   \n",
      " Min.   :0.000e+00   Min.   :  0.0   Min.   :-0.010   Min.   :-0.010  \n",
      " 1st Qu.:3.490e+09   1st Qu.:208.0   1st Qu.: 0.026   1st Qu.: 0.016  \n",
      " Median :3.721e+09   Median :208.0   Median : 0.142   Median : 0.048  \n",
      " Mean   :3.436e+09   Mean   :192.3   Mean   : 0.267   Mean   : 0.175  \n",
      " 3rd Qu.:3.722e+09   3rd Qu.:208.0   3rd Qu.: 0.495   3rd Qu.: 0.277  \n",
      " Max.   :3.722e+09   Max.   :208.0   Max.   : 1.380   Max.   : 1.372  \n",
      " NA's   :5209        NA's   :5918    NA's   :5209     NA's   :5209    \n",
      "  sur_refl_b10     sur_refl_b11     sur_refl_b12     sur_refl_b13   \n",
      " Min.   :-0.010   Min.   :-0.010   Min.   :-0.010   Min.   :-0.010  \n",
      " 1st Qu.:-0.010   1st Qu.:-0.010   1st Qu.:-0.010   1st Qu.:-0.010  \n",
      " Median : 0.032   Median : 0.033   Median : 0.027   Median :-0.010  \n",
      " Mean   : 0.098   Mean   : 0.072   Mean   : 0.060   Mean   : 0.012  \n",
      " 3rd Qu.: 0.106   3rd Qu.: 0.083   3rd Qu.: 0.076   3rd Qu.: 0.023  \n",
      " Max.   : 1.282   Max.   : 1.322   Max.   : 1.406   Max.   : 1.048  \n",
      " NA's   :5209     NA's   :5209     NA's   :5209     NA's   :5209    \n",
      "  sur_refl_b14     sur_refl_b15    sur_refl_b16          date.y          \n",
      " Min.   :-0.010   Min.   :-0.01   Min.   : -100.00   Min.   :2000-02-24  \n",
      " 1st Qu.:-0.010   1st Qu.:-0.01   1st Qu.: -100.00   1st Qu.:2005-03-19  \n",
      " Median :-0.010   Median :-0.01   Median : -100.00   Median :2008-09-04  \n",
      " Mean   : 0.017   Mean   : 0.00   Mean   :   55.47   Mean   :2008-05-22  \n",
      " 3rd Qu.: 0.032   3rd Qu.:-0.01   3rd Qu.: -100.00   3rd Qu.:2011-10-07  \n",
      " Max.   : 1.156   Max.   : 0.91   Max.   :10216.00   Max.   :2014-12-30  \n",
      " NA's   :5209     NA's   :5209    NA's   :5704                           \n",
      "      b08              b09              b10              b11        \n",
      " Min.   :-0.010   Min.   :-0.010   Min.   :-0.010   Min.   :-0.010  \n",
      " 1st Qu.: 0.026   1st Qu.: 0.016   1st Qu.:-0.010   1st Qu.:-0.010  \n",
      " Median : 0.142   Median : 0.048   Median : 0.032   Median : 0.033  \n",
      " Mean   : 0.267   Mean   : 0.175   Mean   : 0.098   Mean   : 0.072  \n",
      " 3rd Qu.: 0.495   3rd Qu.: 0.277   3rd Qu.: 0.106   3rd Qu.: 0.083  \n",
      " Max.   : 1.380   Max.   : 1.372   Max.   : 1.282   Max.   : 1.322  \n",
      " NA's   :5564     NA's   :5309     NA's   :5286     NA's   :5325    \n",
      "      b12              b13              b14              b15        \n",
      " Min.   :-0.010   Min.   :-0.010   Min.   :-0.010   Min.   :0.00    \n",
      " 1st Qu.:-0.010   1st Qu.:-0.010   1st Qu.:-0.010   1st Qu.:0.09    \n",
      " Median : 0.027   Median :-0.010   Median :-0.010   Median :0.13    \n",
      " Mean   : 0.060   Mean   : 0.012   Mean   : 0.017   Mean   :0.16    \n",
      " 3rd Qu.: 0.076   3rd Qu.: 0.023   3rd Qu.: 0.032   3rd Qu.:0.18    \n",
      " Max.   : 1.406   Max.   : 1.048   Max.   : 1.156   Max.   :0.84    \n",
      " NA's   :5273     NA's   :5331     NA's   :5296     NA's   :228005  \n",
      "      b16         qc_flag_b08     qc_flag_b09     qc_flag_b10    \n",
      " Min.   :    5    Mode :logical   Mode :logical   Mode :logical  \n",
      " 1st Qu.: 1221    FALSE:5564      FALSE:5309      FALSE:5286     \n",
      " Median : 1687    TRUE :236262    TRUE :236517    TRUE :236540   \n",
      " Mean   : 1933                                                   \n",
      " 3rd Qu.: 2310                                                   \n",
      " Max.   :10216                                                   \n",
      " NA's   :224599                                                  \n",
      " qc_flag_b11     qc_flag_b12     qc_flag_b13     qc_flag_b14    \n",
      " Mode :logical   Mode :logical   Mode :logical   Mode :logical  \n",
      " FALSE:5325      FALSE:5273      FALSE:5331      FALSE:5296     \n",
      " TRUE :236501    TRUE :236553    TRUE :236495    TRUE :236530   \n",
      "                                                                \n",
      "                                                                \n",
      "                                                                \n",
      "                                                                \n",
      " qc_flag_b15     qc_flag_b16    \n",
      " Mode :logical   Mode :logical  \n",
      " FALSE:228005    FALSE:224599   \n",
      " TRUE :13821     TRUE :17227    \n",
      "                                \n",
      "                                \n",
      "                                \n",
      "                                \n"
     ]
    }
   ],
   "source": [
    "%%R\n",
    "summary(filter_data)"
   ]
  },
  {
   "cell_type": "code",
   "execution_count": 37,
   "id": "b588335f-d449-4c22-9475-e64bd0d0ed8c",
   "metadata": {},
   "outputs": [],
   "source": [
    "%%R\n",
    "data_refl_lst_aqua <- merge(filter_data, df_lst_aqua, by=c(\"YY\",\"MM\",\"DD\",\"sites\"),all = T)"
   ]
  },
  {
   "cell_type": "code",
   "execution_count": 38,
   "id": "bb892c6d-a72a-4bfb-86fa-4056c1727743",
   "metadata": {
    "scrolled": true,
    "tags": []
   },
   "outputs": [
    {
     "name": "stdout",
     "output_type": "stream",
     "text": [
      "       YY             MM               DD           sites          \n",
      " Min.   :2000   Min.   : 1.000   Min.   : 1.00   Length:241826     \n",
      " 1st Qu.:2005   1st Qu.: 4.000   1st Qu.: 8.00   Class :character  \n",
      " Median :2008   Median : 7.000   Median :16.00   Mode  :character  \n",
      " Mean   :2008   Mean   : 6.545   Mean   :15.71                     \n",
      " 3rd Qu.:2011   3rd Qu.:10.000   3rd Qu.:23.00                     \n",
      " Max.   :2014   Max.   :12.000   Max.   :31.00                     \n",
      "                                                                   \n",
      "    QC_500m            state_1km      sur_refl_b01    sur_refl_b02  \n",
      " Min.   :5.995e+08   Min.   :    0   Min.   : -100   Min.   : -100  \n",
      " 1st Qu.:1.074e+09   1st Qu.:  200   1st Qu.:  705   1st Qu.: 2520  \n",
      " Median :1.074e+09   Median : 1033   Median : 2164   Median : 3696  \n",
      " Mean   :1.071e+09   Mean   : 2904   Mean   : 3240   Mean   : 4308  \n",
      " 3rd Qu.:1.074e+09   3rd Qu.: 1042   3rd Qu.: 5642   3rd Qu.: 5962  \n",
      " Max.   :2.076e+09   Max.   :45080   Max.   :16000   Max.   :16000  \n",
      " NA's   :4873        NA's   :4873    NA's   :4960    NA's   :5399   \n",
      "  sur_refl_b03    sur_refl_b04    sur_refl_b05       sur_refl_b06     \n",
      " Min.   : -100   Min.   : -100   Min.   :  -41.25   Min.   :  -69.25  \n",
      " 1st Qu.:  398   1st Qu.:  702   1st Qu.: 2642.94   1st Qu.: 1672.00  \n",
      " Median : 2002   Median : 2120   Median : 3581.00   Median : 2513.50  \n",
      " Mean   : 3083   Mean   : 3250   Mean   : 4015.78   Mean   : 2837.84  \n",
      " 3rd Qu.: 5641   3rd Qu.: 5686   3rd Qu.: 5390.00   3rd Qu.: 3790.56  \n",
      " Max.   :16000   Max.   :16000   Max.   :15178.50   Max.   :14967.00  \n",
      " NA's   :4966    NA's   :4964    NA's   :5102       NA's   :4982      \n",
      "  sur_refl_b07         date.x                b01               b02       \n",
      " Min.   :  -90.5   Min.   :2000-02-24   Min.   :  -47.5   Min.   : -100  \n",
      " 1st Qu.:  805.5   1st Qu.:2005-03-19   1st Qu.:  720.1   1st Qu.: 2520  \n",
      " Median : 1462.2   Median :2008-09-04   Median : 2198.5   Median : 3696  \n",
      " Mean   : 1761.1   Mean   :2008-05-22   Mean   : 3262.1   Mean   : 4308  \n",
      " 3rd Qu.: 2501.0   3rd Qu.:2011-10-07   3rd Qu.: 5671.5   3rd Qu.: 5962  \n",
      " Max.   :16000.0   Max.   :2014-12-30   Max.   :15863.0   Max.   :16000  \n",
      " NA's   :5032                           NA's   :6992      NA's   :5399   \n",
      "      b03               b04               b05               b06          \n",
      " Min.   :  -51.0   Min.   :  -38.5   Min.   :   -9.5   Min.   :   45.25  \n",
      " 1st Qu.:  410.5   1st Qu.:  713.2   1st Qu.: 2662.0   1st Qu.: 1690.50  \n",
      " Median : 2057.0   Median : 2158.2   Median : 3596.0   Median : 2527.50  \n",
      " Mean   : 3111.5   Mean   : 3271.5   Mean   : 4040.8   Mean   : 2857.74  \n",
      " 3rd Qu.: 5674.2   3rd Qu.: 5713.5   3rd Qu.: 5403.8   3rd Qu.: 3806.00  \n",
      " Max.   :14414.5   Max.   :15445.8   Max.   :15178.5   Max.   :14967.00  \n",
      " NA's   :7754      NA's   :6987      NA's   :14845     NA's   :7189      \n",
      "      b07           qc_flag_all_bands qc_flag_b01     qc_flag_b02    \n",
      " Min.   :  -16.25   Mode :logical     Mode :logical   Mode :logical  \n",
      " 1st Qu.:  817.00   FALSE:241826      FALSE:6992      FALSE:7400     \n",
      " Median : 1471.50                     TRUE :234834    TRUE :234426   \n",
      " Mean   : 1772.29                                                    \n",
      " 3rd Qu.: 2511.25                                                    \n",
      " Max.   :13456.00                                                    \n",
      " NA's   :7037                                                        \n",
      " qc_flag_b03     qc_flag_b04     qc_flag_b05     qc_flag_b06    \n",
      " Mode :logical   Mode :logical   Mode :logical   Mode :logical  \n",
      " FALSE:7754      FALSE:6987      FALSE:14845     FALSE:7189     \n",
      " TRUE :234072    TRUE :234839    TRUE :226981    TRUE :234637   \n",
      "                                                                \n",
      "                                                                \n",
      "                                                                \n",
      "                                                                \n",
      " qc_flag_b07     qc_flag_atmospheric_correction qc_flag_adjacency_correction\n",
      " Mode :logical   Mode :logical                  Mode :logical               \n",
      " FALSE:7037      FALSE:6766                     FALSE:241826                \n",
      " TRUE :234789    TRUE :235060                                               \n",
      "                                                                            \n",
      "                                                                            \n",
      "                                                                            \n",
      "                                                                            \n",
      "  QC_b8_15_1km         QC_b16_1km     sur_refl_b08     sur_refl_b09   \n",
      " Min.   :0.000e+00   Min.   :  0.0   Min.   :-0.010   Min.   :-0.010  \n",
      " 1st Qu.:3.490e+09   1st Qu.:208.0   1st Qu.: 0.026   1st Qu.: 0.016  \n",
      " Median :3.721e+09   Median :208.0   Median : 0.142   Median : 0.048  \n",
      " Mean   :3.436e+09   Mean   :192.3   Mean   : 0.267   Mean   : 0.175  \n",
      " 3rd Qu.:3.722e+09   3rd Qu.:208.0   3rd Qu.: 0.495   3rd Qu.: 0.277  \n",
      " Max.   :3.722e+09   Max.   :208.0   Max.   : 1.380   Max.   : 1.372  \n",
      " NA's   :5209        NA's   :5918    NA's   :5209     NA's   :5209    \n",
      "  sur_refl_b10     sur_refl_b11     sur_refl_b12     sur_refl_b13   \n",
      " Min.   :-0.010   Min.   :-0.010   Min.   :-0.010   Min.   :-0.010  \n",
      " 1st Qu.:-0.010   1st Qu.:-0.010   1st Qu.:-0.010   1st Qu.:-0.010  \n",
      " Median : 0.032   Median : 0.033   Median : 0.027   Median :-0.010  \n",
      " Mean   : 0.098   Mean   : 0.072   Mean   : 0.060   Mean   : 0.012  \n",
      " 3rd Qu.: 0.106   3rd Qu.: 0.083   3rd Qu.: 0.076   3rd Qu.: 0.023  \n",
      " Max.   : 1.282   Max.   : 1.322   Max.   : 1.406   Max.   : 1.048  \n",
      " NA's   :5209     NA's   :5209     NA's   :5209     NA's   :5209    \n",
      "  sur_refl_b14     sur_refl_b15    sur_refl_b16          date.y          \n",
      " Min.   :-0.010   Min.   :-0.01   Min.   : -100.00   Min.   :2000-02-24  \n",
      " 1st Qu.:-0.010   1st Qu.:-0.01   1st Qu.: -100.00   1st Qu.:2005-03-19  \n",
      " Median :-0.010   Median :-0.01   Median : -100.00   Median :2008-09-04  \n",
      " Mean   : 0.017   Mean   : 0.00   Mean   :   55.47   Mean   :2008-05-22  \n",
      " 3rd Qu.: 0.032   3rd Qu.:-0.01   3rd Qu.: -100.00   3rd Qu.:2011-10-07  \n",
      " Max.   : 1.156   Max.   : 0.91   Max.   :10216.00   Max.   :2014-12-30  \n",
      " NA's   :5209     NA's   :5209    NA's   :5704                           \n",
      "      b08              b09              b10              b11        \n",
      " Min.   :-0.010   Min.   :-0.010   Min.   :-0.010   Min.   :-0.010  \n",
      " 1st Qu.: 0.026   1st Qu.: 0.016   1st Qu.:-0.010   1st Qu.:-0.010  \n",
      " Median : 0.142   Median : 0.048   Median : 0.032   Median : 0.033  \n",
      " Mean   : 0.267   Mean   : 0.175   Mean   : 0.098   Mean   : 0.072  \n",
      " 3rd Qu.: 0.495   3rd Qu.: 0.277   3rd Qu.: 0.106   3rd Qu.: 0.083  \n",
      " Max.   : 1.380   Max.   : 1.372   Max.   : 1.282   Max.   : 1.322  \n",
      " NA's   :5564     NA's   :5309     NA's   :5286     NA's   :5325    \n",
      "      b12              b13              b14              b15        \n",
      " Min.   :-0.010   Min.   :-0.010   Min.   :-0.010   Min.   :0.00    \n",
      " 1st Qu.:-0.010   1st Qu.:-0.010   1st Qu.:-0.010   1st Qu.:0.09    \n",
      " Median : 0.027   Median :-0.010   Median :-0.010   Median :0.13    \n",
      " Mean   : 0.060   Mean   : 0.012   Mean   : 0.017   Mean   :0.16    \n",
      " 3rd Qu.: 0.076   3rd Qu.: 0.023   3rd Qu.: 0.032   3rd Qu.:0.18    \n",
      " Max.   : 1.406   Max.   : 1.048   Max.   : 1.156   Max.   :0.84    \n",
      " NA's   :5273     NA's   :5331     NA's   :5296     NA's   :228005  \n",
      "      b16         qc_flag_b08     qc_flag_b09     qc_flag_b10    \n",
      " Min.   :    5    Mode :logical   Mode :logical   Mode :logical  \n",
      " 1st Qu.: 1221    FALSE:5564      FALSE:5309      FALSE:5286     \n",
      " Median : 1687    TRUE :236262    TRUE :236517    TRUE :236540   \n",
      " Mean   : 1933                                                   \n",
      " 3rd Qu.: 2310                                                   \n",
      " Max.   :10216                                                   \n",
      " NA's   :224599                                                  \n",
      " qc_flag_b11     qc_flag_b12     qc_flag_b13     qc_flag_b14    \n",
      " Mode :logical   Mode :logical   Mode :logical   Mode :logical  \n",
      " FALSE:5325      FALSE:5273      FALSE:5331      FALSE:5296     \n",
      " TRUE :236501    TRUE :236553    TRUE :236495    TRUE :236530   \n",
      "                                                                \n",
      "                                                                \n",
      "                                                                \n",
      "                                                                \n",
      " qc_flag_b15     qc_flag_b16     LST_Day_1km_aqua  QC_Day_aqua    \n",
      " Mode :logical   Mode :logical   Min.   :233.9    Min.   :  0.00  \n",
      " FALSE:228005    FALSE:224599    1st Qu.:286.1    1st Qu.:  2.00  \n",
      " TRUE :13821     TRUE :17227     Median :295.1    Median :  2.00  \n",
      "                                 Mean   :294.9    Mean   : 14.37  \n",
      "                                 3rd Qu.:304.4    3rd Qu.:  2.00  \n",
      "                                 Max.   :337.1    Max.   :145.00  \n",
      "                                 NA's   :153273   NA's   :22737   \n",
      "      date               lst_aqua     \n",
      " Min.   :2000-02-24   Min.   :233.9   \n",
      " 1st Qu.:2005-03-19   1st Qu.:286.8   \n",
      " Median :2008-09-04   Median :295.3   \n",
      " Mean   :2008-05-22   Mean   :295.4   \n",
      " 3rd Qu.:2011-10-07   3rd Qu.:304.6   \n",
      " Max.   :2014-12-30   Max.   :337.1   \n",
      "                      NA's   :154917  \n"
     ]
    }
   ],
   "source": [
    "%%R\n",
    "summary(data_refl_lst_aqua)"
   ]
  },
  {
   "cell_type": "code",
   "execution_count": 39,
   "id": "fa4db6ad-f647-4a1e-9458-d8fadafe383b",
   "metadata": {},
   "outputs": [],
   "source": [
    "# %%R\n",
    "# # Set state_1km geolocation flag\n",
    "# # https://lpdaac.usgs.gov/documents/306/MOD09_User_Guide_V6.pdf\n",
    "# # Table 13\n",
    "# stateQA = FALSE\n",
    "# if(stateQA){\n",
    "#     qflags_state <- sort(unique(data_refl_lst_aqua$state_1km)) # 16 bits\n",
    "\n",
    "#     state_Data <- data.frame(Integer_Value = qflags_state, # In an unsigned representation, these values are the integers between 0 and 65535\n",
    "#                                Bit15 = NA, Bit14 = NA, Bit13 = NA, Bit12 = NA, Bit11 = NA,\n",
    "#                                Bit10 = NA, Bit9 = NA,  Bit8 = NA,  Bit7 = NA,  Bit6 = NA,  \n",
    "#                                Bit5 = NA,  Bit4 = NA,  Bit3 = NA,  Bit2 = NA,  Bit1 = NA,\n",
    "#                                Bit0 = NA)\n",
    "#     r <- 0\n",
    "#     for (i in state_Data$Integer_Value){\n",
    "#         AsInt <- as.integer(intToBits(i)[1:16])\n",
    "#         # AsInt <- as.integer(as.logical(as.binary(i, n=16, logic=F)))\n",
    "#         state_Data[r+1,2:17]<- AsInt[16:1]\n",
    "#         r <- r+1\n",
    "#     }\n",
    "\n",
    "#     my_data <- as_tibble(QC_Data_MODOCGA_b8_b15)\n",
    "#     bits <- c(4,5,7:9,15.17) # chosen:      0-1 (cloud state: 00) \n",
    "#                              #                2 (cloud shadow: 0) \n",
    "#                              #              8-9 (no or small cirrus: 00 or 01) \n",
    "#                              #               10 (internal cloud algorithmL: 0)  \n",
    "#                              #               12 (MOD35 snow/ice flag: 0) \n",
    "#                              #               13 (pixel is adjacent to cloud: 0)\n",
    "#                              # not chosen:  3-5 (land/water flag: 000)  6-7 (Sensor range valid: 00) 11 (internal fire algorithm: 00) 14 (salt pan: 0) 15 (internal snow mask: 0)\n",
    "\n",
    "#     filter_qflags <- my_data %>% select(1,bits) %>% \n",
    "#         filter_at(vars(-Integer_Value), all_vars(.== 0)) %>% \n",
    "#         select(1)\n",
    "\n",
    "#     filter_state_data <- data_refl_and_lst %>% \n",
    "#         filter_at(vars(state_1km), all_vars(.%in% filter_qflags$Integer_Value))\n",
    "# }"
   ]
  },
  {
   "cell_type": "code",
   "execution_count": 40,
   "id": "c3712b64-b029-4bc6-8a5e-d684fe44177f",
   "metadata": {},
   "outputs": [],
   "source": [
    "%%R\n",
    "# Todo: delete sur_refl_ \n",
    "### Create Indices: NDVI, EVI, NIRv, CCI, PRI\n",
    "data_refl_lst_aqua$ndvi <- (data_refl_lst_aqua$sur_refl_b02  - data_refl_lst_aqua$sur_refl_b01 )/(data_refl_lst_aqua$sur_refl_b02 + data_refl_lst_aqua$sur_refl_b01)\n",
    "data_refl_lst_aqua$evi <-  2.5 * (data_refl_lst_aqua$sur_refl_b02 - data_refl_lst_aqua$sur_refl_b01) / (data_refl_lst_aqua$sur_refl_b02 + 6 * data_refl_lst_aqua$sur_refl_b01 - 7.5 * data_refl_lst_aqua$sur_refl_b03 + 0.0001)\n",
    "data_refl_lst_aqua$NIRv <- data_refl_lst_aqua$ndvi * (data_refl_lst_aqua$sur_refl_b02 * 0.0001)  #NIR\n",
    "data_refl_lst_aqua$cci <- (data_refl_lst_aqua$sur_refl_b11 - data_refl_lst_aqua$sur_refl_b01)/(data_refl_lst_aqua$sur_refl_b11 + data_refl_lst_aqua$sur_refl_b01) \n",
    "data_refl_lst_aqua$pri <- (data_refl_lst_aqua$sur_refl_b11 - data_refl_lst_aqua$sur_refl_b12)/(data_refl_lst_aqua$sur_refl_b11 + data_refl_lst_aqua$sur_refl_b12)"
   ]
  },
  {
   "cell_type": "code",
   "execution_count": 41,
   "id": "b4b64bb1-d583-4989-a036-ecd5507a2207",
   "metadata": {
    "scrolled": true,
    "tags": []
   },
   "outputs": [
    {
     "name": "stdout",
     "output_type": "stream",
     "text": [
      "    YY MM DD  sites    QC_500m state_1km sur_refl_b01 sur_refl_b02 sur_refl_b03\n",
      "1 2000 10  1 BE-Bra 1073741824      1033      7564.00      7573.25      7401.00\n",
      "2 2000 10  1 BE-Vie 1073741824      1033      7026.50      7286.00      6900.00\n",
      "3 2000 10  1 DE-Hai 1073741824      1033      2133.50      2496.00      2419.25\n",
      "4 2000 10  1 DE-Tha 1073741824      1801      2891.25      3379.75      2999.75\n",
      "5 2000 10  1 DK-Sor 1073741824      1033      2805.50      4443.00      2542.50\n",
      "6 2000 10  1 FI-Hyy 1073741824        80       374.25      1594.50       180.25\n",
      "  sur_refl_b04 sur_refl_b05 sur_refl_b06 sur_refl_b07     date.x     b01\n",
      "1      7623.50      6047.75      1197.50      1206.75 2000-10-01 7564.00\n",
      "2      7039.00      6814.00      5695.50      2185.00 2000-10-01 7026.50\n",
      "3      2343.25      2312.75      1890.50      1246.50 2000-10-01 2133.50\n",
      "4      3002.00      3233.25      2467.50      1550.25 2000-10-01 2891.25\n",
      "5      2849.00      4606.25      4084.50      1864.50 2000-10-01 2805.50\n",
      "6       389.50      1614.75       935.25       350.25 2000-10-01  374.25\n",
      "      b02     b03     b04     b05     b06     b07 qc_flag_all_bands qc_flag_b01\n",
      "1 7573.25 7401.00 7623.50 6047.75 1197.50 1206.75             FALSE        TRUE\n",
      "2 7286.00 6900.00 7039.00 6814.00 5695.50 2185.00             FALSE        TRUE\n",
      "3 2496.00 2419.25 2343.25 2312.75 1890.50 1246.50             FALSE        TRUE\n",
      "4 3379.75 2999.75 3002.00 3233.25 2467.50 1550.25             FALSE        TRUE\n",
      "5 4443.00 2542.50 2849.00 4606.25 4084.50 1864.50             FALSE        TRUE\n",
      "6 1594.50  180.25  389.50 1614.75  935.25  350.25             FALSE        TRUE\n",
      "  qc_flag_b02 qc_flag_b03 qc_flag_b04 qc_flag_b05 qc_flag_b06 qc_flag_b07\n",
      "1        TRUE        TRUE        TRUE        TRUE        TRUE        TRUE\n",
      "2        TRUE        TRUE        TRUE        TRUE        TRUE        TRUE\n",
      "3        TRUE        TRUE        TRUE        TRUE        TRUE        TRUE\n",
      "4        TRUE        TRUE        TRUE        TRUE        TRUE        TRUE\n",
      "5        TRUE        TRUE        TRUE        TRUE        TRUE        TRUE\n",
      "6        TRUE        TRUE        TRUE        TRUE        TRUE        TRUE\n",
      "  qc_flag_atmospheric_correction qc_flag_adjacency_correction QC_b8_15_1km\n",
      "1                           TRUE                        FALSE   3722304989\n",
      "2                           TRUE                        FALSE   3722304989\n",
      "3                           TRUE                        FALSE   3722304768\n",
      "4                           TRUE                        FALSE   3722304768\n",
      "5                           TRUE                        FALSE   3722301440\n",
      "6                           TRUE                        FALSE            0\n",
      "  QC_b16_1km sur_refl_b08 sur_refl_b09 sur_refl_b10 sur_refl_b11 sur_refl_b12\n",
      "1        208      -0.0100      -0.0100      -0.0100        -0.01      -0.0100\n",
      "2        208      -0.0100      -0.0100      -0.0100        -0.01      -0.0100\n",
      "3        208       0.4059       0.3926      -0.0100        -0.01      -0.0100\n",
      "4        208       0.3295       0.3162      -0.0100        -0.01      -0.0100\n",
      "5        208       0.2810       0.2868       0.2916        -0.01      -0.0100\n",
      "6          0       0.0186       0.0201       0.0219         0.03       0.0349\n",
      "  sur_refl_b13 sur_refl_b14 sur_refl_b15 sur_refl_b16     date.y     b08\n",
      "1      -0.0100      -0.0100      -0.0100         -100 2000-10-01 -0.0100\n",
      "2      -0.0100      -0.0100      -0.0100         -100 2000-10-01 -0.0100\n",
      "3      -0.0100      -0.0100      -0.0100         -100 2000-10-01  0.4059\n",
      "4      -0.0100      -0.0100      -0.0100         -100 2000-10-01  0.3295\n",
      "5      -0.0100      -0.0100      -0.0100         -100 2000-10-01  0.2810\n",
      "6       0.0323       0.0319       0.1291         1614 2000-10-01  0.0186\n",
      "      b09     b10   b11     b12     b13     b14    b15  b16 qc_flag_b08\n",
      "1 -0.0100 -0.0100 -0.01 -0.0100 -0.0100 -0.0100     NA   NA        TRUE\n",
      "2 -0.0100 -0.0100 -0.01 -0.0100 -0.0100 -0.0100     NA   NA        TRUE\n",
      "3  0.3926 -0.0100 -0.01 -0.0100 -0.0100 -0.0100     NA   NA        TRUE\n",
      "4  0.3162 -0.0100 -0.01 -0.0100 -0.0100 -0.0100     NA   NA        TRUE\n",
      "5  0.2868  0.2916 -0.01 -0.0100 -0.0100 -0.0100     NA   NA        TRUE\n",
      "6  0.0201  0.0219  0.03  0.0349  0.0323  0.0319 0.1291 1614        TRUE\n",
      "  qc_flag_b09 qc_flag_b10 qc_flag_b11 qc_flag_b12 qc_flag_b13 qc_flag_b14\n",
      "1        TRUE        TRUE        TRUE        TRUE        TRUE        TRUE\n",
      "2        TRUE        TRUE        TRUE        TRUE        TRUE        TRUE\n",
      "3        TRUE        TRUE        TRUE        TRUE        TRUE        TRUE\n",
      "4        TRUE        TRUE        TRUE        TRUE        TRUE        TRUE\n",
      "5        TRUE        TRUE        TRUE        TRUE        TRUE        TRUE\n",
      "6        TRUE        TRUE        TRUE        TRUE        TRUE        TRUE\n",
      "  qc_flag_b15 qc_flag_b16 LST_Day_1km_aqua QC_Day_aqua       date lst_aqua\n",
      "1       FALSE       FALSE               NA          NA 2000-10-01       NA\n",
      "2       FALSE       FALSE               NA          NA 2000-10-01       NA\n",
      "3       FALSE       FALSE               NA          NA 2000-10-01       NA\n",
      "4       FALSE       FALSE               NA          NA 2000-10-01       NA\n",
      "5       FALSE       FALSE               NA          NA 2000-10-01       NA\n",
      "6        TRUE        TRUE               NA          NA 2000-10-01       NA\n",
      "          ndvi          evi         NIRv        cci         pri\n",
      "1 0.0006110753 -0.009067739 0.0004627826 -1.0000026  0.00000000\n",
      "2 0.0181310044 -0.281453374 0.0132102498 -1.0000028  0.00000000\n",
      "3 0.0783021923 -0.318275616 0.0195442272 -1.0000094  0.00000000\n",
      "4 0.0778982618 -0.689630870 0.0263276650 -1.0000069  0.00000000\n",
      "5 0.2259088090  1.854683346 0.1003712838 -1.0000071  0.00000000\n",
      "6 0.6198095237  1.226073801 0.0988286285 -0.9998397 -0.07550077\n"
     ]
    }
   ],
   "source": [
    "%%R\n",
    "head(data_refl_lst_aqua)"
   ]
  },
  {
   "cell_type": "code",
   "execution_count": 42,
   "id": "f765fcf0-442f-404c-8001-81e8f5c59c7e",
   "metadata": {},
   "outputs": [],
   "source": [
    "%%R\n",
    "## aggregate to daily mean values (multiple data points given per day in original dataset)\n",
    "ddf_aggregated <- data_refl_lst_aqua %>% group_by( sites, YY, MM, DD ) %>%\n",
    "                summarise_at( vars( one_of( c( \"lst_aqua\", \"b01\", \"b02\", \"b03\", \"b04\", \"b05\", \"b06\", \"b07\", \"b08\", \"b09\", \"b10\", \"b11\", \"b12\", \"b13\", \"b14\", \"b15\",  \"b16\",\"ndvi\", \"evi\", \n",
    "                                              \"cci\", \"pri\", \"NIRv\") ) ), list( ~mean(., na.rm=TRUE) ) ) %>%\n",
    "                mutate_at( vars( one_of( c(\"lst_aqua\", \"b01\", \"b02\", \"b03\", \"b04\", \"b05\", \"b06\", \"b07\", \"b08\", \"b09\", \"b10\", \"b11\", \"b12\", \"b13\", \"b14\", \"b15\",  \"b16\",\n",
    "                                           \"ndvi\", \"evi\", \"cci\", \"pri\", \"NIRv\"))), list( ~remove_outliers(., coef=3.0) ) )"
   ]
  },
  {
   "cell_type": "code",
   "execution_count": 43,
   "id": "5f8ff0c2-0c9b-4586-bf63-b4797d12aed7",
   "metadata": {},
   "outputs": [],
   "source": [
    "%%R\n",
    "write_csv(ddf_aggregated, path = \"./data/FLUXNET_MODOCGA_MOD09GA_MYD11A1.csv\")"
   ]
  },
  {
   "cell_type": "code",
   "execution_count": 44,
   "id": "e0de4f33-f6ba-4a56-9bf1-27aeb953af01",
   "metadata": {},
   "outputs": [
    {
     "name": "stdout",
     "output_type": "stream",
     "text": [
      "Rows: 241826 Columns: 26\n",
      "── Column specification ────────────────────────────────────────────────────────\n",
      "Delimiter: \",\"\n",
      "chr  (1): sites\n",
      "dbl (25): YY, MM, DD, lst_aqua, b01, b02, b03, b04, b05, b06, b07, b08, b09,...\n",
      "\n",
      "ℹ Use `spec()` to retrieve the full column specification for this data.\n",
      "ℹ Specify the column types or set `show_col_types = FALSE` to quiet this message.\n"
     ]
    }
   ],
   "source": [
    "%%R\n",
    "ddf <- read_csv(\"./data/FLUXNET_MODOCGA_MOD09GA_MYD11A1.csv\")"
   ]
  },
  {
   "cell_type": "code",
   "execution_count": 45,
   "id": "966893e6-409d-4d46-8d27-737ad564d8f5",
   "metadata": {},
   "outputs": [],
   "source": [
    "%%R\n",
    "dataFile <- \"./data/FLUXNET_MODOCGA_MOD09GA_MYD11A1.csv\""
   ]
  },
  {
   "cell_type": "code",
   "execution_count": null,
   "id": "a850db4c-5b94-43ac-921b-d77d46de332d",
   "metadata": {},
   "outputs": [],
   "source": []
  },
  {
   "cell_type": "code",
   "execution_count": 46,
   "id": "a4ca00a3-2a82-4b1d-a63d-2b635826c156",
   "metadata": {
    "tags": []
   },
   "outputs": [
    {
     "name": "stdout",
     "output_type": "stream",
     "text": [
      "    sites                 YY             MM               DD       \n",
      " Length:241826      Min.   :2000   Min.   : 1.000   Min.   : 1.00  \n",
      " Class :character   1st Qu.:2005   1st Qu.: 4.000   1st Qu.: 8.00  \n",
      " Mode  :character   Median :2008   Median : 7.000   Median :16.00  \n",
      "                    Mean   :2008   Mean   : 6.545   Mean   :15.71  \n",
      "                    3rd Qu.:2011   3rd Qu.:10.000   3rd Qu.:23.00  \n",
      "                    Max.   :2014   Max.   :12.000   Max.   :31.00  \n",
      "                                                                   \n",
      "    lst_aqua           b01               b02             b03         \n",
      " Min.   :233.9    Min.   :  -47.5   Min.   : -100   Min.   :  -51.0  \n",
      " 1st Qu.:286.8    1st Qu.:  707.8   1st Qu.: 2510   1st Qu.:  401.8  \n",
      " Median :295.4    Median : 2120.0   Median : 3660   Median : 1986.1  \n",
      " Mean   :295.4    Mean   : 3216.5   Mean   : 4270   Mean   : 3076.6  \n",
      " 3rd Qu.:304.6    3rd Qu.: 5597.5   3rd Qu.: 5879   3rd Qu.: 5631.8  \n",
      " Max.   :337.1    Max.   :15700.8   Max.   :16000   Max.   :14414.5  \n",
      " NA's   :155228   NA's   :11020     NA's   :8256    NA's   :12078    \n",
      "      b04               b05               b06                b07         \n",
      " Min.   :  -38.5   Min.   :   -9.5   Min.   :   45.25   Min.   : -16.25  \n",
      " 1st Qu.:  703.5   1st Qu.: 2654.0   1st Qu.: 1682.75   1st Qu.: 811.00  \n",
      " Median : 2074.0   Median : 3578.5   Median : 2509.75   Median :1456.50  \n",
      " Mean   : 3229.4   Mean   : 4018.0   Mean   : 2833.72   Mean   :1753.18  \n",
      " 3rd Qu.: 5656.3   3rd Qu.: 5351.0   3rd Qu.: 3757.50   3rd Qu.:2474.50  \n",
      " Max.   :15445.8   Max.   :14784.0   Max.   :14967.00   Max.   :9997.00  \n",
      " NA's   :11134     NA's   :16729     NA's   :9500       NA's   :9529     \n",
      "      b08              b09              b10              b11        \n",
      " Min.   :-0.010   Min.   :-0.010   Min.   :-0.010   Min.   :-0.010  \n",
      " 1st Qu.: 0.025   1st Qu.: 0.015   1st Qu.:-0.010   1st Qu.:-0.010  \n",
      " Median : 0.133   Median : 0.045   Median : 0.030   Median : 0.031  \n",
      " Mean   : 0.264   Mean   : 0.171   Mean   : 0.094   Mean   : 0.068  \n",
      " 3rd Qu.: 0.492   3rd Qu.: 0.265   3rd Qu.: 0.093   3rd Qu.: 0.078  \n",
      " Max.   : 1.380   Max.   : 1.372   Max.   : 1.282   Max.   : 1.256  \n",
      " NA's   :11100    NA's   :13895    NA's   :14297    NA's   :11722   \n",
      "      b12              b13              b14              b15        \n",
      " Min.   :-0.010   Min.   :-0.010   Min.   :-0.010   Min.   :0.00    \n",
      " 1st Qu.:-0.010   1st Qu.:-0.010   1st Qu.:-0.010   1st Qu.:0.09    \n",
      " Median : 0.022   Median :-0.010   Median :-0.010   Median :0.13    \n",
      " Mean   : 0.057   Mean   : 0.008   Mean   : 0.013   Mean   :0.16    \n",
      " 3rd Qu.: 0.073   3rd Qu.: 0.014   3rd Qu.: 0.025   3rd Qu.:0.18    \n",
      " Max.   : 1.254   Max.   : 1.048   Max.   : 1.156   Max.   :0.84    \n",
      " NA's   :11861    NA's   :16027    NA's   :15422    NA's   :228125  \n",
      "      b16              ndvi             evi               cci        \n",
      " Min.   :    5    Min.   :-0.500   Min.   :-21.974   Min.   :-1.001  \n",
      " 1st Qu.: 1224    1st Qu.: 0.024   1st Qu.: -0.095   1st Qu.:-1.000  \n",
      " Median : 1688    Median : 0.192   Median :  0.605   Median :-1.000  \n",
      " Mean   : 1934    Mean   : 0.286   Mean   :  0.704   Mean   :-1.000  \n",
      " 3rd Qu.: 2309    3rd Qu.: 0.530   3rd Qu.:  1.623   3rd Qu.:-1.000  \n",
      " Max.   :10216    Max.   : 2.572   Max.   : 39.891   Max.   :-0.999  \n",
      " NA's   :224723   NA's   :9502     NA's   :28085     NA's   :12333   \n",
      "      pri              NIRv       \n",
      " Min.   :-0.676   Min.   :-0.125  \n",
      " 1st Qu.:-0.055   1st Qu.: 0.014  \n",
      " Median :-0.001   Median : 0.059  \n",
      " Mean   :-0.017   Mean   : 0.082  \n",
      " 3rd Qu.: 0.000   3rd Qu.: 0.123  \n",
      " Max.   : 1.546   Max.   : 0.616  \n",
      " NA's   :25711    NA's   :6526    \n"
     ]
    }
   ],
   "source": [
    "%%R\n",
    "summary(ddf)"
   ]
  },
  {
   "cell_type": "markdown",
   "id": "84a65111-c81b-4229-8cad-2eb2d110f203",
   "metadata": {},
   "source": [
    "# Analysis"
   ]
  },
  {
   "cell_type": "code",
   "execution_count": 52,
   "id": "d9d8299f-c760-4fee-807f-93814301f4af",
   "metadata": {},
   "outputs": [],
   "source": [
    "# %%R \n",
    "# # Todo: implement gather_data()\n",
    "# ddf <- gather_data(\"./data/FLUXNET_MODOCGA_MOD09GA_MYD11A1.csv\", add_scaled = FALSE) %>% \n",
    "#     ungroup()\n",
    "#   # ddf <- gather_data(\"./data/MOD09GA_MODOCGA_filter_indices.Rdata\", add_scaled = FALSE) %>% ungroup()\n",
    "  \n",
    "# write_csv(ddf, path=dataFile)\n",
    "# head(ddf)"
   ]
  },
  {
   "cell_type": "code",
   "execution_count": 53,
   "id": "2720cf21-a25e-453d-ac44-6d857693ed31",
   "metadata": {
    "tags": []
   },
   "outputs": [
    {
     "name": "stdout",
     "output_type": "stream",
     "text": [
      "Rows: 31 Columns: 15\n",
      "── Column specification ────────────────────────────────────────────────────────\n",
      "Delimiter: \",\"\n",
      "chr (5): sitename, cluster, classid, koeppen_code, koeppen_code_extr\n",
      "dbl (8): lon, lat, elv, year_start, year_end, years_data, whc, kgnumber\n",
      "lgl (2): c4, homogenous_mbalzarolo\n",
      "\n",
      "ℹ Use `spec()` to retrieve the full column specification for this data.\n",
      "ℹ Specify the column types or set `show_col_types = FALSE` to quiet this message.\n",
      "    sites                 YY             MM              DD       \n",
      " Length:12748       Min.   :2000   Min.   :10.00   Min.   :10.00  \n",
      " Class :character   1st Qu.:2005   1st Qu.:10.00   1st Qu.:15.00  \n",
      " Mode  :character   Median :2008   Median :11.00   Median :21.00  \n",
      "                    Mean   :2008   Mean   :10.99   Mean   :20.23  \n",
      "                    3rd Qu.:2011   3rd Qu.:12.00   3rd Qu.:26.00  \n",
      "                    Max.   :2014   Max.   :12.00   Max.   :31.00  \n",
      "                                                                  \n",
      "    lst_aqua          b01               b02             b03         \n",
      " Min.   :245.6   Min.   :  -46.5   Min.   :   56   Min.   :  -39.0  \n",
      " 1st Qu.:281.2   1st Qu.:  885.9   1st Qu.: 2402   1st Qu.:  503.9  \n",
      " Median :289.4   Median : 2507.2   Median : 3598   Median : 2433.0  \n",
      " Mean   :293.2   Mean   : 3473.4   Mean   : 4254   Mean   : 3347.6  \n",
      " 3rd Qu.:307.1   3rd Qu.: 5922.0   3rd Qu.: 6018   3rd Qu.: 6079.1  \n",
      " Max.   :331.9   Max.   :14241.5   Max.   :16000   Max.   :13729.5  \n",
      " NA's   :8800    NA's   :873       NA's   :624     NA's   :933      \n",
      "      b04                b05               b06            b07         \n",
      " Min.   :  -33.75   Min.   :   -9.5   Min.   :  74   Min.   :  19.25  \n",
      " 1st Qu.:  813.88   1st Qu.: 2663.6   1st Qu.:1824   1st Qu.: 974.25  \n",
      " Median : 2483.00   Median : 3818.0   Median :2878   Median :1803.25  \n",
      " Mean   : 3470.93   Mean   : 4138.9   Mean   :3058   Mean   :1953.84  \n",
      " 3rd Qu.: 6023.94   3rd Qu.: 5556.1   3rd Qu.:4118   3rd Qu.:2737.25  \n",
      " Max.   :14027.75   Max.   :14784.0   Max.   :9783   Max.   :8768.75  \n",
      " NA's   :890        NA's   :1166      NA's   :748    NA's   :763      \n",
      "      b08               b09               b10               b11         \n",
      " Min.   :-0.0100   Min.   :-0.0100   Min.   :-0.0100   Min.   :-0.0100  \n",
      " 1st Qu.: 0.0350   1st Qu.: 0.0271   1st Qu.:-0.0100   1st Qu.:-0.0100  \n",
      " Median : 0.2218   Median : 0.0863   Median : 0.0467   Median : 0.0419  \n",
      " Mean   : 0.3240   Mean   : 0.2511   Mean   : 0.1538   Mean   : 0.1126  \n",
      " 3rd Qu.: 0.6053   3rd Qu.: 0.4846   3rd Qu.: 0.2075   3rd Qu.: 0.1218  \n",
      " Max.   : 1.3078   Max.   : 1.2533   Max.   : 1.2376   Max.   : 1.2562  \n",
      " NA's   :719       NA's   :828       NA's   :880       NA's   :846      \n",
      "      b12               b13               b14               b15       \n",
      " Min.   :-0.0100   Min.   :-0.0100   Min.   :-0.0100   Min.   :0.000  \n",
      " 1st Qu.:-0.0100   1st Qu.:-0.0100   1st Qu.:-0.0100   1st Qu.:0.104  \n",
      " Median : 0.0359   Median :-0.0100   Median :-0.0100   Median :0.133  \n",
      " Mean   : 0.0946   Mean   : 0.0166   Mean   : 0.0227   Mean   :0.159  \n",
      " 3rd Qu.: 0.1047   3rd Qu.: 0.0185   3rd Qu.: 0.0271   3rd Qu.:0.178  \n",
      " Max.   : 1.1256   Max.   : 0.8135   Max.   : 0.7926   Max.   :0.775  \n",
      " NA's   :829       NA's   :996       NA's   :1036      NA's   :11112  \n",
      "      b16             ndvi              evi                cci         \n",
      " Min.   :   5    Min.   :-0.3007   Min.   :-13.0237   Min.   :-1.0006  \n",
      " 1st Qu.:1377    1st Qu.: 0.0085   1st Qu.: -0.0422   1st Qu.:-1.0000  \n",
      " Median :1765    Median : 0.1295   Median :  0.2917   Median :-0.9999  \n",
      " Mean   :2039    Mean   : 0.2351   Mean   :  0.5515   Mean   :-0.9999  \n",
      " 3rd Qu.:2363    3rd Qu.: 0.4235   3rd Qu.:  1.3182   3rd Qu.:-0.9998  \n",
      " Max.   :8789    Max.   : 1.2506   Max.   : 18.9570   Max.   :-0.9987  \n",
      " NA's   :10785   NA's   :849       NA's   :1644       NA's   :869      \n",
      "      pri               NIRv        \n",
      " Min.   :-0.3944   Min.   :-0.0826  \n",
      " 1st Qu.:-0.0533   1st Qu.: 0.0056  \n",
      " Median :-0.0026   Median : 0.0428  \n",
      " Mean   :-0.0054   Mean   : 0.0589  \n",
      " 3rd Qu.: 0.0000   3rd Qu.: 0.0991  \n",
      " Max.   : 1.3650   Max.   : 0.3832  \n",
      " NA's   :1546      NA's   :607      \n"
     ]
    }
   ],
   "source": [
    "%%R\n",
    "df_homo <- read_csv(\"./data/sites2.csv\")\n",
    "ddf <- ddf_aggregated %>% \n",
    "  dplyr::filter( sites %in% df_homo$sitename ) \n",
    "summary(ddf)"
   ]
  },
  {
   "cell_type": "code",
   "execution_count": 54,
   "id": "9b4b0986-78d3-483c-9d85-3a94a8ccd961",
   "metadata": {},
   "outputs": [],
   "source": [
    "%%R\n",
    "ddf_lst_aqua <- ddf %>% \n",
    "    select(YY, MM, DD, sites, lst_aqua, b01, b02, b03, b04, b05, b06, b07, b08, b09, b10, b11, b12, b13, b14, b15, b16) %>%\n",
    "    rename(site = sites)  %>%\n",
    "    mutate(date = ymd(paste(as.character(YY), as.character(MM), as.character(DD), sep=\"-\")))\n"
   ]
  },
  {
   "cell_type": "code",
   "execution_count": 55,
   "id": "ac36952b-c07b-49ba-a33c-0251ba14bcad",
   "metadata": {},
   "outputs": [],
   "source": [
    "%%R\n",
    "ddf_ <- ddf %>% \n",
    "    select(YY, MM, DD, sites, lst_aqua, b01, b02, b03, b04, b05, b06, b07, b08, b09, b10, b11, b12, b13, b14) %>%\n",
    "    rename(site = sites)  %>%\n",
    "    mutate(date = ymd(paste(as.character(YY), as.character(MM), as.character(DD), sep=\"-\")))\n"
   ]
  },
  {
   "cell_type": "code",
   "execution_count": 56,
   "id": "de859992-70d2-46d7-9ae1-21497e55a815",
   "metadata": {},
   "outputs": [],
   "source": [
    "%%R\n",
    "ddf_lst_aqua_indices <- ddf %>% \n",
    "    select(YY, MM, DD, sites, lst_aqua, ndvi, evi, NIRv, cci, pri) %>%\n",
    "    rename(site = sites)  %>%\n",
    "    mutate(date = ymd(paste(as.character(YY), as.character(MM), as.character(DD), sep=\"-\")))\n"
   ]
  },
  {
   "cell_type": "code",
   "execution_count": 57,
   "id": "02ff8bf2-7d0e-467f-86ba-7d3618378719",
   "metadata": {},
   "outputs": [],
   "source": [
    "%%R\n",
    "ddf_lst_aqua_selected_bands <- ddf %>% \n",
    "    select(YY, MM, DD, sites, lst_aqua, b02, b01, b03, b11, b12) %>% # bands used to calculate indices\n",
    "    rename(site = sites)  %>%\n",
    "    mutate(date = ymd(paste(as.character(YY), as.character(MM), as.character(DD), sep=\"-\")))\n"
   ]
  },
  {
   "cell_type": "code",
   "execution_count": 58,
   "id": "ab7af4ec-494d-4985-bb63-e23cccdd2449",
   "metadata": {},
   "outputs": [],
   "source": [
    "# %%R\n",
    "# #todo: implement results for terra\n",
    "# ddf_lst_terra <- ddf %>% \n",
    "#     select(YY, MM, DD, sites, terra_aqua, b01, b02, b03, b04, b05, b06, b07, b08, b09, b10, b11, b12, b13, b14, b15, b16) %>%\n",
    "#     mutate(date = ymd(paste(as.character(YY), as.character(MM), as.character(DD), sep=\"-\")))"
   ]
  },
  {
   "cell_type": "code",
   "execution_count": 59,
   "id": "d6980522-11b1-43e7-aa8d-d8516da55927",
   "metadata": {},
   "outputs": [
    {
     "name": "stdout",
     "output_type": "stream",
     "text": [
      "# A tibble: 12,748 × 22\n",
      "# Groups:   site, YY, MM [882]\n",
      "      YY    MM    DD site   lst_aqua   b01   b02    b03   b04   b05   b06   b07\n",
      "   <dbl> <dbl> <dbl> <chr>     <dbl> <dbl> <dbl>  <dbl> <dbl> <dbl> <dbl> <dbl>\n",
      " 1  2009    10    10 AR-Vir     302.  242. 2375.  130.   336. 2240. 1094.  367.\n",
      " 2  2009    10    11 AR-Vir     NaN  8283. 8136. 8337.  8365. 6160. 3029. 1760.\n",
      " 3  2009    10    12 AR-Vir     298.  326. 2712.  173.   424. 2508. 1333.  511.\n",
      " 4  2009    10    14 AR-Vir     302. 4415. 5460. 4278.  4414. 5394. 4311. 3033.\n",
      " 5  2009    10    15 AR-Vir     NaN  5904. 6460. 5579.  5824. 6262. 5769. 4242.\n",
      " 6  2009    10    16 AR-Vir     295. 5524. 6237. 5512.  5520. 5760. 4884. 3203.\n",
      " 7  2009    10    18 AR-Vir     301.  398. 3375.  224.   538. 2942. 1556.  592.\n",
      " 8  2009    10    20 AR-Vir     302.  320. 2454.  160.   405. 2132. 1097.  416.\n",
      " 9  2009    10    21 AR-Vir     NaN  7639. 7802. 7487.  7577. 6637. 3201. 1961.\n",
      "10  2009    10    22 AR-Vir     302.  175. 2201.   87.5  260. 2018.  917.  288.\n",
      "# … with 12,738 more rows, and 10 more variables: b08 <dbl>, b09 <dbl>,\n",
      "#   b10 <dbl>, b11 <dbl>, b12 <dbl>, b13 <dbl>, b14 <dbl>, b15 <dbl>,\n",
      "#   b16 <dbl>, date <date>\n"
     ]
    }
   ],
   "source": [
    "%%R\n",
    "ddf_lst_aqua"
   ]
  },
  {
   "cell_type": "code",
   "execution_count": 60,
   "id": "49da3e1b-c02c-402d-b921-b181a42a299d",
   "metadata": {},
   "outputs": [
    {
     "name": "stdout",
     "output_type": "stream",
     "text": [
      "Rows: 233369 Columns: 7\n",
      "── Column specification ────────────────────────────────────────────────────────\n",
      "Delimiter: \",\"\n",
      "chr  (2): site, cluster\n",
      "dbl  (3): year, doy, flue\n",
      "lgl  (1): is_flue_drought\n",
      "date (1): date\n",
      "\n",
      "ℹ Use `spec()` to retrieve the full column specification for this data.\n",
      "ℹ Specify the column types or set `show_col_types = FALSE` to quiet this message.\n"
     ]
    }
   ],
   "source": [
    "%%R\n",
    "#adapt which ddf_lst_ to analyse\n",
    "ddf <- read_csv(\"data/flue_stocker18nphyt.csv\") %>% \n",
    "  dplyr::select(site, date, flue, is_flue_drought) %>%\n",
    "  right_join(ddf_lst_aqua, by=c(\"site\", \"date\"))"
   ]
  },
  {
   "cell_type": "code",
   "execution_count": 61,
   "id": "3646d4ec-2e39-484b-8933-3a249379c520",
   "metadata": {},
   "outputs": [
    {
     "name": "stdout",
     "output_type": "stream",
     "text": [
      "     site                date                 flue        is_flue_drought\n",
      " Length:12748       Min.   :2000-10-11   Min.   :-0.029   Mode :logical  \n",
      " Class :character   1st Qu.:2005-10-24   1st Qu.: 0.831   FALSE:9233     \n",
      " Mode  :character   Median :2008-12-14   Median : 0.984   TRUE :3005     \n",
      "                    Mean   :2008-09-12   Mean   : 0.917   NA's :510      \n",
      "                    3rd Qu.:2011-11-30   3rd Qu.: 1.011                  \n",
      "                    Max.   :2014-12-30   Max.   : 1.849                  \n",
      "                                         NA's   :6218                    \n",
      "       YY             MM              DD           lst_aqua    \n",
      " Min.   :2000   Min.   :10.00   Min.   :10.00   Min.   :245.6  \n",
      " 1st Qu.:2005   1st Qu.:10.00   1st Qu.:15.00   1st Qu.:281.2  \n",
      " Median :2008   Median :11.00   Median :21.00   Median :289.4  \n",
      " Mean   :2008   Mean   :10.99   Mean   :20.23   Mean   :293.2  \n",
      " 3rd Qu.:2011   3rd Qu.:12.00   3rd Qu.:26.00   3rd Qu.:307.1  \n",
      " Max.   :2014   Max.   :12.00   Max.   :31.00   Max.   :331.9  \n",
      "                                                NA's   :8800   \n",
      "      b01               b02             b03               b04          \n",
      " Min.   :  -46.5   Min.   :   56   Min.   :  -39.0   Min.   :  -33.75  \n",
      " 1st Qu.:  885.9   1st Qu.: 2402   1st Qu.:  503.9   1st Qu.:  813.88  \n",
      " Median : 2507.2   Median : 3598   Median : 2433.0   Median : 2483.00  \n",
      " Mean   : 3473.4   Mean   : 4254   Mean   : 3347.6   Mean   : 3470.93  \n",
      " 3rd Qu.: 5922.0   3rd Qu.: 6018   3rd Qu.: 6079.1   3rd Qu.: 6023.94  \n",
      " Max.   :14241.5   Max.   :16000   Max.   :13729.5   Max.   :14027.75  \n",
      " NA's   :873       NA's   :624     NA's   :933       NA's   :890       \n",
      "      b05               b06            b07               b08         \n",
      " Min.   :   -9.5   Min.   :  74   Min.   :  19.25   Min.   :-0.0100  \n",
      " 1st Qu.: 2663.6   1st Qu.:1824   1st Qu.: 974.25   1st Qu.: 0.0350  \n",
      " Median : 3818.0   Median :2878   Median :1803.25   Median : 0.2218  \n",
      " Mean   : 4138.9   Mean   :3058   Mean   :1953.84   Mean   : 0.3240  \n",
      " 3rd Qu.: 5556.1   3rd Qu.:4118   3rd Qu.:2737.25   3rd Qu.: 0.6053  \n",
      " Max.   :14784.0   Max.   :9783   Max.   :8768.75   Max.   : 1.3078  \n",
      " NA's   :1166      NA's   :748    NA's   :763       NA's   :719      \n",
      "      b09               b10               b11               b12         \n",
      " Min.   :-0.0100   Min.   :-0.0100   Min.   :-0.0100   Min.   :-0.0100  \n",
      " 1st Qu.: 0.0271   1st Qu.:-0.0100   1st Qu.:-0.0100   1st Qu.:-0.0100  \n",
      " Median : 0.0863   Median : 0.0467   Median : 0.0419   Median : 0.0359  \n",
      " Mean   : 0.2511   Mean   : 0.1538   Mean   : 0.1126   Mean   : 0.0946  \n",
      " 3rd Qu.: 0.4846   3rd Qu.: 0.2075   3rd Qu.: 0.1218   3rd Qu.: 0.1047  \n",
      " Max.   : 1.2533   Max.   : 1.2376   Max.   : 1.2562   Max.   : 1.1256  \n",
      " NA's   :828       NA's   :880       NA's   :846       NA's   :829      \n",
      "      b13               b14               b15             b16       \n",
      " Min.   :-0.0100   Min.   :-0.0100   Min.   :0.000   Min.   :   5   \n",
      " 1st Qu.:-0.0100   1st Qu.:-0.0100   1st Qu.:0.104   1st Qu.:1377   \n",
      " Median :-0.0100   Median :-0.0100   Median :0.133   Median :1765   \n",
      " Mean   : 0.0166   Mean   : 0.0227   Mean   :0.159   Mean   :2039   \n",
      " 3rd Qu.: 0.0185   3rd Qu.: 0.0271   3rd Qu.:0.178   3rd Qu.:2363   \n",
      " Max.   : 0.8135   Max.   : 0.7926   Max.   :0.775   Max.   :8789   \n",
      " NA's   :996       NA's   :1036      NA's   :11112   NA's   :10785  \n"
     ]
    }
   ],
   "source": [
    "%%R \n",
    "summary(ddf)"
   ]
  },
  {
   "cell_type": "markdown",
   "id": "9677e853-dc55-4a57-a076-d192ee336e22",
   "metadata": {},
   "source": [
    "Preprocessed data (subset for homogeneous sites, filtered by quality, merged with flue data and towres data)\n"
   ]
  },
  {
   "cell_type": "code",
   "execution_count": 62,
   "id": "7d86c7c0-a47f-481d-babd-8a2ecc08e291",
   "metadata": {},
   "outputs": [],
   "source": [
    "%%R\n",
    "# Shortcut N2:\n",
    "# load(\"./data/ddf_v5.Rdata\")\n",
    "# load(\"./data/metainfo_Tier1_sites_kgclimate_fluxnet2015.Rdata\")\n",
    "library(ingestr)  # to get site info\n",
    "load(\"./data/obs_eval_NT.Rdata\")"
   ]
  },
  {
   "cell_type": "markdown",
   "id": "e015ba0a-93aa-42b7-8c56-4be55e6ddcbb",
   "metadata": {},
   "source": [
    "#### Tidy data\n",
    "\n",
    "Complement info using the meta info of FLUXNET sites provided through rsofun.\n",
    "Includes temperature, APAR, and select only 5 vegetation classes. Clean database, no NA"
   ]
  },
  {
   "cell_type": "code",
   "execution_count": 63,
   "id": "59659e5c-33bd-4173-80b0-dac4f8c2a6c0",
   "metadata": {},
   "outputs": [],
   "source": [
    "%%R\n",
    "# Vegetation classes\n",
    "cv <- c(\"ENF\",\"DBF\",\"GRA\",\"EBF\",\"SAV\")\n",
    "\n",
    "ddf_nn <- ddf %>%\n",
    "  left_join(siteinfo_fluxnet2015 %>% dplyr::select(site=sitename, classid), by = \"site\") %>%\n",
    "  left_join(dplyr::rename(obs_eval_NT$ddf, site=sitename), by=c(\"site\", \"date\")) %>%\n",
    "  mutate (APAR = ppfd_fluxnet2015 * fapar) %>%\n",
    "  dplyr::filter(!is.na(flue)) %>%\n",
    "  # dplyr::select(date, site, is_flue_drought, flue, all_of(dovars), APAR, temp, classid) %>%\n",
    "  mutate(classid=factor(classid), is_flue_drought = factor(is_flue_drought)) %>%\n",
    "  drop_na()\n",
    "\n",
    " # Subset ONLY 5 classes (cv)\n",
    "ddf_nn$classid[ddf_nn$classid==\"WSA\"] <- \"SAV\"\n",
    "ddf_sub <- ddf_nn %>%\n",
    "  dplyr::filter(classid %in% cv) %>% \n",
    "  droplevels()\n",
    "save(ddf_sub, file = \"./data/ddf_sub.Rdata\")\n"
   ]
  },
  {
   "cell_type": "markdown",
   "id": "13052a25-8900-4ee0-8c97-663b0814c6ff",
   "metadata": {},
   "source": [
    "Predictors and data ready to train (ddf_sub)\n"
   ]
  },
  {
   "cell_type": "code",
   "execution_count": 58,
   "id": "1f3d4aaa-27f9-46f6-8804-f7f6b4e33abe",
   "metadata": {},
   "outputs": [],
   "source": [
    "%%R\n",
    "# Shortcut N3:\n",
    "load(\"./data/ddf_sub.Rdata\")\n",
    "complete <- c(\"ndvi\",    \"evi\",     \"cci\",     \"pri\",     \"NIRv\",    \"APAR\",  \"temp\",  \"classid\")\n",
    "all_bands_and_lst_aqua <- c(\"b01\", \"b02\", \"b03\", \"b04\", \"b05\", \"b06\", \"b07\", \"b08\", \"b09\", \"b10\", \"b11\", \"b12\", \"b13\", \"b14\", \"b15\",  \"b16\",  \"lst_aqua\",  \"classid\")\n",
    "sites <- ddf_sub$site %>% unique()"
   ]
  },
  {
   "cell_type": "code",
   "execution_count": 59,
   "id": "cf04f77f-000c-4ae9-b336-b19ed49341f0",
   "metadata": {},
   "outputs": [
    {
     "name": "stdout",
     "output_type": "stream",
     "text": [
      "# A tibble: 6 × 24\n",
      "  site   date        flue is_flue_drought    YY    MM    DD lst_aqua   b01   b02\n",
      "  <chr>  <date>     <dbl> <lgl>           <dbl> <dbl> <dbl>    <dbl> <dbl> <dbl>\n",
      "1 AR-Vir 2010-10-10 1.02  FALSE            2010    10    10     299.  308. 2818.\n",
      "2 AR-Vir 2010-10-11 1.03  FALSE            2010    10    11     300.  182. 1899.\n",
      "3 AR-Vir 2010-10-12 1.02  FALSE            2010    10    12     298.  376. 3065.\n",
      "4 AR-Vir 2010-10-14 0.993 FALSE            2010    10    14     NaN   415. 2205.\n",
      "5 AR-Vir 2010-10-15 0.990 FALSE            2010    10    15     NaN  1436. 3199.\n",
      "6 AR-Vir 2010-10-16 0.984 FALSE            2010    10    16     NaN    NA  3003.\n",
      "# … with 14 more variables: b03 <dbl>, b04 <dbl>, b05 <dbl>, b06 <dbl>,\n",
      "#   b07 <dbl>, b08 <dbl>, b09 <dbl>, b10 <dbl>, b11 <dbl>, b12 <dbl>,\n",
      "#   b13 <dbl>, b14 <dbl>, b15 <dbl>, b16 <dbl>\n"
     ]
    }
   ],
   "source": [
    "%%R\n",
    "head(ddf)"
   ]
  },
  {
   "cell_type": "code",
   "execution_count": null,
   "id": "0bfeaf7a-5c9f-489d-a23a-df6ba4dd6ddb",
   "metadata": {},
   "outputs": [],
   "source": []
  },
  {
   "cell_type": "markdown",
   "id": "17a33df3-2b69-4ee4-81c4-408eba285319",
   "metadata": {
    "tags": []
   },
   "source": [
    "### Drought classification\n",
    "\n",
    "Predictions of drought or non-drought days.\n",
    "\n",
    "#### Single split (global model)\n",
    "\n",
    "Must be split by site."
   ]
  },
  {
   "cell_type": "code",
   "execution_count": 60,
   "id": "8bb53bcf-65a9-422b-99bb-2c5b23c2bfd5",
   "metadata": {
    "scrolled": true
   },
   "outputs": [
    {
     "name": "stdout",
     "output_type": "stream",
     "text": [
      "There are  11 sites and thus nsites_train is 9"
     ]
    }
   ],
   "source": [
    "%%R\n",
    "set.seed(1982)\n",
    "cat(\"There are \",length(sites),\"sites and thus nsites_train is\",length(sites)-2)\n",
    "nsites_train <- floor(0.8*length(sites))\n",
    "sites_train <- sample(sites, nsites_train)\n",
    "df_train <- ddf_sub %>% \n",
    "  dplyr::filter(site %in% sites_train)\n",
    "df_test <- ddf_sub %>% \n",
    "  dplyr::filter(!(site %in% sites_train))"
   ]
  },
  {
   "cell_type": "code",
   "execution_count": 61,
   "id": "9c7c516c-9f73-4e9c-a94f-8e27175606fc",
   "metadata": {},
   "outputs": [
    {
     "name": "stdout",
     "output_type": "stream",
     "text": [
      " [1] \"DE-Obe\" \"DE-Tha\" \"FI-Hyy\" \"IT-Cpz\" \"IT-Ro1\" \"IT-SRo\" \"NL-Loo\" \"RU-Fyo\"\n",
      " [9] \"US-MMS\" \"US-UMB\" \"US-UMd\"\n"
     ]
    }
   ],
   "source": [
    "%%R\n",
    "sites"
   ]
  },
  {
   "cell_type": "code",
   "execution_count": 62,
   "id": "cddd37d0-7453-472f-bd3a-095fd49b4f2e",
   "metadata": {},
   "outputs": [
    {
     "name": "stdout",
     "output_type": "stream",
     "text": [
      " [1] \"AR-Vir\" \"AU-Ade\" \"AU-ASM\" \"AU-DaP\" \"AU-DaS\" \"AU-Dry\" \"AU-How\" \"AU-Stp\"\n",
      " [9] \"AU-Wom\" \"CH-Lae\" \"DE-Kli\" \"DE-Obe\" \"DE-Spw\" \"DE-Tha\" \"FI-Hyy\" \"FR-Fon\"\n",
      "[17] \"FR-LBr\" \"FR-Pue\" \"IT-Cpz\" \"IT-Ro1\" \"IT-SRo\" \"JP-SMF\" \"NL-Loo\" \"RU-Fyo\"\n",
      "[25] \"SD-Dem\" \"US-Ha1\" \"US-MMS\" \"US-SRG\" \"US-SRM\" \"US-UMB\" \"US-UMd\"\n"
     ]
    }
   ],
   "source": [
    "%%R\n",
    "df_homo$sitename\n",
    "# why are there so little sites left..."
   ]
  },
  {
   "cell_type": "markdown",
   "id": "74838e40-42b3-49ef-8fc7-b339d224fb23",
   "metadata": {},
   "source": [
    "Train model on a single training set and evaluate on the single testing set from the initial split\n"
   ]
  },
  {
   "cell_type": "code",
   "execution_count": null,
   "id": "9d284068-ebe3-4825-bacb-6a752aa778bc",
   "metadata": {},
   "outputs": [],
   "source": []
  },
  {
   "cell_type": "code",
   "execution_count": 63,
   "id": "be65c4f0-03c6-4ff5-87c9-78c78e873935",
   "metadata": {},
   "outputs": [],
   "source": [
    "import os\n",
    "if not os.path.exists(\"results\"):\n",
    "    os.makedirs(\"results\")"
   ]
  },
  {
   "cell_type": "markdown",
   "id": "49e27c63-a6ff-4b5c-98c7-54af4989486f",
   "metadata": {},
   "source": [
    "<span style=\"color:red\">**Analysis Task:**</span> \n",
    "- write a more structured To do list.\n",
    "- Use different ML algorithms of wrap_ml, start simpe then use logicaly potential alternatives (gaussian processing - maybe the point sources are too far appart?, ...? ) compare them ? roc curve?\n",
    "- the hydraulic computation presentation was combining point sources and satellite data through machine learning.Can the point source data be reused for the modelling? Even though it aso trained the satellite data. Still it more precise.\n",
    "- roc improvement of including variables?\n",
    "- Consider the time as well\n",
    "- Write something to save the plots"
   ]
  },
  {
   "cell_type": "code",
   "execution_count": 64,
   "id": "626857d3-9bd0-4ed3-aed4-d0650acf5f4c",
   "metadata": {
    "scrolled": true
   },
   "outputs": [
    {
     "name": "stdout",
     "output_type": "stream",
     "text": [
      " Accuracy     Kappa \n",
      "0.9736842 0.0000000 \n"
     ]
    }
   ],
   "source": [
    "%%R\n",
    "# Train model on a single training set and evaluate on the single testing set from the initial split\n",
    "filn_lst_aqua <- \"./results/modl_is_flue_drought_nnet_GLOBAL_lst_aqua4.Rdata\"\n",
    "if (!file.exists(filn_lst_aqua)){\n",
    "  modl_lst_aqua <- wrap_ml( df = df_train,\n",
    "                   nam_target = \"is_flue_drought\",\n",
    "                   nam_group = \"site\",\n",
    "                   method =  \"nnet\",\n",
    "                   train_method = \"myLGOCV\",\n",
    "                   predictors = all_bands_and_lst_aqua,\n",
    "                   tune = FALSE,\n",
    "                   inner = FALSE,\n",
    "                   classification = TRUE\n",
    "                  )\n",
    "  ## save model object\n",
    "  save(modl_lst_aqua, file = filn_lst_aqua)\n",
    "\n",
    "} else {\n",
    "  load(filn_lst_aqua)\n",
    "}\n",
    "\n",
    "df_test$pred <- predict(modl_lst_aqua, newdata = df_test)\n",
    "\n",
    "confusionMatrix(data = df_test$pred, reference = df_test$is_flue_drought)\n",
    "postResample(pred = df_test$pred, obs = df_test$is_flue_drought)\n",
    "\n",
    "# is an accuracy of about 70% good? what would be useful. \n",
    "# Should there be a distintion between false positive and false negative?"
   ]
  },
  {
   "cell_type": "code",
   "execution_count": 65,
   "id": "648337ea-44df-4efa-b0d4-03a8073a00ef",
   "metadata": {},
   "outputs": [
    {
     "name": "stdout",
     "output_type": "stream",
     "text": [
      " Accuracy     Kappa \n",
      "0.9736842 0.0000000 \n"
     ]
    }
   ],
   "source": [
    "%%R\n",
    "df_test$pred <- predict(modl_lst_aqua, newdata = df_test)\n",
    "\n",
    "confusionMatrix(data = df_test$pred, reference = df_test$is_flue_drought)\n",
    "postResample(pred = df_test$pred, obs = df_test$is_flue_drought)\n",
    "\n",
    "# is an accuracy of about 70% good? what would be useful. \n",
    "# Should there be a distintion between false positive and false negative?"
   ]
  },
  {
   "cell_type": "markdown",
   "id": "180c014b-5844-46fd-94e7-02511b6f0084",
   "metadata": {},
   "source": [
    "#### Leave-group-out split \n",
    "\n",
    "This is to assess the variance of evaluation metrics derived from test sets."
   ]
  },
  {
   "cell_type": "code",
   "execution_count": 66,
   "id": "21b0e7b8-63f7-4ec5-9265-10caf775aa64",
   "metadata": {},
   "outputs": [],
   "source": [
    "%%R\n",
    "filn <- \"./results/modl_is_flue_drought_nnet_INNER_lst_aqua4.Rdata\"\n",
    "if (!file.exists(filn)){\n",
    "  modl_lst_aqua <- wrap_ml( df = ddf_sub,\n",
    "                   nam_target = \"is_flue_drought\",\n",
    "                   nam_group = \"site\",\n",
    "                   method =  \"nnet\",\n",
    "                   train_method = \"myLGOCV\",\n",
    "                   predictors = all_bands_and_lst_aqua,\n",
    "                   tune = FALSE,\n",
    "                   inner = TRUE,\n",
    "                   classification = TRUE\n",
    "                  )\n",
    "  \n",
    "  ## save model object (WARNING: IS A BIT BIG)\n",
    "  save(modl_lst_aqua, file = filn)\n",
    "} else {\n",
    "  load(filn)\n",
    "}"
   ]
  },
  {
   "cell_type": "markdown",
   "id": "ec8603ca-de72-4d8d-9dba-baa76bcdcabf",
   "metadata": {},
   "source": [
    "Get evaluation results across left-out sites from inner loop."
   ]
  },
  {
   "cell_type": "code",
   "execution_count": 67,
   "id": "79e8744f-3f8f-4aa8-b192-6d6c7413330c",
   "metadata": {},
   "outputs": [
    {
     "data": {
      "image/png": "[encoded data removed]"
     },
     "metadata": {},
     "output_type": "display_data"
    }
   ],
   "source": [
    "%%R\n",
    "df_inner <- purrr::map(modl_lst_aqua, \"results\") %>% \n",
    "  purrr::map_dbl(\"accuracy\") %>% \n",
    "  stack() %>% \n",
    "  dplyr::select(site = ind, accuracy = values) %>% \n",
    "  left_join(\n",
    "    purrr::map(modl_lst_aqua, \"results\") %>% \n",
    "      purrr::map_dbl(\"kappa\") %>% \n",
    "      stack() %>% \n",
    "      dplyr::select(site = ind, kappa = values),\n",
    "    by = \"site\"\n",
    "  )\n",
    "\n",
    "df_inner %>% knitr::kable()\n",
    "\n",
    "df_inner %>% \n",
    "  summarise(kappa_mean = mean(kappa), accuracy_mean = mean(accuracy),\n",
    "            kappa_median = median(kappa), accuracy_median = median(accuracy),\n",
    "            kappa_sd = sd(kappa), accuracy_sd = sd(accuracy)) %>% \n",
    "  knitr::kable()\n",
    "# why so little bins? was 5\n",
    "gg1 <- df_inner %>% \n",
    "  ggplot(aes(x = kappa, y = ..count..)) +\n",
    "  geom_histogram(bins = 5) +                       \n",
    "  labs(title = \"Kappa\")\n",
    "\n",
    "gg2 <- df_inner %>% \n",
    "  ggplot(aes(x = accuracy, y = ..count..)) +\n",
    "  geom_histogram(bins = 5) +\n",
    "  labs(title = \"Accuracy\")\n",
    "\n",
    "library(patchwork)\n",
    "gg2 + gg1"
   ]
  },
  {
   "cell_type": "markdown",
   "id": "0cf15c42-1188-4ed4-81e4-ceeb447cd6af",
   "metadata": {},
   "source": [
    "Combine predictions on test sets from the inner loop (on the single held-out site). This is the most relevant metric here!"
   ]
  },
  {
   "cell_type": "code",
   "execution_count": 68,
   "id": "2fd860fb-19e3-4c26-aa8b-64a55aee6803",
   "metadata": {},
   "outputs": [
    {
     "name": "stdout",
     "output_type": "stream",
     "text": [
      "Confusion Matrix and Statistics\n",
      "\n",
      "          Reference\n",
      "Prediction FALSE TRUE\n",
      "     FALSE   146    8\n",
      "     TRUE      2    0\n",
      "                                          \n",
      "               Accuracy : 0.9359          \n",
      "                 95% CI : (0.8853, 0.9688)\n",
      "    No Information Rate : 0.9487          \n",
      "    P-Value [Acc > NIR] : 0.8212          \n",
      "                                          \n",
      "                  Kappa : -0.0209         \n",
      "                                          \n",
      " Mcnemar's Test P-Value : 0.1138          \n",
      "                                          \n",
      "            Sensitivity : 0.00000         \n",
      "            Specificity : 0.98649         \n",
      "         Pos Pred Value : 0.00000         \n",
      "         Neg Pred Value : 0.94805         \n",
      "             Prevalence : 0.05128         \n",
      "         Detection Rate : 0.00000         \n",
      "   Detection Prevalence : 0.01282         \n",
      "      Balanced Accuracy : 0.49324         \n",
      "                                          \n",
      "       'Positive' Class : TRUE            \n",
      "                                          \n"
     ]
    }
   ],
   "source": [
    "%%R\n",
    "df_test_inner <- purrr::map_dfr(modl_lst_aqua, \"df_test\")\n",
    "confusionMatrix( data = df_test_inner$pred,\n",
    "                 reference = df_test_inner$is_flue_drought, \n",
    "                 positive = \"TRUE\"\n",
    "                 )"
   ]
  },
  {
   "cell_type": "markdown",
   "id": "e1228ae5-2c43-4252-81d1-74f0e8b4e09c",
   "metadata": {},
   "source": [
    "### Drought magnitude\n",
    "\n",
    "Predictions of drought magnitude.\n",
    "\n",
    "Single split (global model)\n",
    "\n",
    "Must be split by site."
   ]
  },
  {
   "cell_type": "code",
   "execution_count": 69,
   "id": "78d9ce97-e777-416a-b05a-fe49d0874aba",
   "metadata": {},
   "outputs": [],
   "source": [
    "%%R\n",
    "set.seed(1982)\n",
    "nsites_train <- floor(0.8*length(sites)) #18\n",
    "sites_train <- sample(sites, nsites_train)\n",
    "df_train <- ddf_sub %>% \n",
    "  dplyr::filter(site %in% sites_train)\n",
    "df_test <- ddf_sub %>% \n",
    "  dplyr::filter(!(site %in% sites_train))"
   ]
  },
  {
   "cell_type": "markdown",
   "id": "14ae3240-d783-475b-91a3-ea787b57e5fc",
   "metadata": {},
   "source": [
    "Train model on a single training set and evaluate on the single testing set from the initial split\n"
   ]
  },
  {
   "cell_type": "code",
   "execution_count": 70,
   "id": "5bfca95f-eadc-4539-a0a1-59cbc0a231af",
   "metadata": {},
   "outputs": [],
   "source": [
    "%%R\n",
    "filn <- \"./results/modl_flue_nnet_GLOBAL_lst_aqua4.Rdata\"\n",
    "if (!file.exists(filn)){\n",
    "  modl_lst_aqua <- wrap_ml( df = df_train,\n",
    "                   nam_target = \"flue\",\n",
    "                   nam_group = \"site\",\n",
    "                   method =  \"nnet\",\n",
    "                   train_method = \"myLGOCV\",\n",
    "                   predictors = all_bands_and_lst_aqua,\n",
    "                   tune = TRUE,\n",
    "                   inner = FALSE,\n",
    "                   classification = FALSE\n",
    "                  )\n",
    "  ## save model object\n",
    "  save(modl_lst_aqua, file = filn)\n",
    "} else {\n",
    "  load(filn)\n",
    "}"
   ]
  },
  {
   "cell_type": "code",
   "execution_count": null,
   "id": "2a589e34-3ce1-41ab-a583-c56b900f3dbf",
   "metadata": {},
   "outputs": [],
   "source": []
  },
  {
   "cell_type": "code",
   "execution_count": null,
   "id": "b0e92255-9a8e-4241-b838-84d5cb15a18f",
   "metadata": {},
   "outputs": [],
   "source": []
  },
  {
   "cell_type": "code",
   "execution_count": null,
   "id": "af9d441a-f130-4017-8d8e-1bec90221734",
   "metadata": {},
   "outputs": [],
   "source": []
  },
  {
   "cell_type": "markdown",
   "id": "2279214b-1899-4587-98ec-32b10324cced",
   "metadata": {},
   "source": [
    "## Leave-group-out split \n",
    "\n",
    "This is to assess the variance of evaluation metrics derived from test sets."
   ]
  },
  {
   "cell_type": "code",
   "execution_count": 71,
   "id": "2de4486f-7e62-4dc3-896d-06df5f9f31f3",
   "metadata": {},
   "outputs": [],
   "source": [
    "%%R\n",
    "filn <- \"./results/modl_flue_nnet_INNER_lst_aqua4.Rdata\"\n",
    "if (!file.exists(filn)){\n",
    "  modl_lst_aqua <- wrap_ml( df = ddf_sub,\n",
    "                   nam_target = \"flue\",\n",
    "                   nam_group = \"site\",\n",
    "                   method =  \"nnet\",\n",
    "                   train_method = \"myLGOCV\",\n",
    "                   predictors = all_bands_and_lst_aqua,\n",
    "                   tune = FALSE,\n",
    "                   inner = TRUE,\n",
    "                   classification = FALSE\n",
    "                  )\n",
    "  \n",
    "  ## save model object (WARNING: IS A BIT BIG)\n",
    "  save(modl_lst_aqua, file = filn)\n",
    "} else {\n",
    "  load(filn)\n",
    "}"
   ]
  },
  {
   "cell_type": "markdown",
   "id": "5b0b1593-a5dd-40b0-8cdf-abc472ad3540",
   "metadata": {},
   "source": [
    "Get evaluation results across left-out sites from inner loop.\n"
   ]
  },
  {
   "cell_type": "code",
   "execution_count": 72,
   "id": "a956cef2-b311-4270-8fe7-54cdc61dc76f",
   "metadata": {},
   "outputs": [
    {
     "data": {
      "image/png": "[encoded data removed]"
     },
     "metadata": {},
     "output_type": "display_data"
    }
   ],
   "source": [
    "%%R\n",
    "df_inner <- purrr::map_dfr(modl_lst_aqua, \"results\") %>% \n",
    "  pivot_wider(names_from = .metric, values_from = .estimate) %>% \n",
    "  dplyr::select(-.estimator)\n",
    "\n",
    "df_inner %>% knitr::kable()\n",
    "\n",
    "df_inner %>% \n",
    "  summarise(rmse_mean = mean(rmse), rsq_mean = mean(rsq),\n",
    "            rmse_median = median(rmse), rsq_median = median(rsq),\n",
    "            rmse_sd = sd(rmse), rsq_sd = sd(rsq)) %>% \n",
    "  knitr::kable()\n",
    "\n",
    "gg1 <- df_inner %>% \n",
    "  ggplot(aes(x = rmse, y = ..count..)) +\n",
    "  geom_histogram(bins = 5) +\n",
    "  labs(title = \"RMSE\")\n",
    "\n",
    "gg2 <- df_inner %>% \n",
    "  ggplot(aes(x = rsq, y = ..count..)) +\n",
    "  geom_histogram(bins = 5) +\n",
    "  labs(title = expression(italic(R)^2))\n",
    "\n",
    "gg2 + gg1"
   ]
  },
  {
   "cell_type": "markdown",
   "id": "428e9ee7-34d2-4988-a7c8-f330904d1eef",
   "metadata": {},
   "source": [
    "Combine predictions on test sets from the inner loop (on the single held-out site). This is the most relevant metric here!\n"
   ]
  },
  {
   "cell_type": "code",
   "execution_count": 73,
   "id": "a180b465-25fc-47dc-a9f3-fc38176816d8",
   "metadata": {},
   "outputs": [
    {
     "name": "stdout",
     "output_type": "stream",
     "text": [
      "$df_metrics\n",
      "# A tibble: 12 × 3\n",
      "   .metric  .estimator .estimate\n",
      "   <chr>    <chr>          <dbl>\n",
      " 1 rmse     standard     0.130  \n",
      " 2 rsq      standard     0.00670\n",
      " 3 mae      standard     0.0626 \n",
      " 4 n        standard   156      \n",
      " 5 slope    standard    -0.344  \n",
      " 6 mean_obs standard     1.00   \n",
      " 7 prmse    standard     0.130  \n",
      " 8 pmae     standard     0.0624 \n",
      " 9 bias     standard    -0.0193 \n",
      "10 pbias    standard    -0.00506\n",
      "11 cor      standard    -0.0819 \n",
      "12 cor_test standard     0.310  \n",
      "\n",
      "$gg\n"
     ]
    },
    {
     "name": "stderr",
     "output_type": "stream",
     "text": [
      "R[write to console]: `geom_smooth()` using formula 'y ~ x'\n",
      "\n"
     ]
    },
    {
     "name": "stdout",
     "output_type": "stream",
     "text": [
      "\n",
      "$linmod\n",
      "\n",
      "Call:\n",
      "lm(formula = obs ~ mod, data = df)\n",
      "\n",
      "Coefficients:\n",
      "(Intercept)          mod  \n",
      "     1.3409      -0.3439  \n",
      "\n",
      "\n",
      "$results\n",
      "# A tibble: 1 × 6\n",
      "      rsq  rmse    mae    bias  slope     n\n",
      "    <dbl> <dbl>  <dbl>   <dbl>  <dbl> <dbl>\n",
      "1 0.00670 0.130 0.0626 -0.0193 -0.344   156\n",
      "\n"
     ]
    },
    {
     "data": {
      "image/png": "[encoded data removed]"
     },
     "metadata": {},
     "output_type": "display_data"
    }
   ],
   "source": [
    "%%R\n",
    "df_test_inner <- purrr::map_dfr(modl_lst_aqua, \"df_test\")\n",
    "\n",
    "df_test_inner %>% \n",
    "  rbeni::analyse_modobs2(\"pred\", \"flue\", type = \"heat\")"
   ]
  },
  {
   "cell_type": "code",
   "execution_count": 74,
   "id": "ae267e78-bc70-4e4e-a466-ddbff32de8ff",
   "metadata": {},
   "outputs": [
    {
     "name": "stdout",
     "output_type": "stream",
     "text": [
      "# A tibble: 156 × 41\n",
      "   site  date        flue is_flue_drought    YY    MM    DD lst_aqua   b01   b02\n",
      "   <chr> <date>     <dbl> <fct>           <dbl> <dbl> <dbl>    <dbl> <dbl> <dbl>\n",
      " 1 DE-O… 2009-11-15 0.959 FALSE            2009    11    15     281. 181.  1361.\n",
      " 2 DE-O… 2009-11-18 0.976 FALSE            2009    11    18     276. 190.  1074.\n",
      " 3 DE-O… 2009-11-25 0.992 FALSE            2009    11    25     282.  89.7 1118.\n",
      " 4 DE-O… 2010-10-11 0.963 FALSE            2010    10    11     285. 134.  1275.\n",
      " 5 DE-O… 2010-10-30 0.989 FALSE            2010    10    30     284. 233.  1578.\n",
      " 6 DE-O… 2012-10-20 1.04  FALSE            2012    10    20     293. 204.  1634.\n",
      " 7 DE-O… 2013-10-22 0.997 FALSE            2013    10    22     289. 901.  2428.\n",
      " 8 DE-O… 2013-12-12 0.978 FALSE            2013    12    12     280. 303.  1606.\n",
      " 9 DE-O… 2013-12-16 1.02  FALSE            2013    12    16     282. 134.  1630 \n",
      "10 DE-O… 2013-12-17 1.02  FALSE            2013    12    17     278.  79.2 1334.\n",
      "# … with 146 more rows, and 31 more variables: b03 <dbl>, b04 <dbl>, b05 <dbl>,\n",
      "#   b06 <dbl>, b07 <dbl>, b08 <dbl>, b09 <dbl>, b10 <dbl>, b11 <dbl>,\n",
      "#   b12 <dbl>, b13 <dbl>, b14 <dbl>, b15 <dbl>, b16 <dbl>, classid <fct>,\n",
      "#   fapar <dbl>, year_dec <dbl>, ccov_cru_int <dbl>, temp_fluxnet2015 <dbl>,\n",
      "#   prec_fluxnet2015 <dbl>, vpd_fluxnet2015 <dbl>, ppfd_fluxnet2015 <dbl>,\n",
      "#   gpp_obs <dbl>, transp_obs <dbl>, soilm_obs_mean <dbl>, temp <dbl>,\n",
      "#   GPP_NT_VUT_REF <dbl>, GPP_DT_VUT_REF <dbl>, year <dbl>, APAR <dbl>, …\n"
     ]
    }
   ],
   "source": [
    "%%R\n",
    "df_test_inner"
   ]
  },
  {
   "cell_type": "code",
   "execution_count": 11,
   "id": "06df6793-aa85-4285-a081-49412dafbafe",
   "metadata": {},
   "outputs": [],
   "source": []
  },
  {
   "cell_type": "code",
   "execution_count": null,
   "id": "b0abc4e1-75e9-44a7-8b4b-eb4dc2223a3d",
   "metadata": {},
   "outputs": [],
   "source": []
  },
  {
   "cell_type": "code",
   "execution_count": null,
   "id": "07791c0b-3820-41f9-b34a-b0edd8dbf7d3",
   "metadata": {},
   "outputs": [],
   "source": []
  },
  {
   "cell_type": "code",
   "execution_count": null,
   "id": "aba5839a-af1e-4669-b502-987619af66f3",
   "metadata": {},
   "outputs": [],
   "source": []
  },
  {
   "cell_type": "code",
   "execution_count": null,
   "id": "8e240411-1391-4108-840e-91692436fed8",
   "metadata": {},
   "outputs": [],
   "source": []
  },
  {
   "cell_type": "code",
   "execution_count": null,
   "id": "0c30cb1f-6db4-4db6-b7f7-349f54848033",
   "metadata": {},
   "outputs": [],
   "source": []
  },
  {
   "cell_type": "code",
   "execution_count": null,
   "id": "cde08fad-ff93-44b3-b550-210452fad224",
   "metadata": {},
   "outputs": [],
   "source": []
  },
  {
   "cell_type": "markdown",
   "id": "41e5e998-a06e-4f94-a581-97119ccac4bd",
   "metadata": {},
   "source": [
    "# Starting to write a more efficient way to get one data frame before deciding that copy pasting and adapting a few things is faster"
   ]
  },
  {
   "cell_type": "code",
   "execution_count": 25,
   "id": "30cb033a-dbfb-440a-8c9e-beba4cd7879c",
   "metadata": {},
   "outputs": [],
   "source": [
    "%%R\n",
    "# read in criteria and return a map of which bands are to use (TRUE) and if corrections were performed (TRUE)\\\n",
    "# based on looping through QC_Data\n",
    "# QC_Data should contain an the quality control from the satellite product as well as conversion for each bit named Bit<number> in decreasing order\n",
    "# criteria should contain 3 columns QualityTarget(containing a string of the target name), \n",
    "#                                   QC_Flags(containing the flag needed for the flag to be TRUE starting with the LSB if LSB=TRUE), \n",
    "#                                   Position(containing the location of QC_Flags in the form of: <startingBit>_<endingBit> with <startingBit> < <endingBit> in increasing order\n",
    "# satellite contains a string of the satellite name\n",
    "quality_control <- function(QC_Data, criteria, satellite, length = 32, LSB = TRUE){\n",
    "    #create the df quality_mapping\n",
    "    names <- paste(satellite, criteria$QualityTarget, sep = \"_qc_\")\n",
    "    quality_mapping  <- data.frame(t(names), stringsAsFactors=FALSE)\n",
    "    #fill the df quality_mapping\n",
    "    if(LSB && length == 32){\n",
    "        for (i in 2:nrow(QC_Data)){\n",
    "            for (i in 1:nrow(criteria)){\n",
    "                interval <- strsplit(criteria$Position, split = \"_\")\n",
    "                a <- interval[[1]][1]\n",
    "                z <- interval[[1]][2]\n",
    "                flag <- \"\"\n",
    "                #for (j n 1:ncol(QC_Data)){\n",
    "                    #QC_Data[i][length-j+1]\n",
    "                #}\n",
    "                       \n",
    "            }\n",
    "        }\n",
    "    }\n",
    "    else{\n",
    "        print(\"Until now all MODIS products have a quality control where Bit0 is the least significant bit with an unsigned 32 Bit integer. If you are sure you found an exception please implement this in the quality_control function.\")\n",
    "    }\n",
    "    # use the QualityTargets as names of the variables for the df and return it\n",
    "    var_names(quality_mapping) <- as.character(unlist(quality_mapping[1,]))\n",
    "    quality_mapping[-1]\n",
    "    return(quality_mapping)\n",
    "}"
   ]
  },
  {
   "cell_type": "code",
   "execution_count": 38,
   "id": "39ca8358-eecd-4b7b-bec8-6888a93c3047",
   "metadata": {},
   "outputs": [
    {
     "ename": "SyntaxError",
     "evalue": "invalid syntax (1380011949.py, line 2)",
     "output_type": "error",
     "traceback": [
      "\u001b[0;36m  File \u001b[0;32m\"/tmp/ipykernel_679/1380011949.py\"\u001b[0;36m, line \u001b[0;32m2\u001b[0m\n\u001b[0;31m    mod09$b01_qc_mapped <- map_if(mod09$sur_refl_b01, mod09$qc_flag_b01, mod09$sur_refl_b01, else = NA)\u001b[0m\n\u001b[0m         ^\u001b[0m\n\u001b[0;31mSyntaxError\u001b[0m\u001b[0;31m:\u001b[0m invalid syntax\n"
     ]
    }
   ],
   "source": [
    "# # adds a column of passed values with NA if quality control failed            \n",
    "# # !!!!!!!!!!!!!! DOES NOT WORK !!!!!!!!!!!!!!!!!!!\n",
    "# mod09$b01_qc_mapped <- map_if(mod09$sur_refl_b01, mod09$qc_flag_b01, mod09$sur_refl_b01, else = NA)\n",
    "# mod09$b02_qc_mapped <- map_if(mod09$sur_refl_b02, mod09$qc_flag_b02, mod09$sur_refl_b02, else = NA)\n",
    "# mod09$b03_qc_mapped <- map_if(mod09$sur_refl_b03, mod09$qc_flag_b03, mod09$sur_refl_b03, else = NA)\n",
    "# mod09$b04_qc_mapped <- map_if(mod09$sur_refl_b04, mod09$qc_flag_b04, mod09$sur_refl_b04, else = NA)\n",
    "# mod09$b05_qc_mapped <- map_if(mod09$sur_refl_b05, mod09$qc_flag_b05, mod09$sur_refl_b05, else = NA)\n",
    "# mod09$b06_qc_mapped <- map_if(mod09$sur_refl_b06, mod09$qc_flag_b06, mod09$sur_refl_b06, else = NA)\n",
    "# mod09$b0_qc_mapped7 <- map_if(mod09$sur_refl_b07, mod09$qc_flag_b07, mod09$sur_refl_b07, else = NA)\n"
   ]
  },
  {
   "cell_type": "code",
   "execution_count": 42,
   "id": "1ff6a210-04ee-4d6c-8091-11fd11dffe12",
   "metadata": {},
   "outputs": [
    {
     "name": "stdout",
     "output_type": "stream",
     "text": [
      "[1] 4777.00  798.75 6264.75  658.75  522.00  781.75\n"
     ]
    }
   ],
   "source": [
    "%%R\n",
    "mod09$b01f <- NA\n",
    "mod09$b01f[mod09$qc_flag_b01==TRUE] <-mod09$sur_refl_b01\n",
    "mod09$b02f <- NA\n",
    "mod09$b02f[mod09$qc_flag_b02==TRUE] <-mod09$sur_refl_b02\n",
    "mod09$b03f <- NA\n",
    "mod09$b03f[mod09$qc_flag_b03==TRUE] <-mod09$sur_refl_b03\n",
    "mod09$b04f <- NA\n",
    "mod09$b04f[mod09$qc_flag_b04==TRUE] <-mod09$sur_refl_b04\n",
    "head(mod09$b01f)"
   ]
  },
  {
   "cell_type": "code",
   "execution_count": null,
   "id": "72f3ce9a-d970-4512-bc92-96a77f683cea",
   "metadata": {
    "tags": []
   },
   "outputs": [],
   "source": [
    "%%R\n",
    "#mod09$sur_refl_b01[mod09$sur_refl_b01==NA]"
   ]
  },
  {
   "cell_type": "code",
   "execution_count": 45,
   "id": "788395ed-dd64-430a-a56d-e4aa001a9357",
   "metadata": {
    "tags": []
   },
   "outputs": [
    {
     "name": "stdout",
     "output_type": "stream",
     "text": [
      "NULL\n"
     ]
    }
   ],
   "source": [
    "%%R\n",
    "# is not the same\n",
    "# mod09$b01 == mod09$b01f"
   ]
  },
  {
   "cell_type": "markdown",
   "id": "67bd779c-bb87-41f8-8853-635c32b9faae",
   "metadata": {},
   "source": [
    "   [1]  TRUE  TRUE  TRUE  TRUE  TRUE  TRUE  TRUE  TRUE  TRUE  TRUE  TRUE  TRUE \n",
    "   \n",
    "   [13]  TRUE  TRUE  TRUE  TRUE  TRUE    NA FALSE FALSE    NA    NA    NA FALSE\n",
    "   \n",
    "   [25] FALSE FALSE FALSE    NA FALSE FALSE FALSE FALSE FALSE FALSE FALSE FALSE\n",
    "   \n",
    "   [37] FALSE FALSE FALSE FALSE FALSE FALSE FALSE FALSE FALSE FALSE FALSE FALSE\n",
    "   \n",
    "   [49] FALSE    NA    NA FALSE    NA FALSE FALSE FALSE FALSE FALSE FALSE    NA\n",
    "   \n",
    "   [61] FALSE    NA    NA    NA    NA FALSE FALSE FALSE FALSE    NA    NA    NA\n",
    "   \n",
    "   [73]    NA FALSE FALSE FALSE FALSE FALSE FALSE FALSE FALSE FALSE FALSE FALSE\n",
    "   \n",
    "   [85] FALSE FALSE FALSE FALSE FALSE FALSE FALSE FALSE FALSE FALSE FALSE FALSE\n",
    "   \n",
    "   [97] FALSE FALSE FALSE FALSE FALSE FALSE FALSE FALSE    NA FALSE FALSE FALSE\n",
    "   \n",
    "  [109] FALSE    NA FALSE FALSE FALSE FALSE FALSE FALSE FALSE FALSE    NA FALSE\n",
    "  \n",
    "  [121] FALSE FALSE FALSE FALSE    NA FALSE FALSE FALSE FALSE FALSE FALSE FALSE\n",
    "  \n",
    "  [133] FALSE    NA FALSE FALSE FALSE FALSE FALSE FALSE FALSE FALSE FALSE FALSE"
   ]
  },
  {
   "cell_type": "code",
   "execution_count": 15,
   "id": "4e6e5bbf-7a0a-438f-9a88-edd7fbe2977a",
   "metadata": {},
   "outputs": [
    {
     "name": "stdout",
     "output_type": "stream",
     "text": [
      "            QualityTarget QC_Flags Position\n",
      "1               all_bands       00      0_1\n",
      "2                      b1     0000      2_5\n",
      "3                      b2     0000      6_9\n",
      "4                      b3     0000    10_13\n",
      "5                      b4     0000    14_17\n",
      "6                      b5     0000    18_21\n",
      "7                      b6     0000    22_25\n",
      "8                      b7     0000    26_29\n",
      "9  atmospheric_correction        1    30_30\n",
      "10   adjacency_correction        1    31_31\n"
     ]
    }
   ],
   "source": [
    "%%R\n",
    "# create flags for quality control\n",
    "# Quality control according to https://lpdaac.usgs.gov/documents/306/MOD09_User_Guide_V6.pdf\n",
    "# Table 10\n",
    "# Bit no. 0 (least significant bit) and 1: 00          all bands imediately accepted \n",
    "#                                          01, 10, 11  after further checks of each band\n",
    "# Bit no. 2-5 + 4(n-1):                    0000        band n is accepted \n",
    "# Bit no. 30                               0           no atmospheric correction performed\n",
    "# Bit no. 31                               0           no adjacency correction performed\n",
    "qflags_500 <- sort(unique(mod09$QC_500m))    # 32 bits\n",
    "QualityTarget <- c(\"all_bands\", \"b1\", \"b2\", \"b3\", \"b4\", \"b5\", \"b6\", \"b7\", \"atmospheric_correction\", \"adjacency_correction\")   # what can be determined by QC_500\n",
    "QC_Flags <- c(\"00\", \"0000\", \"0000\", \"0000\", \"0000\", \"0000\", \"0000\", \"0000\", \"1\", \"1\")        # flag such that QualityTarget is TRUE\n",
    "Position  <- c(\"0_1\", \"2_5\", \"6_9\", \"10_13\", \"14_17\", \"18_21\", \"22_25\", \"26_29\", \"30_30\",\"31_31\")       # which Bits are relevant for QC_Flags for each QualityTarget\n",
    "criteria_mod09a1 <- data.frame(QualityTarget, QC_Flags, Position)\n",
    "criteria_mod09a1"
   ]
  },
  {
   "cell_type": "code",
   "execution_count": 71,
   "id": "3ad43b7d-dc99-400e-a8b8-4571b8debb31",
   "metadata": {},
   "outputs": [],
   "source": [
    "%%R\n",
    "dates_mod09  <- mod09 %>% \n",
    "    mutate(date = ymd(paste(as.character(YY), as.character(MM), as.character(DD), sep=\"-\")))\n",
    "dates_mod09  <- dates_mod09$date"
   ]
  },
  {
   "cell_type": "code",
   "execution_count": 81,
   "id": "23996501-b169-4a69-9ea7-ad9a9c011fa8",
   "metadata": {},
   "outputs": [],
   "source": [
    "%%R\n",
    "data_lst_MOD11A2 <- df[df$band == \"LST_Day_1km\", ]"
   ]
  },
  {
   "cell_type": "code",
   "execution_count": 74,
   "id": "77bb25df-7f41-41e8-871d-9192886715d3",
   "metadata": {},
   "outputs": [],
   "source": [
    "# %%R\n",
    "# data_lst_MOD11A2 <- data_lst_MOD11A2 %>%   ########### empty after drop_na()\n",
    "#   drop_na()"
   ]
  },
  {
   "cell_type": "code",
   "execution_count": 85,
   "id": "d79d3797-fcf5-42df-be89-687cfe89cc12",
   "metadata": {},
   "outputs": [],
   "source": [
    "%%R\n",
    "dates_lst_MOD11A2 <- data_lst_MOD11A2$calendar_date"
   ]
  },
  {
   "cell_type": "code",
   "execution_count": 90,
   "id": "61303a56-8d50-4582-92a5-d544a465d972",
   "metadata": {},
   "outputs": [
    {
     "name": "stdout",
     "output_type": "stream",
     "text": [
      "   xllcorner           yllcorner           cellsize         nrows      \n",
      " Min.   :-10666385   Min.   :-4165181   Min.   :926.6   Min.   :1.000  \n",
      " 1st Qu.: -6599426   1st Qu.: 3534149   1st Qu.:926.6   1st Qu.:9.000  \n",
      " Median :   729254   Median : 4710964   Median :926.6   Median :9.000  \n",
      " Mean   :   505756   Mean   : 3593696   Mean   :926.6   Mean   :8.996  \n",
      " 3rd Qu.:  2487989   3rd Qu.: 5427245   3rd Qu.:926.6   3rd Qu.:9.000  \n",
      " Max.   : 15471865   Max.   : 8775143   Max.   :926.6   Max.   :9.000  \n",
      "     ncols           band              units              scale          \n",
      " Min.   :1.000   Length:10480092    Length:10480092    Length:10480092   \n",
      " 1st Qu.:9.000   Class :character   Class :character   Class :character  \n",
      " Median :9.000   Mode  :character   Mode  :character   Mode  :character  \n",
      " Mean   :8.996                                                           \n",
      " 3rd Qu.:9.000                                                           \n",
      " Max.   :9.000                                                           \n",
      "    latitude        longitude            site             product         \n",
      " Min.   :-37.42   Min.   :-147.488   Length:10480092    Length:10480092   \n",
      " 1st Qu.: 31.82   1st Qu.: -84.714   Class :character   Class :character  \n",
      " Median : 42.40   Median :  10.284   Mode  :character   Mode  :character  \n",
      " Mean   : 32.36   Mean   :   3.785                                        \n",
      " 3rd Qu.: 48.84   3rd Qu.:  30.478                                        \n",
      " Max.   : 78.92   Max.   : 161.339                                        \n",
      " complete         modis_date        calendar_date            tile          \n",
      " Mode:logical    Length:10480092    Min.   :2000-02-18   Length:10480092   \n",
      " TRUE:10480092   Class :character   1st Qu.:2005-03-14   Class :character  \n",
      "                 Mode  :character   Median :2010-07-04   Mode  :character  \n",
      "                                    Mean   :2010-09-11                     \n",
      "                                    3rd Qu.:2016-01-25                     \n",
      "                                    Max.   :2021-12-03                     \n",
      "   proc_date         filename            pixel           value      \n",
      " Min.   :2.015e+12   Mode:logical    Min.   : 1.00   Min.   :    0  \n",
      " 1st Qu.:2.015e+12   NA's:10480092   1st Qu.:21.00   1st Qu.:13861  \n",
      " Median :2.016e+12                   Median :41.00   Median :14541  \n",
      " Mean   :2.016e+12                   Mean   :40.98   Mean   :13105  \n",
      " 3rd Qu.:2.016e+12                   3rd Qu.:61.00   3rd Qu.:15008  \n",
      " Max.   :2.021e+12                   Max.   :81.00   Max.   :16798  \n"
     ]
    }
   ],
   "source": [
    "%%R\n",
    "summary(data_lst_MOD11A2)"
   ]
  },
  {
   "cell_type": "code",
   "execution_count": null,
   "id": "f72d9b9d-c06a-451d-84fb-57195571e4c2",
   "metadata": {},
   "outputs": [],
   "source": [
    "%%R"
   ]
  },
  {
   "cell_type": "code",
   "execution_count": 89,
   "id": "17b552c4-bde4-4eaa-81f0-8c6fbeae167a",
   "metadata": {},
   "outputs": [
    {
     "name": "stdout",
     "output_type": "stream",
     "text": [
      "[1] 182320\n"
     ]
    }
   ],
   "source": [
    "%%R\n",
    "sum(dates_mod09 %in% dates_lst_MOD11A2)"
   ]
  },
  {
   "cell_type": "code",
   "execution_count": null,
   "id": "b351b1a8-49e3-4fc5-8ce4-48b98e31ba75",
   "metadata": {},
   "outputs": [],
   "source": []
  }
 ],
 "metadata": {
  "kernelspec": {
   "display_name": "Python 3 (ipykernel)",
   "language": "python",
   "name": "python3"
  },
  "language_info": {
   "codemirror_mode": {
    "name": "ipython",
    "version": 3
   },
   "file_extension": ".py",
   "mimetype": "text/x-python",
   "name": "python",
   "nbconvert_exporter": "python",
   "pygments_lexer": "ipython3",
   "version": "3.10.1"
  }
 },
 "nbformat": 4,
 "nbformat_minor": 5
}
